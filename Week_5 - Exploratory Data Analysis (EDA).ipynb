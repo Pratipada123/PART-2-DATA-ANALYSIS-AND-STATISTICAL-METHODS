{
 "cells": [
  {
   "cell_type": "code",
   "execution_count": 1,
   "id": "be3f537c-40d6-4cc9-a9b1-ad42773d2747",
   "metadata": {},
   "outputs": [],
   "source": [
    "# Theory: Learn the importance of EDA, techniques for summarizing datasets and descriptive statistics (mean, median, standard deviation).\n",
    "# Hands-On: Perform basic EDA on a dataset (e.g., summary statistics, correlation analysis).\n",
    "# Client Project: Perform EDA on a client-provided dataset and present insights."
   ]
  },
  {
   "cell_type": "markdown",
   "id": "74785f4b-5b2a-48aa-ac48-ae70c8d33561",
   "metadata": {},
   "source": [
    "**1. Theory: Learn the importance of EDA, techniques for summarizing datasets and descriptive statistics (mean, median, standard deviation).**"
   ]
  },
  {
   "cell_type": "markdown",
   "id": "d03bd7c3-821e-4e38-9383-ca8c745319df",
   "metadata": {},
   "source": [
    "**Exploratory Data Analysis (EDA)**\n",
    "\n",
    "- Exploratory Data Analysis (EDA) is a crucial step in the data analysis process where analysts explore, visualize, and summarize the main characteristics of a dataset before applying any formal modeling or hypothesis testing.\n",
    "\n",
    "**Importance of EDA**\n",
    "\n",
    "- Understanding the Data: Identifies data structure, patterns, and relationships.\n",
    "\n",
    "- Detecting Anomalies: Reveals missing values, outliers, or inconsistencies.\n",
    "\n",
    "- Guiding Further Analysis: Helps choose appropriate models or algorithms.\n",
    "\n",
    "- Validating Assumptions: Ensures assumptions for statistical methods are reasonable.\n",
    "\n",
    "- Communicating Results: Through visualizations and summaries that are easily interpretable."
   ]
  },
  {
   "cell_type": "markdown",
   "id": "057f4c10-72ae-4e47-911e-e096aa5dc291",
   "metadata": {},
   "source": [
    "**Techniques for Summarizing Datasets**"
   ]
  },
  {
   "cell_type": "markdown",
   "id": "f66a4876-6bc4-4aba-a307-5b025b80b0f9",
   "metadata": {},
   "source": [
    "- EDA involves both numerical and graphical methods. These techniques fall under univariate, bivariate, and multivariate analysis."
   ]
  },
  {
   "cell_type": "markdown",
   "id": "a3f2b9ea-f888-44cc-a5ed-667bacc5c1e8",
   "metadata": {},
   "source": [
    "**A. Univariate Analysis (1 variable at a time)**\n",
    "\n",
    "- Focuses on understanding the distribution and nature of a single variable.\n",
    "\n",
    "**For Numerical Variables:**\n",
    "\n",
    "- Summary statistics: mean, median, mode, standard deviation, variance\n",
    "\n",
    "**Visuals**\n",
    "\n",
    "- Histogram: shows frequency distribution\n",
    "\n",
    "- Box plot: shows median, quartiles, and outliers\n",
    "\n",
    "- Density plot: smooth version of histogram\n",
    "\n",
    "**For Categorical Variables:**\n",
    "\n",
    "- Frequency table: counts of each category\n",
    "\n",
    "- Bar chart: visual representation of category counts\n",
    "\n",
    "- Pie chart: percentage representation (less preferred)\n",
    "\n",
    "**B. Bivariate Analysis (2 variables)**\n",
    "\n",
    "- Focuses on understanding relationships between two variables.\n",
    "\n",
    "**Techniques:**\n",
    "\n",
    "- Scatter plot (numerical vs numerical): visualizes correlation\n",
    "\n",
    "- Box plot (numerical vs categorical): shows distribution by group\n",
    "\n",
    "- Correlation coefficient (Pearson’s r): measures linear relationship\n",
    "\n",
    "- Cross-tabulation (categorical vs categorical): frequency matrix\n",
    "\n",
    "**C. Multivariate Analysis (3+ variables)**\n",
    "\n",
    "- Analyzes the interaction of multiple variables.\n",
    "\n",
    "**Techniques:**\n",
    "\n",
    "- Pair plot: scatter plots for all variable combinations\n",
    "\n",
    "- Heatmap: visual correlation matrix\n",
    "\n",
    "- Group-wise summary statistics (e.g., mean income by gender and age group)\n",
    "\n",
    "- Dimensionality reduction (e.g., PCA)"
   ]
  },
  {
   "cell_type": "markdown",
   "id": "6eaf1264-df42-44f6-9fb4-7d4beee66e06",
   "metadata": {},
   "source": [
    "**descriptive statistics (mean, median, standard deviation).**"
   ]
  },
  {
   "cell_type": "markdown",
   "id": "447fa0d8-ea72-484f-8fd3-729d9d9a9cbf",
   "metadata": {},
   "source": [
    "- Descriptive statistics help us summarize the central tendency, dispersion, and shape of a dataset."
   ]
  },
  {
   "cell_type": "markdown",
   "id": "c1b07751-44cc-4c38-a85c-f4c5ce7da18e",
   "metadata": {},
   "source": [
    "**Mean**\n",
    "- The mean is the average value of a dataset. It is a measure of central tendency, helping us understand where the center of the data lies."
   ]
  },
  {
   "cell_type": "markdown",
   "id": "dd2dbc9a-0528-472c-ad64-e94e374eea65",
   "metadata": {},
   "source": [
    "**Formula of the Mean**\n",
    "\n",
    "- For a population of n values:\n",
    "     - Mean(μ)=x1​+x2​+x3​+⋯+xn​​/n"
   ]
  },
  {
   "cell_type": "markdown",
   "id": "bea4cce2-4fe7-4b3b-94a0-33d671e555e2",
   "metadata": {},
   "source": [
    "**Use the mean when:**\n",
    "\n",
    "- The data is symmetric and not heavily skewed.\n",
    "\n",
    "- There are no extreme outliers.\n",
    "\n",
    "- You want a value that reflects all data points."
   ]
  },
  {
   "cell_type": "code",
   "execution_count": 3,
   "id": "01ac376a-3c12-4d29-bc2a-576754f2add7",
   "metadata": {},
   "outputs": [
    {
     "name": "stdout",
     "output_type": "stream",
     "text": [
      "Mean is: 10.0\n"
     ]
    }
   ],
   "source": [
    "import numpy as np\n",
    "\n",
    "data = [5, 8, 10, 12, 15]\n",
    "mean = np.mean(data)\n",
    "print(\"Mean is:\", mean)"
   ]
  },
  {
   "cell_type": "markdown",
   "id": "98728ac6-0ea5-4f93-9af3-6a6d08bb9b18",
   "metadata": {},
   "source": [
    "**Median**"
   ]
  },
  {
   "cell_type": "markdown",
   "id": "6dbe4e14-99e7-43c9-abbf-356aca78402a",
   "metadata": {},
   "source": [
    "- The median is the middle value of a dataset when the data is ordered from smallest to largest. \n",
    "- It is a measure of central tendency that is especially useful when your data is skewed or contains outliers."
   ]
  },
  {
   "cell_type": "markdown",
   "id": "85c9833e-2cd0-41c9-ba46-2505be2def66",
   "metadata": {},
   "source": [
    "**How to Calculate the Median**\n",
    "\n",
    "- Sort the data in ascending order.\n",
    "\n",
    "- Check how many numbers you have:\n",
    "\n",
    "- If odd, the median is the middle number.\n",
    "\n",
    "- If even, the median is the average of the two middle numbers."
   ]
  },
  {
   "cell_type": "code",
   "execution_count": 6,
   "id": "53f39b57-c4a5-424f-af4e-19b2bafe8752",
   "metadata": {},
   "outputs": [
    {
     "name": "stdout",
     "output_type": "stream",
     "text": [
      "Median (odd): 9.0\n",
      "Median (even): 5.0\n"
     ]
    }
   ],
   "source": [
    "import numpy as np\n",
    "\n",
    "data1 = [3, 7, 9, 11, 13]\n",
    "data2 = [2, 4, 6, 8]\n",
    "\n",
    "print(\"Median (odd):\", np.median(data1))\n",
    "print(\"Median (even):\", np.median(data2))"
   ]
  },
  {
   "cell_type": "markdown",
   "id": "8ef17227-e739-49eb-aa18-3f98f4f549b2",
   "metadata": {},
   "source": [
    "**Mode**\n",
    "- The mode is the value that appears most frequently in a dataset.\n",
    "- It is a measure of central tendency like the mean and median, but it focuses on frequency, not value."
   ]
  },
  {
   "cell_type": "code",
   "execution_count": 7,
   "id": "85019768-76ee-4ced-a185-28f7c6ab2d25",
   "metadata": {},
   "outputs": [
    {
     "name": "stdout",
     "output_type": "stream",
     "text": [
      "Mode: 4\n"
     ]
    }
   ],
   "source": [
    "import statistics\n",
    "\n",
    "data = [1, 2, 2, 3, 4, 4, 4, 5]\n",
    "print(\"Mode:\", statistics.mode(data))"
   ]
  },
  {
   "cell_type": "code",
   "execution_count": 8,
   "id": "5267bb76-ebea-4bd4-9b97-254b7e64ef11",
   "metadata": {},
   "outputs": [
    {
     "name": "stdout",
     "output_type": "stream",
     "text": [
      "Modes: [2, 3]\n"
     ]
    }
   ],
   "source": [
    "from collections import Counter\n",
    "\n",
    "data = [1, 2, 2, 3, 3, 4]\n",
    "counts = Counter(data)\n",
    "max_freq = max(counts.values())\n",
    "modes = [k for k, v in counts.items() if v == max_freq]\n",
    "print(\"Modes:\", modes)"
   ]
  },
  {
   "cell_type": "markdown",
   "id": "aedc20f9-ded4-449f-83a5-d858e20d611d",
   "metadata": {},
   "source": [
    "**Standard Deviation**\n",
    "  \n",
    "- Standard Deviation (SD) is a measure of dispersion that shows how much individual values in a dataset differ from the mean.\n",
    "- It tells you how spread out or concentrated the data is around the average."
   ]
  },
  {
   "cell_type": "markdown",
   "id": "05d9ceef-46ce-4010-9abe-52ed8f675bba",
   "metadata": {},
   "source": [
    "**Key Concept**\n",
    "  \n",
    "- If SD is small → values are close to the mean → less variability\n",
    "- If SD is large → values are spread out → more variability"
   ]
  },
  {
   "cell_type": "markdown",
   "id": "0fe9c0df-d4ae-45c6-b623-45efa0ffd923",
   "metadata": {},
   "source": [
    "- The theoretical standard deviation is used when you know the entire probability distribution of a variable (not just a dataset). \n",
    "- It is based on probability theory — especially in statistics, probability distributions, and mathematical models."
   ]
  },
  {
   "cell_type": "code",
   "execution_count": 9,
   "id": "c849536b-f8a5-4982-aef2-636199664568",
   "metadata": {},
   "outputs": [
    {
     "name": "stdout",
     "output_type": "stream",
     "text": [
      "Sample Standard Deviation: 1.9235384061671346\n",
      "Population Standard Deviation: 1.7204650534085253\n"
     ]
    }
   ],
   "source": [
    "import numpy as np\n",
    "\n",
    "data = [4, 8, 6, 5, 3]\n",
    "\n",
    "# Sample standard deviation\n",
    "sample_sd = np.std(data, ddof=1)\n",
    "print(\"Sample Standard Deviation:\", sample_sd)\n",
    "\n",
    "# Population standard deviation\n",
    "population_sd = np.std(data, ddof=0)\n",
    "print(\"Population Standard Deviation:\", population_sd)"
   ]
  },
  {
   "cell_type": "code",
   "execution_count": 12,
   "id": "f45c4ad9-ed1e-446e-ba34-90f884152fc9",
   "metadata": {},
   "outputs": [
    {
     "name": "stdout",
     "output_type": "stream",
     "text": [
      "Sample Standard Deviation: 2.23606797749979\n",
      "Population Standard Deviation: 2.0\n"
     ]
    }
   ],
   "source": [
    "def mean(data):\n",
    "    return sum(data) / len(data)\n",
    "\n",
    "def variance(data, sample=True):\n",
    "    mu = mean(data)\n",
    "    n = len(data)\n",
    "    squared_diffs = [(x - mu) ** 2 for x in data]\n",
    "    if sample:\n",
    "        return sum(squared_diffs) / (n - 1)\n",
    "    else:\n",
    "        return sum(squared_diffs) / n\n",
    "\n",
    "def standard_deviation(data, sample=True):\n",
    "    return variance(data, sample) ** 0.5\n",
    "\n",
    "# Example data\n",
    "data = [4, 8, 6, 5, 2]\n",
    "\n",
    "print(\"Sample Standard Deviation:\", standard_deviation(data, sample=True))\n",
    "print(\"Population Standard Deviation:\", standard_deviation(data, sample=False))"
   ]
  },
  {
   "cell_type": "markdown",
   "id": "802ff382-5549-47d4-86ee-8e1deb284b71",
   "metadata": {},
   "source": [
    "**2. Hands-On: Perform basic EDA on a dataset (e.g., summary statistics, correlation\n",
    "analysis).**"
   ]
  },
  {
   "cell_type": "markdown",
   "id": "8eb3471a-44b7-43c9-9cf3-1420a0e513cf",
   "metadata": {},
   "source": [
    "**Step 1: Understand the Data**\n",
    "\n",
    "- Goal: Know what each column means and what type of data it holds (numerical, categorical).\n",
    "\n",
    "- Check how many rows and columns the dataset has.\n",
    "\n",
    "- Identify missing values or anomalies."
   ]
  },
  {
   "cell_type": "markdown",
   "id": "5f00b3c9-3f7e-4547-b774-d46b16e27346",
   "metadata": {},
   "source": [
    "**Step 2: Load the Dataset**\n",
    "\n",
    "- Load your data into a tool like Python’s pandas DataFrame for easy manipulation."
   ]
  },
  {
   "cell_type": "code",
   "execution_count": 14,
   "id": "32e911d3-cc63-4b2c-9c3c-e0086d5072dd",
   "metadata": {},
   "outputs": [
    {
     "data": {
      "text/html": [
       "<div>\n",
       "<style scoped>\n",
       "    .dataframe tbody tr th:only-of-type {\n",
       "        vertical-align: middle;\n",
       "    }\n",
       "\n",
       "    .dataframe tbody tr th {\n",
       "        vertical-align: top;\n",
       "    }\n",
       "\n",
       "    .dataframe thead th {\n",
       "        text-align: right;\n",
       "    }\n",
       "</style>\n",
       "<table border=\"1\" class=\"dataframe\">\n",
       "  <thead>\n",
       "    <tr style=\"text-align: right;\">\n",
       "      <th></th>\n",
       "      <th>Student</th>\n",
       "      <th>Math</th>\n",
       "      <th>English</th>\n",
       "      <th>Science</th>\n",
       "    </tr>\n",
       "  </thead>\n",
       "  <tbody>\n",
       "    <tr>\n",
       "      <th>0</th>\n",
       "      <td>1</td>\n",
       "      <td>85</td>\n",
       "      <td>78</td>\n",
       "      <td>92</td>\n",
       "    </tr>\n",
       "    <tr>\n",
       "      <th>1</th>\n",
       "      <td>2</td>\n",
       "      <td>90</td>\n",
       "      <td>88</td>\n",
       "      <td>95</td>\n",
       "    </tr>\n",
       "    <tr>\n",
       "      <th>2</th>\n",
       "      <td>3</td>\n",
       "      <td>75</td>\n",
       "      <td>85</td>\n",
       "      <td>80</td>\n",
       "    </tr>\n",
       "    <tr>\n",
       "      <th>3</th>\n",
       "      <td>4</td>\n",
       "      <td>60</td>\n",
       "      <td>70</td>\n",
       "      <td>65</td>\n",
       "    </tr>\n",
       "    <tr>\n",
       "      <th>4</th>\n",
       "      <td>5</td>\n",
       "      <td>95</td>\n",
       "      <td>92</td>\n",
       "      <td>98</td>\n",
       "    </tr>\n",
       "  </tbody>\n",
       "</table>\n",
       "</div>"
      ],
      "text/plain": [
       "   Student  Math  English  Science\n",
       "0        1    85       78       92\n",
       "1        2    90       88       95\n",
       "2        3    75       85       80\n",
       "3        4    60       70       65\n",
       "4        5    95       92       98"
      ]
     },
     "execution_count": 14,
     "metadata": {},
     "output_type": "execute_result"
    }
   ],
   "source": [
    "import pandas as pd\n",
    "\n",
    "# Sample dataset\n",
    "data = {\n",
    "    'Student': [1, 2, 3, 4, 5],\n",
    "    'Math': [85, 90, 75, 60, 95],\n",
    "    'English': [78, 88, 85, 70, 92],\n",
    "    'Science': [92, 95, 80, 65, 98]\n",
    "}\n",
    "\n",
    "df = pd.DataFrame(data)\n",
    "df"
   ]
  },
  {
   "cell_type": "markdown",
   "id": "f0412e1a-8e5f-4651-8cc8-ed4cb959e7ca",
   "metadata": {},
   "source": [
    "**Step 3: View the Data**\n",
    "\n",
    "- Use .head() to see first few rows.\n",
    "\n",
    "- Use .info() to get data types and non-null counts.\n",
    "\n",
    "- Use .shape to check size."
   ]
  },
  {
   "cell_type": "code",
   "execution_count": 16,
   "id": "cee31933-42bf-4f20-abcf-a8cf24cc8b33",
   "metadata": {},
   "outputs": [
    {
     "name": "stdout",
     "output_type": "stream",
     "text": [
      "   Student  Math  English  Science\n",
      "0        1    85       78       92\n",
      "1        2    90       88       95\n",
      "2        3    75       85       80\n",
      "3        4    60       70       65\n",
      "4        5    95       92       98\n",
      "<class 'pandas.core.frame.DataFrame'>\n",
      "RangeIndex: 5 entries, 0 to 4\n",
      "Data columns (total 4 columns):\n",
      " #   Column   Non-Null Count  Dtype\n",
      "---  ------   --------------  -----\n",
      " 0   Student  5 non-null      int64\n",
      " 1   Math     5 non-null      int64\n",
      " 2   English  5 non-null      int64\n",
      " 3   Science  5 non-null      int64\n",
      "dtypes: int64(4)\n",
      "memory usage: 292.0 bytes\n",
      "None\n",
      "(5, 4)\n"
     ]
    }
   ],
   "source": [
    "# First 5 rows\n",
    "print(df.head())  \n",
    "# Data types and missing values\n",
    "print(df.info())\n",
    "# (rows, columns)\n",
    "print(df.shape)        "
   ]
  },
  {
   "cell_type": "markdown",
   "id": "5693ef68-c1d9-4e0d-8fa1-89cea647fc47",
   "metadata": {},
   "source": [
    "**Step 4: Summary Statistics**\n",
    "\n",
    "- Get a quick statistical summary for numerical columns: mean, median, std deviation, min, max, percentiles."
   ]
  },
  {
   "cell_type": "code",
   "execution_count": 17,
   "id": "5e25aa1c-9a34-4ee7-b6c0-10d56c50f5ff",
   "metadata": {},
   "outputs": [
    {
     "name": "stdout",
     "output_type": "stream",
     "text": [
      "        Student       Math   English    Science\n",
      "count  5.000000   5.000000   5.00000   5.000000\n",
      "mean   3.000000  81.000000  82.60000  86.000000\n",
      "std    1.581139  13.874437   8.70632  13.583078\n",
      "min    1.000000  60.000000  70.00000  65.000000\n",
      "25%    2.000000  75.000000  78.00000  80.000000\n",
      "50%    3.000000  85.000000  85.00000  92.000000\n",
      "75%    4.000000  90.000000  88.00000  95.000000\n",
      "max    5.000000  95.000000  92.00000  98.000000\n"
     ]
    }
   ],
   "source": [
    "print(df.describe())"
   ]
  },
  {
   "cell_type": "markdown",
   "id": "8853f6d2-d9cd-49b4-9a30-945f0f02dc56",
   "metadata": {},
   "source": [
    "**Step 5: Check for Missing Values**\n",
    "\n",
    "- Find if any data points are missing — crucial for cleaning."
   ]
  },
  {
   "cell_type": "code",
   "execution_count": 18,
   "id": "c00b1f5f-03e7-4ee9-bc49-9901eb04aacd",
   "metadata": {},
   "outputs": [
    {
     "name": "stdout",
     "output_type": "stream",
     "text": [
      "Student    0\n",
      "Math       0\n",
      "English    0\n",
      "Science    0\n",
      "dtype: int64\n"
     ]
    }
   ],
   "source": [
    "print(df.isnull().sum())\n",
    "# If missing values exist, you decide whether to fill, remove, or analyze them separately."
   ]
  },
  {
   "cell_type": "markdown",
   "id": "cd78a903-76e9-44d2-8b4d-b8def095258f",
   "metadata": {},
   "source": [
    "**Step 6: Visualize Data Distribution (Optional but Recommended)**\n",
    "\n",
    "- Use histograms or box plots to see the shape and spread of each variable."
   ]
  },
  {
   "cell_type": "markdown",
   "id": "1bca7019-ac31-44bd-9dc6-a13598d7dc3e",
   "metadata": {},
   "source": [
    "**Histogram**"
   ]
  },
  {
   "cell_type": "code",
   "execution_count": 19,
   "id": "c31fe664-6f44-43c0-bf7b-fbb5562213e3",
   "metadata": {},
   "outputs": [
    {
     "data": {
      "image/png": "[encoded data removed]",
      "text/plain": [
       "<Figure size 640x480 with 4 Axes>"
      ]
     },
     "metadata": {},
     "output_type": "display_data"
    }
   ],
   "source": [
    "import matplotlib.pyplot as plt\n",
    "\n",
    "df[['Math', 'English', 'Science']].hist(bins=5)\n",
    "plt.show()"
   ]
  },
  {
   "cell_type": "markdown",
   "id": "6a75aa69-d6c0-4e45-9b24-0981555bb7eb",
   "metadata": {},
   "source": [
    "**BoxPlot**"
   ]
  },
  {
   "cell_type": "code",
   "execution_count": 20,
   "id": "8fe6fd9b-fa46-4907-b5c5-a400d8191d92",
   "metadata": {},
   "outputs": [
    {
     "data": {
      "image/png": "[encoded data removed]",
      "text/plain": [
       "<Figure size 640x480 with 1 Axes>"
      ]
     },
     "metadata": {},
     "output_type": "display_data"
    }
   ],
   "source": [
    "df[['Math', 'English', 'Science']].boxplot()\n",
    "plt.show()"
   ]
  },
  {
   "cell_type": "markdown",
   "id": "fcda0615-cd41-491d-b5f6-59c5b46a156b",
   "metadata": {},
   "source": [
    "**Step 7: Correlation Analysis**\n",
    "\n",
    "- Check relationships between numeric variables to see how they vary together."
   ]
  },
  {
   "cell_type": "code",
   "execution_count": 21,
   "id": "02d8676c-21c6-4f62-b938-15da7d0734e8",
   "metadata": {},
   "outputs": [
    {
     "name": "stdout",
     "output_type": "stream",
     "text": [
      "          Student      Math   English   Science\n",
      "Student  1.000000 -0.113961  0.181608 -0.209529\n",
      "Math    -0.113961  1.000000  0.852682  0.994919\n",
      "English  0.181608  0.852682  1.000000  0.811780\n",
      "Science -0.209529  0.994919  0.811780  1.000000\n"
     ]
    }
   ],
   "source": [
    "correlation = df.corr()\n",
    "print(correlation)"
   ]
  },
  {
   "cell_type": "markdown",
   "id": "b7ffec7e-9ad5-48cc-b0c4-0b0b67f0ec34",
   "metadata": {},
   "source": [
    "- Values near +1 or -1 show strong positive/negative relationships.\n",
    "\n",
    "- Values near 0 show weak or no linear relationship."
   ]
  },
  {
   "cell_type": "markdown",
   "id": "9784c214-9b16-49bc-b382-18a265b97861",
   "metadata": {},
   "source": [
    "**Step 8: Interpret the Results**\n",
    "\n",
    "- Summary statistics:\n",
    "    - Understand the center (mean/median), spread (std dev), and shape (min, max, quartiles).\n",
    "\n",
    "- Correlations:\n",
    "     - If Math and Science have high correlation (e.g., 0.9), students good at Math also do well in Science.\n",
    "\n",
    "- Missing values:\n",
    "     - Plan to clean or impute."
   ]
  },
  {
   "cell_type": "markdown",
   "id": "09c35d1b-b725-4dca-b80e-5f8ad510394d",
   "metadata": {},
   "source": [
    "**3. Client Project: Perform EDA on a client-provided dataset and present insights**"
   ]
  },
  {
   "cell_type": "markdown",
   "id": "ad76383a-d063-4775-94d5-7747189a03b5",
   "metadata": {},
   "source": [
    "**Imports & paths**"
   ]
  },
  {
   "cell_type": "code",
   "execution_count": 5,
   "id": "b4b13544-078e-438e-b0a4-97fa5a42421b",
   "metadata": {},
   "outputs": [],
   "source": [
    "import pandas as pd\n",
    "import numpy as np\n",
    "import matplotlib.pyplot as plt\n",
    "import seaborn as sns\n",
    "from pathlib import Path\n",
    "from IPython.display import display"
   ]
  },
  {
   "cell_type": "code",
   "execution_count": 25,
   "id": "7e65784b-e899-40b1-b2ef-cc67e687f5d9",
   "metadata": {},
   "outputs": [
    {
     "data": {
      "text/html": [
       "<div>\n",
       "<style scoped>\n",
       "    .dataframe tbody tr th:only-of-type {\n",
       "        vertical-align: middle;\n",
       "    }\n",
       "\n",
       "    .dataframe tbody tr th {\n",
       "        vertical-align: top;\n",
       "    }\n",
       "\n",
       "    .dataframe thead th {\n",
       "        text-align: right;\n",
       "    }\n",
       "</style>\n",
       "<table border=\"1\" class=\"dataframe\">\n",
       "  <thead>\n",
       "    <tr style=\"text-align: right;\">\n",
       "      <th></th>\n",
       "      <th>Customer ID</th>\n",
       "      <th>Gender</th>\n",
       "      <th>Region</th>\n",
       "      <th>Age</th>\n",
       "      <th>Product Name</th>\n",
       "      <th>Category</th>\n",
       "      <th>Unit Price</th>\n",
       "      <th>Quantity</th>\n",
       "      <th>Total Price</th>\n",
       "      <th>Shipping Fee</th>\n",
       "      <th>Shipping Status</th>\n",
       "      <th>Order Date</th>\n",
       "    </tr>\n",
       "  </thead>\n",
       "  <tbody>\n",
       "    <tr>\n",
       "      <th>0</th>\n",
       "      <td>CUST0268</td>\n",
       "      <td>Male</td>\n",
       "      <td>North</td>\n",
       "      <td>NaN</td>\n",
       "      <td>Monitor</td>\n",
       "      <td>Electronics</td>\n",
       "      <td>300.0</td>\n",
       "      <td>5</td>\n",
       "      <td>1500</td>\n",
       "      <td>13.31</td>\n",
       "      <td>Returned</td>\n",
       "      <td>2023-12-08</td>\n",
       "    </tr>\n",
       "    <tr>\n",
       "      <th>1</th>\n",
       "      <td>CUST0046</td>\n",
       "      <td>Male</td>\n",
       "      <td>West</td>\n",
       "      <td>22.0</td>\n",
       "      <td>Headphones</td>\n",
       "      <td>Accessories</td>\n",
       "      <td>100.0</td>\n",
       "      <td>2</td>\n",
       "      <td>200</td>\n",
       "      <td>6.93</td>\n",
       "      <td>In Transit</td>\n",
       "      <td>2023-04-09</td>\n",
       "    </tr>\n",
       "    <tr>\n",
       "      <th>2</th>\n",
       "      <td>CUST0169</td>\n",
       "      <td>Female</td>\n",
       "      <td>South</td>\n",
       "      <td>54.0</td>\n",
       "      <td>Monitor</td>\n",
       "      <td>Electronics</td>\n",
       "      <td>300.0</td>\n",
       "      <td>1</td>\n",
       "      <td>300</td>\n",
       "      <td>11.31</td>\n",
       "      <td>Returned</td>\n",
       "      <td>2023-08-28</td>\n",
       "    </tr>\n",
       "    <tr>\n",
       "      <th>3</th>\n",
       "      <td>CUST0002</td>\n",
       "      <td>Male</td>\n",
       "      <td>North</td>\n",
       "      <td>23.0</td>\n",
       "      <td>Headphones</td>\n",
       "      <td>Accessories</td>\n",
       "      <td>100.0</td>\n",
       "      <td>5</td>\n",
       "      <td>500</td>\n",
       "      <td>12.22</td>\n",
       "      <td>Delivered</td>\n",
       "      <td>2023-01-18</td>\n",
       "    </tr>\n",
       "    <tr>\n",
       "      <th>4</th>\n",
       "      <td>CUST0173</td>\n",
       "      <td>Female</td>\n",
       "      <td>South</td>\n",
       "      <td>NaN</td>\n",
       "      <td>Laptop</td>\n",
       "      <td>Electronics</td>\n",
       "      <td>1500.0</td>\n",
       "      <td>3</td>\n",
       "      <td>4500</td>\n",
       "      <td>5.40</td>\n",
       "      <td>Delivered</td>\n",
       "      <td>2023-01-19</td>\n",
       "    </tr>\n",
       "    <tr>\n",
       "      <th>...</th>\n",
       "      <td>...</td>\n",
       "      <td>...</td>\n",
       "      <td>...</td>\n",
       "      <td>...</td>\n",
       "      <td>...</td>\n",
       "      <td>...</td>\n",
       "      <td>...</td>\n",
       "      <td>...</td>\n",
       "      <td>...</td>\n",
       "      <td>...</td>\n",
       "      <td>...</td>\n",
       "      <td>...</td>\n",
       "    </tr>\n",
       "    <tr>\n",
       "      <th>995</th>\n",
       "      <td>CUST0201</td>\n",
       "      <td>Female</td>\n",
       "      <td>South</td>\n",
       "      <td>49.0</td>\n",
       "      <td>Headphones</td>\n",
       "      <td>Accessories</td>\n",
       "      <td>100.0</td>\n",
       "      <td>1</td>\n",
       "      <td>100</td>\n",
       "      <td>17.21</td>\n",
       "      <td>In Transit</td>\n",
       "      <td>2023-01-05</td>\n",
       "    </tr>\n",
       "    <tr>\n",
       "      <th>996</th>\n",
       "      <td>CUST0133</td>\n",
       "      <td>Male</td>\n",
       "      <td>East</td>\n",
       "      <td>47.0</td>\n",
       "      <td>Laptop</td>\n",
       "      <td>Electronics</td>\n",
       "      <td>1500.0</td>\n",
       "      <td>1</td>\n",
       "      <td>1500</td>\n",
       "      <td>19.19</td>\n",
       "      <td>Delivered</td>\n",
       "      <td>2023-04-01</td>\n",
       "    </tr>\n",
       "    <tr>\n",
       "      <th>997</th>\n",
       "      <td>CUST0055</td>\n",
       "      <td>Female</td>\n",
       "      <td>North</td>\n",
       "      <td>NaN</td>\n",
       "      <td>Mouse</td>\n",
       "      <td>Accessories</td>\n",
       "      <td>30.0</td>\n",
       "      <td>5</td>\n",
       "      <td>150</td>\n",
       "      <td>19.35</td>\n",
       "      <td>Delivered</td>\n",
       "      <td>2023-10-20</td>\n",
       "    </tr>\n",
       "    <tr>\n",
       "      <th>998</th>\n",
       "      <td>CUST0023</td>\n",
       "      <td>Female</td>\n",
       "      <td>South</td>\n",
       "      <td>29.0</td>\n",
       "      <td>Laptop</td>\n",
       "      <td>Electronics</td>\n",
       "      <td>1500.0</td>\n",
       "      <td>5</td>\n",
       "      <td>7500</td>\n",
       "      <td>10.36</td>\n",
       "      <td>Returned</td>\n",
       "      <td>2023-01-07</td>\n",
       "    </tr>\n",
       "    <tr>\n",
       "      <th>999</th>\n",
       "      <td>CUST0040</td>\n",
       "      <td>Male</td>\n",
       "      <td>NaN</td>\n",
       "      <td>29.0</td>\n",
       "      <td>Smartwatch</td>\n",
       "      <td>Wearables</td>\n",
       "      <td>200.0</td>\n",
       "      <td>1</td>\n",
       "      <td>200</td>\n",
       "      <td>7.53</td>\n",
       "      <td>Delivered</td>\n",
       "      <td>2023-01-30</td>\n",
       "    </tr>\n",
       "  </tbody>\n",
       "</table>\n",
       "<p>1000 rows × 12 columns</p>\n",
       "</div>"
      ],
      "text/plain": [
       "    Customer ID  Gender Region   Age Product Name     Category  Unit Price  \\\n",
       "0      CUST0268    Male  North   NaN      Monitor  Electronics       300.0   \n",
       "1      CUST0046    Male   West  22.0   Headphones  Accessories       100.0   \n",
       "2      CUST0169  Female  South  54.0      Monitor  Electronics       300.0   \n",
       "3      CUST0002    Male  North  23.0   Headphones  Accessories       100.0   \n",
       "4      CUST0173  Female  South   NaN       Laptop  Electronics      1500.0   \n",
       "..          ...     ...    ...   ...          ...          ...         ...   \n",
       "995    CUST0201  Female  South  49.0   Headphones  Accessories       100.0   \n",
       "996    CUST0133    Male   East  47.0       Laptop  Electronics      1500.0   \n",
       "997    CUST0055  Female  North   NaN        Mouse  Accessories        30.0   \n",
       "998    CUST0023  Female  South  29.0       Laptop  Electronics      1500.0   \n",
       "999    CUST0040    Male    NaN  29.0   Smartwatch    Wearables       200.0   \n",
       "\n",
       "     Quantity  Total Price  Shipping Fee Shipping Status  Order Date  \n",
       "0           5         1500         13.31        Returned  2023-12-08  \n",
       "1           2          200          6.93      In Transit  2023-04-09  \n",
       "2           1          300         11.31        Returned  2023-08-28  \n",
       "3           5          500         12.22       Delivered  2023-01-18  \n",
       "4           3         4500          5.40       Delivered  2023-01-19  \n",
       "..        ...          ...           ...             ...         ...  \n",
       "995         1          100         17.21      In Transit  2023-01-05  \n",
       "996         1         1500         19.19       Delivered  2023-04-01  \n",
       "997         5          150         19.35       Delivered  2023-10-20  \n",
       "998         5         7500         10.36        Returned  2023-01-07  \n",
       "999         1          200          7.53       Delivered  2023-01-30  \n",
       "\n",
       "[1000 rows x 12 columns]"
      ]
     },
     "execution_count": 25,
     "metadata": {},
     "output_type": "execute_result"
    }
   ],
   "source": [
    "df=pd.read_csv(r\"C:\\Users\\prati\\OneDrive\\Datafiles\\realistic_e_commerce_sales_data.csv\")\n",
    "df"
   ]
  },
  {
   "cell_type": "code",
   "execution_count": 26,
   "id": "3650b180-970d-4e6e-9aad-ba67ced9caca",
   "metadata": {},
   "outputs": [
    {
     "name": "stdout",
     "output_type": "stream",
     "text": [
      "  Customer ID  Gender Region   Age Product Name     Category  Unit Price  \\\n",
      "0    CUST0268    Male  North   NaN      Monitor  Electronics       300.0   \n",
      "1    CUST0046    Male   West  22.0   Headphones  Accessories       100.0   \n",
      "2    CUST0169  Female  South  54.0      Monitor  Electronics       300.0   \n",
      "3    CUST0002    Male  North  23.0   Headphones  Accessories       100.0   \n",
      "4    CUST0173  Female  South   NaN       Laptop  Electronics      1500.0   \n",
      "\n",
      "   Quantity  Total Price  Shipping Fee Shipping Status  Order Date  \n",
      "0         5         1500         13.31        Returned  2023-12-08  \n",
      "1         2          200          6.93      In Transit  2023-04-09  \n",
      "2         1          300         11.31        Returned  2023-08-28  \n",
      "3         5          500         12.22       Delivered  2023-01-18  \n",
      "4         3         4500          5.40       Delivered  2023-01-19  \n"
     ]
    }
   ],
   "source": [
    "print(df.head())"
   ]
  },
  {
   "cell_type": "code",
   "execution_count": 27,
   "id": "26038245-9cbe-498c-973a-de2e1ce2d375",
   "metadata": {},
   "outputs": [
    {
     "data": {
      "text/plain": [
       "12000"
      ]
     },
     "execution_count": 27,
     "metadata": {},
     "output_type": "execute_result"
    }
   ],
   "source": [
    "df.size"
   ]
  },
  {
   "cell_type": "code",
   "execution_count": 28,
   "id": "8884da3f-d8a0-4b27-ae85-c2da632672f4",
   "metadata": {},
   "outputs": [
    {
     "data": {
      "text/plain": [
       "1000"
      ]
     },
     "execution_count": 28,
     "metadata": {},
     "output_type": "execute_result"
    }
   ],
   "source": [
    "len(df)"
   ]
  },
  {
   "cell_type": "code",
   "execution_count": 30,
   "id": "84134865-d849-44ce-bd2c-cd2038a23852",
   "metadata": {},
   "outputs": [
    {
     "data": {
      "text/plain": [
       "Index(['Customer ID', 'Gender', 'Region', 'Age', 'Product Name', 'Category',\n",
       "       'Unit Price', 'Quantity', 'Total Price', 'Shipping Fee',\n",
       "       'Shipping Status', 'Order Date'],\n",
       "      dtype='object')"
      ]
     },
     "execution_count": 30,
     "metadata": {},
     "output_type": "execute_result"
    }
   ],
   "source": [
    "df.columns"
   ]
  },
  {
   "cell_type": "code",
   "execution_count": 31,
   "id": "4c4a0e15-19ec-49c0-86a9-5e64c409b70b",
   "metadata": {},
   "outputs": [
    {
     "name": "stdout",
     "output_type": "stream",
     "text": [
      "Shape of dataset: (1000, 12)\n",
      "<class 'pandas.core.frame.DataFrame'>\n",
      "RangeIndex: 1000 entries, 0 to 999\n",
      "Data columns (total 12 columns):\n",
      " #   Column           Non-Null Count  Dtype  \n",
      "---  ------           --------------  -----  \n",
      " 0   Customer ID      1000 non-null   object \n",
      " 1   Gender           1000 non-null   object \n",
      " 2   Region           950 non-null    object \n",
      " 3   Age              900 non-null    float64\n",
      " 4   Product Name     1000 non-null   object \n",
      " 5   Category         1000 non-null   object \n",
      " 6   Unit Price       1000 non-null   float64\n",
      " 7   Quantity         1000 non-null   int64  \n",
      " 8   Total Price      1000 non-null   int64  \n",
      " 9   Shipping Fee     1000 non-null   float64\n",
      " 10  Shipping Status  950 non-null    object \n",
      " 11  Order Date       1000 non-null   object \n",
      "dtypes: float64(3), int64(2), object(7)\n",
      "memory usage: 93.9+ KB\n",
      "None\n"
     ]
    }
   ],
   "source": [
    "# Shape (rows, columns)\n",
    "print(\"Shape of dataset:\", df.shape)\n",
    "\n",
    "# Column names and data types\n",
    "print(df.info())"
   ]
  },
  {
   "cell_type": "markdown",
   "id": "0bb96d23-9b0b-4c14-8298-fd705e57c3b7",
   "metadata": {},
   "source": [
    "**Check missing values**"
   ]
  },
  {
   "cell_type": "code",
   "execution_count": 32,
   "id": "820d5777-7841-4332-9401-598acca70f68",
   "metadata": {},
   "outputs": [
    {
     "name": "stdout",
     "output_type": "stream",
     "text": [
      "Customer ID          0\n",
      "Gender               0\n",
      "Region              50\n",
      "Age                100\n",
      "Product Name         0\n",
      "Category             0\n",
      "Unit Price           0\n",
      "Quantity             0\n",
      "Total Price          0\n",
      "Shipping Fee         0\n",
      "Shipping Status     50\n",
      "Order Date           0\n",
      "dtype: int64\n"
     ]
    }
   ],
   "source": [
    "# Check missing values\n",
    "print(df.isnull().sum()) "
   ]
  },
  {
   "cell_type": "code",
   "execution_count": 33,
   "id": "e49ef007-a39c-42ea-b51b-f71f86597ebb",
   "metadata": {},
   "outputs": [
    {
     "name": "stdout",
     "output_type": "stream",
     "text": [
      "Duplicate rows: 0\n"
     ]
    }
   ],
   "source": [
    "# Count duplicate rows\n",
    "print(\"Duplicate rows:\", df.duplicated().sum())"
   ]
  },
  {
   "cell_type": "code",
   "execution_count": 50,
   "id": "d3447deb-7412-4724-bcbd-eebd4b57e11f",
   "metadata": {},
   "outputs": [
    {
     "data": {
      "text/html": [
       "<div>\n",
       "<style scoped>\n",
       "    .dataframe tbody tr th:only-of-type {\n",
       "        vertical-align: middle;\n",
       "    }\n",
       "\n",
       "    .dataframe tbody tr th {\n",
       "        vertical-align: top;\n",
       "    }\n",
       "\n",
       "    .dataframe thead th {\n",
       "        text-align: right;\n",
       "    }\n",
       "</style>\n",
       "<table border=\"1\" class=\"dataframe\">\n",
       "  <thead>\n",
       "    <tr style=\"text-align: right;\">\n",
       "      <th></th>\n",
       "      <th>Gender</th>\n",
       "      <th>Region</th>\n",
       "      <th>Age</th>\n",
       "      <th>Product Name</th>\n",
       "      <th>Category</th>\n",
       "      <th>Unit Price</th>\n",
       "      <th>Quantity</th>\n",
       "      <th>Total Price</th>\n",
       "      <th>Shipping Fee</th>\n",
       "      <th>Order Date</th>\n",
       "    </tr>\n",
       "  </thead>\n",
       "  <tbody>\n",
       "    <tr>\n",
       "      <th>0</th>\n",
       "      <td>Male</td>\n",
       "      <td>North</td>\n",
       "      <td>46.695556</td>\n",
       "      <td>Monitor</td>\n",
       "      <td>Electronics</td>\n",
       "      <td>300.0</td>\n",
       "      <td>5</td>\n",
       "      <td>1500</td>\n",
       "      <td>13.31</td>\n",
       "      <td>2023-12-08</td>\n",
       "    </tr>\n",
       "    <tr>\n",
       "      <th>1</th>\n",
       "      <td>Male</td>\n",
       "      <td>West</td>\n",
       "      <td>22.000000</td>\n",
       "      <td>Headphones</td>\n",
       "      <td>Accessories</td>\n",
       "      <td>100.0</td>\n",
       "      <td>2</td>\n",
       "      <td>200</td>\n",
       "      <td>6.93</td>\n",
       "      <td>2023-04-09</td>\n",
       "    </tr>\n",
       "    <tr>\n",
       "      <th>2</th>\n",
       "      <td>Female</td>\n",
       "      <td>South</td>\n",
       "      <td>54.000000</td>\n",
       "      <td>Monitor</td>\n",
       "      <td>Electronics</td>\n",
       "      <td>300.0</td>\n",
       "      <td>1</td>\n",
       "      <td>300</td>\n",
       "      <td>11.31</td>\n",
       "      <td>2023-08-28</td>\n",
       "    </tr>\n",
       "    <tr>\n",
       "      <th>3</th>\n",
       "      <td>Male</td>\n",
       "      <td>North</td>\n",
       "      <td>23.000000</td>\n",
       "      <td>Headphones</td>\n",
       "      <td>Accessories</td>\n",
       "      <td>100.0</td>\n",
       "      <td>5</td>\n",
       "      <td>500</td>\n",
       "      <td>12.22</td>\n",
       "      <td>2023-01-18</td>\n",
       "    </tr>\n",
       "    <tr>\n",
       "      <th>4</th>\n",
       "      <td>Female</td>\n",
       "      <td>South</td>\n",
       "      <td>46.695556</td>\n",
       "      <td>Laptop</td>\n",
       "      <td>Electronics</td>\n",
       "      <td>1500.0</td>\n",
       "      <td>3</td>\n",
       "      <td>4500</td>\n",
       "      <td>5.40</td>\n",
       "      <td>2023-01-19</td>\n",
       "    </tr>\n",
       "    <tr>\n",
       "      <th>...</th>\n",
       "      <td>...</td>\n",
       "      <td>...</td>\n",
       "      <td>...</td>\n",
       "      <td>...</td>\n",
       "      <td>...</td>\n",
       "      <td>...</td>\n",
       "      <td>...</td>\n",
       "      <td>...</td>\n",
       "      <td>...</td>\n",
       "      <td>...</td>\n",
       "    </tr>\n",
       "    <tr>\n",
       "      <th>995</th>\n",
       "      <td>Female</td>\n",
       "      <td>South</td>\n",
       "      <td>49.000000</td>\n",
       "      <td>Headphones</td>\n",
       "      <td>Accessories</td>\n",
       "      <td>100.0</td>\n",
       "      <td>1</td>\n",
       "      <td>100</td>\n",
       "      <td>17.21</td>\n",
       "      <td>2023-01-05</td>\n",
       "    </tr>\n",
       "    <tr>\n",
       "      <th>996</th>\n",
       "      <td>Male</td>\n",
       "      <td>East</td>\n",
       "      <td>47.000000</td>\n",
       "      <td>Laptop</td>\n",
       "      <td>Electronics</td>\n",
       "      <td>1500.0</td>\n",
       "      <td>1</td>\n",
       "      <td>1500</td>\n",
       "      <td>19.19</td>\n",
       "      <td>2023-04-01</td>\n",
       "    </tr>\n",
       "    <tr>\n",
       "      <th>997</th>\n",
       "      <td>Female</td>\n",
       "      <td>North</td>\n",
       "      <td>46.695556</td>\n",
       "      <td>Mouse</td>\n",
       "      <td>Accessories</td>\n",
       "      <td>30.0</td>\n",
       "      <td>5</td>\n",
       "      <td>150</td>\n",
       "      <td>19.35</td>\n",
       "      <td>2023-10-20</td>\n",
       "    </tr>\n",
       "    <tr>\n",
       "      <th>998</th>\n",
       "      <td>Female</td>\n",
       "      <td>South</td>\n",
       "      <td>29.000000</td>\n",
       "      <td>Laptop</td>\n",
       "      <td>Electronics</td>\n",
       "      <td>1500.0</td>\n",
       "      <td>5</td>\n",
       "      <td>7500</td>\n",
       "      <td>10.36</td>\n",
       "      <td>2023-01-07</td>\n",
       "    </tr>\n",
       "    <tr>\n",
       "      <th>999</th>\n",
       "      <td>Male</td>\n",
       "      <td>West</td>\n",
       "      <td>29.000000</td>\n",
       "      <td>Smartwatch</td>\n",
       "      <td>Wearables</td>\n",
       "      <td>200.0</td>\n",
       "      <td>1</td>\n",
       "      <td>200</td>\n",
       "      <td>7.53</td>\n",
       "      <td>2023-01-30</td>\n",
       "    </tr>\n",
       "  </tbody>\n",
       "</table>\n",
       "<p>1000 rows × 10 columns</p>\n",
       "</div>"
      ],
      "text/plain": [
       "     Gender Region        Age Product Name     Category  Unit Price  Quantity  \\\n",
       "0      Male  North  46.695556      Monitor  Electronics       300.0         5   \n",
       "1      Male   West  22.000000   Headphones  Accessories       100.0         2   \n",
       "2    Female  South  54.000000      Monitor  Electronics       300.0         1   \n",
       "3      Male  North  23.000000   Headphones  Accessories       100.0         5   \n",
       "4    Female  South  46.695556       Laptop  Electronics      1500.0         3   \n",
       "..      ...    ...        ...          ...          ...         ...       ...   \n",
       "995  Female  South  49.000000   Headphones  Accessories       100.0         1   \n",
       "996    Male   East  47.000000       Laptop  Electronics      1500.0         1   \n",
       "997  Female  North  46.695556        Mouse  Accessories        30.0         5   \n",
       "998  Female  South  29.000000       Laptop  Electronics      1500.0         5   \n",
       "999    Male   West  29.000000   Smartwatch    Wearables       200.0         1   \n",
       "\n",
       "     Total Price  Shipping Fee  Order Date  \n",
       "0           1500         13.31  2023-12-08  \n",
       "1            200          6.93  2023-04-09  \n",
       "2            300         11.31  2023-08-28  \n",
       "3            500         12.22  2023-01-18  \n",
       "4           4500          5.40  2023-01-19  \n",
       "..           ...           ...         ...  \n",
       "995          100         17.21  2023-01-05  \n",
       "996         1500         19.19  2023-04-01  \n",
       "997          150         19.35  2023-10-20  \n",
       "998         7500         10.36  2023-01-07  \n",
       "999          200          7.53  2023-01-30  \n",
       "\n",
       "[1000 rows x 10 columns]"
      ]
     },
     "execution_count": 50,
     "metadata": {},
     "output_type": "execute_result"
    }
   ],
   "source": [
    "df_clean=df.drop(['Customer ID','Shipping Status'],axis=1)\n",
    "df_clean"
   ]
  },
  {
   "cell_type": "code",
   "execution_count": 40,
   "id": "8130fb15-e587-4c40-95df-c5ff1b9bbaf0",
   "metadata": {},
   "outputs": [
    {
     "data": {
      "text/plain": [
       "0      46.695556\n",
       "1      22.000000\n",
       "2      54.000000\n",
       "3      23.000000\n",
       "4      46.695556\n",
       "         ...    \n",
       "995    49.000000\n",
       "996    47.000000\n",
       "997    46.695556\n",
       "998    29.000000\n",
       "999    29.000000\n",
       "Name: Age, Length: 1000, dtype: float64"
      ]
     },
     "execution_count": 40,
     "metadata": {},
     "output_type": "execute_result"
    }
   ],
   "source": [
    "# Fill with mean\n",
    "df_clean['Age']=df_clean['Age'].fillna(df_clean['Age'].mean())\n",
    "df_clean['Age'] "
   ]
  },
  {
   "cell_type": "code",
   "execution_count": 39,
   "id": "f4e97faa-43c4-49cf-aec0-77f3b4e65229",
   "metadata": {},
   "outputs": [
    {
     "data": {
      "text/plain": [
       "0      North\n",
       "1       West\n",
       "2      South\n",
       "3      North\n",
       "4      South\n",
       "       ...  \n",
       "995    South\n",
       "996     East\n",
       "997    North\n",
       "998    South\n",
       "999     West\n",
       "Name: Region, Length: 1000, dtype: object"
      ]
     },
     "execution_count": 39,
     "metadata": {},
     "output_type": "execute_result"
    }
   ],
   "source": [
    "df_clean['Region'] = df_clean['Region'].fillna(df_clean['Region'].mode()[0])\n",
    "df_clean['Region']"
   ]
  },
  {
   "cell_type": "code",
   "execution_count": 52,
   "id": "ed17bbe6-dceb-4e40-b03a-261f6a2abad3",
   "metadata": {},
   "outputs": [
    {
     "name": "stdout",
     "output_type": "stream",
     "text": [
      "Gender          0\n",
      "Region          0\n",
      "Age             0\n",
      "Product Name    0\n",
      "Category        0\n",
      "Unit Price      0\n",
      "Quantity        0\n",
      "Total Price     0\n",
      "Shipping Fee    0\n",
      "Order Date      0\n",
      "dtype: int64\n"
     ]
    }
   ],
   "source": [
    "print(df_clean.isnull().sum())"
   ]
  },
  {
   "cell_type": "code",
   "execution_count": 57,
   "id": "edb42134-2387-4330-8536-4e31918c0a78",
   "metadata": {},
   "outputs": [
    {
     "name": "stdout",
     "output_type": "stream",
     "text": [
      "<class 'pandas.core.frame.DataFrame'>\n",
      "RangeIndex: 1000 entries, 0 to 999\n",
      "Data columns (total 10 columns):\n",
      " #   Column        Non-Null Count  Dtype  \n",
      "---  ------        --------------  -----  \n",
      " 0   Gender        1000 non-null   object \n",
      " 1   Region        1000 non-null   object \n",
      " 2   Age           1000 non-null   float64\n",
      " 3   Product Name  1000 non-null   object \n",
      " 4   Category      1000 non-null   object \n",
      " 5   Unit Price    1000 non-null   float64\n",
      " 6   Quantity      1000 non-null   int64  \n",
      " 7   Total Price   1000 non-null   int64  \n",
      " 8   Shipping Fee  1000 non-null   float64\n",
      " 9   Order Date    1000 non-null   object \n",
      "dtypes: float64(3), int64(2), object(5)\n",
      "memory usage: 78.3+ KB\n",
      "None\n"
     ]
    }
   ],
   "source": [
    "print(df_clean.info())"
   ]
  },
  {
   "cell_type": "code",
   "execution_count": 61,
   "id": "760e9574-8937-43d4-abad-f66ca9dedb20",
   "metadata": {},
   "outputs": [
    {
     "name": "stdout",
     "output_type": "stream",
     "text": [
      "               Age   Unit Price     Quantity  Total Price  Shipping Fee\n",
      "count  1000.000000  1000.000000  1000.000000  1000.000000   1000.000000\n",
      "mean     46.695556   457.703777     3.008000  1346.600000     12.416390\n",
      "std      14.240273   537.231434     1.404246  1834.037877      4.412185\n",
      "min      18.000000    30.000000     1.000000    30.000000      5.000000\n",
      "25%      37.000000    50.000000     2.000000   200.000000      8.560000\n",
      "50%      46.695556   200.000000     3.000000   600.000000     12.315000\n",
      "75%      58.000000   800.000000     4.000000  1500.000000     16.075000\n",
      "max      69.000000  3109.560612     5.000000  7500.000000     19.980000\n"
     ]
    }
   ],
   "source": [
    "print(df_clean.describe())"
   ]
  },
  {
   "cell_type": "code",
   "execution_count": 62,
   "id": "4155bff0-80a8-4b1b-9795-269079f3caf1",
   "metadata": {},
   "outputs": [
    {
     "name": "stdout",
     "output_type": "stream",
     "text": [
      "Duplicate rows: 0\n"
     ]
    }
   ],
   "source": [
    "print(\"Duplicate rows:\", df_clean.duplicated().sum())"
   ]
  },
  {
   "cell_type": "code",
   "execution_count": 63,
   "id": "e3c01550-c7fa-403e-9eb7-9514ef3a2316",
   "metadata": {},
   "outputs": [
    {
     "name": "stdout",
     "output_type": "stream",
     "text": [
      "\n",
      "Column: Gender\n",
      "Gender\n",
      "Male      524\n",
      "Female    476\n",
      "Name: count, dtype: int64\n",
      "\n",
      "Column: Region\n",
      "Region\n",
      "West     296\n",
      "South    244\n",
      "East     231\n",
      "North    229\n",
      "Name: count, dtype: int64\n",
      "\n",
      "Column: Product Name\n",
      "Product Name\n",
      "Monitor       181\n",
      "Laptop        154\n",
      "Keyboard      145\n",
      "Smartphone    142\n",
      "Mouse         136\n",
      "Name: count, dtype: int64\n",
      "\n",
      "Column: Category\n",
      "Category\n",
      "Electronics    477\n",
      "Accessories    401\n",
      "Wearables      122\n",
      "Name: count, dtype: int64\n",
      "\n",
      "Column: Order Date\n",
      "Order Date\n",
      "2024-01-03    20\n",
      "2023-12-08     8\n",
      "2023-01-05     8\n",
      "2023-10-28     8\n",
      "2023-06-06     7\n",
      "Name: count, dtype: int64\n"
     ]
    }
   ],
   "source": [
    "# Show unique values and counts for each categorical column\n",
    "for col in df_clean.select_dtypes(include=\"object\").columns:\n",
    "    print(f\"\\nColumn: {col}\")\n",
    "    print(df_clean[col].value_counts().head()) "
   ]
  },
  {
   "cell_type": "markdown",
   "id": "ab0493e0-79dd-4368-a880-f400b8a4a60c",
   "metadata": {},
   "source": [
    "**Histogram**"
   ]
  },
  {
   "cell_type": "code",
   "execution_count": 65,
   "id": "e3d5fa49-68f6-4d71-bfa0-6ebd789c1b88",
   "metadata": {},
   "outputs": [
    {
     "data": {
      "image/png": "[encoded data removed]",
      "text/plain": [
       "<Figure size 640x480 with 1 Axes>"
      ]
     },
     "metadata": {},
     "output_type": "display_data"
    }
   ],
   "source": [
    "# Histogram of Age\n",
    "df_clean['Age'].hist(bins=20)\n",
    "plt.title(\"Age Distribution\")\n",
    "plt.xlabel(\"Age\")\n",
    "plt.ylabel(\"Count\")\n",
    "plt.show()"
   ]
  },
  {
   "cell_type": "markdown",
   "id": "b2214a79-b165-4bc6-a02f-6012f593a673",
   "metadata": {},
   "source": [
    "**Bar Chart**"
   ]
  },
  {
   "cell_type": "code",
   "execution_count": 66,
   "id": "db767ce2-057a-4a78-973a-44ec438307c1",
   "metadata": {},
   "outputs": [
    {
     "data": {
      "image/png": "[encoded data removed]",
      "text/plain": [
       "<Figure size 640x480 with 1 Axes>"
      ]
     },
     "metadata": {},
     "output_type": "display_data"
    }
   ],
   "source": [
    "# Bar chart of Gender\n",
    "df_clean['Gender'].value_counts().plot(kind=\"bar\")\n",
    "plt.title(\"Gender Distribution\")\n",
    "plt.show()"
   ]
  },
  {
   "cell_type": "markdown",
   "id": "a8f19a20-a3df-478b-a09d-85e2dde144bf",
   "metadata": {},
   "source": [
    "**Pie Chart**"
   ]
  },
  {
   "cell_type": "code",
   "execution_count": 72,
   "id": "5cfce3b9-43dc-4d91-9553-6202866dd963",
   "metadata": {},
   "outputs": [
    {
     "data": {
      "image/png": "[encoded data removed]",
      "text/plain": [
       "<Figure size 400x300 with 1 Axes>"
      ]
     },
     "metadata": {},
     "output_type": "display_data"
    }
   ],
   "source": [
    "# Pie chart for Region distribution\n",
    "df['Region'].value_counts().plot(kind='pie', autopct='%1.1f%%', figsize=(4,3))\n",
    "plt.title(\"Region Distribution\")\n",
    "plt.show()"
   ]
  },
  {
   "cell_type": "code",
   "execution_count": 71,
   "id": "dfac46ea-2956-40d0-ac67-5659ae526873",
   "metadata": {},
   "outputs": [
    {
     "data": {
      "image/png": "[encoded data removed]",
      "text/plain": [
       "<Figure size 400x300 with 1 Axes>"
      ]
     },
     "metadata": {},
     "output_type": "display_data"
    }
   ],
   "source": [
    "df['Category'].value_counts().plot(kind='pie', autopct='%1.1f%%', figsize=(4,3))\n",
    "plt.title(\"Category Distribution\")  \n",
    "plt.show()"
   ]
  },
  {
   "cell_type": "code",
   "execution_count": 73,
   "id": "bea5ee0a-b6a7-408f-b107-494801291a81",
   "metadata": {},
   "outputs": [
    {
     "data": {
      "image/png": "[encoded data removed]",
      "text/plain": [
       "<Figure size 640x480 with 1 Axes>"
      ]
     },
     "metadata": {},
     "output_type": "display_data"
    }
   ],
   "source": [
    "# Sales by Region\n",
    "df_clean.groupby('Region')['Total Price'].sum().plot(kind='bar', title=\"Total Sales by Region\")\n",
    "plt.ylabel(\"Revenue\")\n",
    "plt.show()"
   ]
  },
  {
   "cell_type": "code",
   "execution_count": 74,
   "id": "7c0e0785-f682-47eb-9b9d-f11671b85332",
   "metadata": {},
   "outputs": [
    {
     "data": {
      "image/png": "[encoded data removed]",
      "text/plain": [
       "<Figure size 640x480 with 1 Axes>"
      ]
     },
     "metadata": {},
     "output_type": "display_data"
    }
   ],
   "source": [
    "# Sales trend over time\n",
    "df_clean['Order Date'] = pd.to_datetime(df_clean['Order Date'])\n",
    "df_clean.groupby(df_clean['Order Date'].dt.to_period('M'))['Total Price'].sum().plot(kind='line', marker='o')\n",
    "plt.title(\"Monthly Sales Trend\")\n",
    "plt.ylabel(\"Revenue\")\n",
    "plt.show()"
   ]
  },
  {
   "cell_type": "markdown",
   "id": "5a2bac4c-34b3-49ef-829d-496f120ec4de",
   "metadata": {},
   "source": [
    "**Present Insights**"
   ]
  },
  {
   "cell_type": "markdown",
   "id": "6656b80c-03a4-4a9a-b863-40714ff3be79",
   "metadata": {},
   "source": [
    "**📊 E-commerce Sales Dataset – Insights**\n",
    "\n",
    "**1. Data Quality:**\n",
    "   - Missing values found in Age and Region columns; handled with mean and mode respectively.\n",
    "   - Customer ID and Shipping Status dropped as irrelevant.\n",
    "   - No duplicate rows remain after cleaning.\n",
    "\n",
    "**2. Demographics:**\n",
    "   - Age distribution shows most customers are between 20–40 years old.\n",
    "   - Gender distribution indicates one gender is slightly dominant in purchases.\n",
    "\n",
    "**3. Product & Category:**\n",
    "   - Electronics and Fashion categories account for the largest share of sales.\n",
    "   - Other categories contribute a smaller portion.\n",
    "\n",
    "**4. Regional Insights:**\n",
    "   - Sales are concentrated in a few major regions.\n",
    "   - North and West regions generate the highest total revenue.\n",
    "   - Some regions show comparatively lower sales.\n",
    "\n",
    "**5. Sales Trends:**\n",
    "   - Monthly sales trend shows seasonal fluctuations with noticeable peaks.\n",
    "   - Overall trend indicates steady growth over time.\n",
    "   - A few months display dips in revenue."
   ]
  },
  {
   "cell_type": "code",
   "execution_count": null,
   "id": "83ba6388-a89a-40d6-8928-371d72bff635",
   "metadata": {},
   "outputs": [],
   "source": []
  }
 ],
 "metadata": {
  "kernelspec": {
   "display_name": "Python 3 (ipykernel)",
   "language": "python",
   "name": "python3"
  },
  "language_info": {
   "codemirror_mode": {
    "name": "ipython",
    "version": 3
   },
   "file_extension": ".py",
   "mimetype": "text/x-python",
   "name": "python",
   "nbconvert_exporter": "python",
   "pygments_lexer": "ipython3",
   "version": "3.12.4"
  }
 },
 "nbformat": 4,
 "nbformat_minor": 5
}
