{
 "cells": [
  {
   "cell_type": "code",
   "execution_count": 1,
   "id": "6b0ed081-4c62-4ff0-ba78-0288cbc22a5b",
   "metadata": {},
   "outputs": [],
   "source": [
    "# Week 7: Introduction to Machine Learning (ML)\n",
    "# Theory: Study supervised vs. unsupervised learning, types of ML algorithms (regression, classification, clustering), and an introduction to scikit-learn.\n",
    "# Hands-On: Implement a basic machine learning model using scikit-learn (e.g.Linear Regression).\n",
    "# Client Project: Create a prediction model for client data (e.g., house prices)."
   ]
  },
  {
   "cell_type": "markdown",
   "id": "c77345a1-a505-42a6-b35f-4bdc61000e26",
   "metadata": {},
   "source": [
    "**Introduction to Machine Learning**\n",
    "- Machine Learning is a subset of Artificial Intelligence that enables systems to learn from data and improve performance over time without being explicitly programmed."
   ]
  },
  {
   "cell_type": "markdown",
   "id": "8b407c33-e337-4e87-bfd5-6cae9b5049a0",
   "metadata": {},
   "source": [
    "**1. Theory: Study supervised vs. unsupervised learning, types of MLalgorithms(regression,classification,clustering), and an introduction to scikit-learn.**"
   ]
  },
  {
   "cell_type": "markdown",
   "id": "9993e6eb-776f-44db-9d5b-2a369b0273bb",
   "metadata": {},
   "source": [
    "**Supervised Learning**"
   ]
  },
  {
   "cell_type": "markdown",
   "id": "452325e3-6143-47cb-9908-5cf4fc6e1fda",
   "metadata": {},
   "source": [
    "- A type of machine learning where the model is trained on a labeled dataset.\n",
    "- The algorithm learns the mapping between inputs (features) and outputs (labels).\n",
    "- The goal is Predict outcomes (labels) for new, unseen data.\n",
    "- The example of Algorithms is:\n",
    "    - Linear Regression\n",
    "    - Logistic Regression\n",
    "    - Decision Trees\n",
    "    - Random Forest\n",
    "    - Support Vector Machines (SVM)\n",
    "    - Neural Networks"
   ]
  },
  {
   "cell_type": "markdown",
   "id": "7ab6132e-5303-4728-a811-b6b525c649b1",
   "metadata": {},
   "source": [
    "**Unsupervised Learning**"
   ]
  },
  {
   "cell_type": "markdown",
   "id": "332b34e6-921d-4fd7-98db-f82dd002b3c1",
   "metadata": {},
   "source": [
    "- A type of machine learning where the model is trained on unlabeled data.\n",
    "- The algorithm tries to find hidden patterns, structures, or groupings in the data.\n",
    "- The goal is Discover structure in data (clustering, grouping, dimensionality reduction).\n",
    "- The Examples of Algorithms is:\n",
    "    - K-Means Clustering\n",
    "    - Hierarchical Clustering\n",
    "    - DBSCAN\n",
    "    - Principal Component Analysis (PCA)\n",
    "    - Autoencoders"
   ]
  },
  {
   "cell_type": "markdown",
   "id": "2ea5806d-84e2-4358-997e-17184237fa99",
   "metadata": {},
   "source": [
    "**Types of ML algorithms**\n",
    "- Regression\n",
    "- Classification\n",
    "- Clustering"
   ]
  },
  {
   "cell_type": "markdown",
   "id": "96c5f9ac-8f08-4600-ad19-d2c6a329d917",
   "metadata": {},
   "source": [
    "**Regression Algorithm**\n",
    "- Regression algorithms are a type of supervised learning used to predict a continuous (numeric) value based on input features.\n",
    "- In regression we try to find relationships between independent variables (X) and a dependent variable (Y).\n",
    "- Example:\n",
    "    - Predicting house price (Y) based on area, number of rooms, location (X).\n",
    "    - Predicting temperature, stock price, salary, etc.\n",
    "- The regression algorithm is different types such as:\n",
    "    - Linear Regression – fits a straight line to predict continuous values.\n",
    "    - Multiple Linear Regression – uses multiple input features for prediction.\n",
    "    - Polynomial Regression – models non-linear relationships using polynomial terms.\n",
    "    - Ridge Regression – linear regression with L2 regularization to reduce overfitting.\n",
    "    - Lasso Regression – linear regression with L1 regularization for feature selection.\n",
    "    - Elastic Net Regression – combination of Ridge and Lasso regularization.\n",
    "    - Support Vector Regression (SVR) – regression using SVM principles.\n",
    "    - Decision Tree Regression – predicts values by splitting data into regions.\n",
    "    - Random Forest Regression – ensemble of decision trees for more accuracy.\n",
    "    - Gradient Boosting Regression (XGBoost, LightGBM, CatBoost) – sequential tree-based models improving over errors."
   ]
  },
  {
   "cell_type": "markdown",
   "id": "eac5c613-091f-497b-93fb-770168875c06",
   "metadata": {},
   "source": [
    "**Classification Algorithm**\n",
    "- Classification algorithms are a type of supervised learning that predict a category (class label) instead of a continuous value.\n",
    "- Output is discrete (e.g., Yes/No, Spam/Not Spam, Disease A/B/C).\n",
    "- The example is:\n",
    "    - Email spam detection (spam or not spam).\n",
    "    - Medical diagnosis (disease type).\n",
    "- The classification algorithm is different types such as\n",
    "    - Logistic Regression – predicts class probabilities using a sigmoid function.\n",
    "    - K-Nearest Neighbors (KNN) – classifies based on the majority vote of nearest neighbors.\n",
    "    - Decision Tree – splits data into branches to classify outcomes.\n",
    "    - Random Forest – ensemble of decision trees for better accuracy.\n",
    "    - Naïve Bayes – uses Bayes’ theorem assuming feature independence.\n",
    "    - Support Vector Machine (SVM) – finds the best hyperplane separating classes.\n",
    "    - Gradient Boosting (XGBoost, LightGBM, CatBoost) – builds sequential trees to improve predictions.\n",
    "    - Neural Networks (Deep Learning) – multi-layered models for complex classification tasks."
   ]
  },
  {
   "cell_type": "markdown",
   "id": "046523c4-fe16-401e-87c7-e675a7aa3ba2",
   "metadata": {},
   "source": [
    "**Clustering Algorithm**\n",
    "- Clustering is an unsupervised learning technique where the goal is to group similar data points together into clusters without using labels.\n",
    "- Output = Groups (clusters).\n",
    "- The example is:\n",
    "    - Grouping customers based on shopping behavior.\n",
    "- The clustering algorithm is different types such as\n",
    "    - K-Means – partitions data into K clusters using centroids.\n",
    "    - Hierarchical Clustering – builds a tree of nested clusters.\n",
    "    - DBSCAN – finds clusters in dense regions and detects outliers.\n",
    "    - Gaussian Mixture Model (GMM) – clusters using probability distributions.\n",
    "    - Mean-Shift – groups data by shifting points toward dense regions."
   ]
  },
  {
   "cell_type": "markdown",
   "id": "a9b372ed-0cf7-424b-a754-c238a2e1d47a",
   "metadata": {},
   "source": [
    "**Introduction to Scikit-Learn**\n",
    "- Scikit-Learn (sklearn) is a popular open-source Python library for Machine Learning.\n",
    "- It provides easy-to-use tools for data preprocessing, model training, evaluation, and selection.\n",
    "- Supports classification, regression, clustering, and dimensionality reduction."
   ]
  },
  {
   "cell_type": "markdown",
   "id": "162071cf-27de-4585-a33e-d48ed2a1ddc7",
   "metadata": {},
   "source": [
    "- Features of scikit-learn is:\n",
    "    - Built-in datasets (e.g., Iris, Digits).\n",
    "    - Preprocessing tools (scaling, encoding, splitting).\n",
    "    - Implementation of algorithms (regression, classification, clustering).\n",
    "    - Model evaluation (accuracy, confusion matrix, cross-validation)."
   ]
  },
  {
   "cell_type": "markdown",
   "id": "a331bddb-6ed9-4f97-80a4-bf4eefa46a2e",
   "metadata": {},
   "source": [
    "**Example**"
   ]
  },
  {
   "cell_type": "code",
   "execution_count": 2,
   "id": "5db34af9-1609-47a5-843a-5cc5f48bdb45",
   "metadata": {},
   "outputs": [
    {
     "name": "stdout",
     "output_type": "stream",
     "text": [
      "Mean Squared Error: 26.843299678269744\n",
      "R² Score: 0.9986304438939658\n"
     ]
    },
    {
     "data": {
      "image/png": "[encoded data removed]",
      "text/plain": [
       "<Figure size 640x480 with 1 Axes>"
      ]
     },
     "metadata": {},
     "output_type": "display_data"
    }
   ],
   "source": [
    "import numpy as np\n",
    "import matplotlib.pyplot as plt\n",
    "from sklearn.model_selection import train_test_split\n",
    "from sklearn.linear_model import LinearRegression\n",
    "from sklearn.metrics import mean_squared_error, r2_score\n",
    "\n",
    "# Create a simple dataset (house size vs. price)\n",
    "# House size in square feet\n",
    "X = np.array([500, 800, 1000, 1200, 1500, 1800, 2000, 2500, 3000]).reshape(-1, 1)\n",
    "\n",
    "# House price (in $1000s)\n",
    "y = np.array([150, 200, 240, 270, 310, 360, 400, 480, 550])\n",
    "\n",
    "# Split into training and test sets\n",
    "X_train, X_test, y_train, y_test = train_test_split(X, y, test_size=0.2, random_state=42)\n",
    "\n",
    "# Initialize Linear Regression model\n",
    "model = LinearRegression()\n",
    "\n",
    "# Train the model\n",
    "model.fit(X_train, y_train)\n",
    "\n",
    "# Make predictions\n",
    "y_pred = model.predict(X_test)\n",
    "\n",
    "# Evaluate model\n",
    "print(\"Mean Squared Error:\", mean_squared_error(y_test, y_pred))\n",
    "print(\"R² Score:\", r2_score(y_test, y_pred))\n",
    "\n",
    "# Plot results\n",
    "plt.scatter(X, y, color=\"blue\", label=\"Actual Data\")\n",
    "plt.plot(X, model.predict(X), color=\"red\", linewidth=2, label=\"Regression Line\")\n",
    "plt.xlabel(\"House Size (sq ft)\")\n",
    "plt.ylabel(\"House Price ($1000s)\")\n",
    "plt.legend()\n",
    "plt.show()"
   ]
  },
  {
   "cell_type": "markdown",
   "id": "8d923bc1-2045-44c5-b9d6-6af35e7d7baa",
   "metadata": {},
   "source": [
    "**2. Hands-On: Implement a basic machine learning model using scikit-learn (e.g.Linear Regression).**"
   ]
  },
  {
   "cell_type": "markdown",
   "id": "017a6107-7d9c-4e69-853a-002b5cc78963",
   "metadata": {},
   "source": [
    "**Import Libraries**\n",
    "\n",
    "- pandas → for data handling.\n",
    "- numpy → for math operations.\n",
    "- matplotlib / seaborn → for visualization.\n",
    "- scikit-learn → for ML model."
   ]
  },
  {
   "cell_type": "code",
   "execution_count": 1,
   "id": "f68639b2-e707-494c-9666-a8421d959a9c",
   "metadata": {},
   "outputs": [],
   "source": [
    "import numpy as np\n",
    "import pandas as pd\n",
    "import matplotlib.pyplot as plt\n",
    "import seaborn as sns\n",
    "\n",
    "from sklearn.model_selection import train_test_split\n",
    "from sklearn.linear_model import LinearRegression\n",
    "from sklearn.metrics import mean_squared_error, r2_score"
   ]
  },
  {
   "cell_type": "markdown",
   "id": "929c8bfe-2767-4064-9de6-72abc86de6ad",
   "metadata": {},
   "source": [
    "**Create and Load Dataset**"
   ]
  },
  {
   "cell_type": "code",
   "execution_count": 2,
   "id": "d138b45d-9d00-4a72-837d-86824faf424e",
   "metadata": {},
   "outputs": [
    {
     "name": "stdout",
     "output_type": "stream",
     "text": [
      "   YearsExperience  Salary\n",
      "0                1   45000\n",
      "1                2   50000\n",
      "2                3   60000\n",
      "3                4   65000\n",
      "4                5   70000\n",
      "5                6   75000\n",
      "6                7   80000\n",
      "7                8   85000\n",
      "8                9   90000\n",
      "9               10  100000\n"
     ]
    }
   ],
   "source": [
    "# Sample dataset\n",
    "data = {\n",
    "    \"YearsExperience\": [1, 2, 3, 4, 5, 6, 7, 8, 9, 10],\n",
    "    \"Salary\": [45000, 50000, 60000, 65000, 70000, 75000, 80000, 85000, 90000, 100000]\n",
    "}\n",
    "df = pd.DataFrame(data)\n",
    "print(df)"
   ]
  },
  {
   "cell_type": "markdown",
   "id": "92f4ad0f-6d51-46a1-a4b7-3552eb43415c",
   "metadata": {},
   "source": [
    "**Data Visualization**"
   ]
  },
  {
   "cell_type": "code",
   "execution_count": 3,
   "id": "2798958c-f4b7-4188-892f-9606dc71b8f6",
   "metadata": {},
   "outputs": [
    {
     "data": {
      "image/png": "[encoded data removed]",
      "text/plain": [
       "<Figure size 640x480 with 1 Axes>"
      ]
     },
     "metadata": {},
     "output_type": "display_data"
    }
   ],
   "source": [
    "sns.scatterplot(x=\"YearsExperience\", y=\"Salary\", data=df)\n",
    "plt.title(\"Years of Experience vs Salary\")\n",
    "plt.show()"
   ]
  },
  {
   "cell_type": "markdown",
   "id": "80d87fba-5271-4246-a3e8-9fdca18ca451",
   "metadata": {},
   "source": [
    "**Prepare Data (Features & Target)**\n",
    "\n",
    "- X (features/input) - independent variable (YearsExperience)\n",
    "- y (target/output) - dependent variable (Salary)"
   ]
  },
  {
   "cell_type": "code",
   "execution_count": 6,
   "id": "f32f4822-cd5d-48a0-a34e-829b441a3f7e",
   "metadata": {},
   "outputs": [],
   "source": [
    "X = df[[\"YearsExperience\"]] \n",
    "y = df[\"Salary\"]    "
   ]
  },
  {
   "cell_type": "markdown",
   "id": "03937912-fb33-479a-8396-581bd2069d5d",
   "metadata": {},
   "source": [
    "**Train-Test Split**"
   ]
  },
  {
   "cell_type": "code",
   "execution_count": 7,
   "id": "ce793a50-e704-4856-8f8b-10c2b9f39151",
   "metadata": {},
   "outputs": [],
   "source": [
    "X_train, X_test, y_train, y_test = train_test_split(\n",
    "    X, y, test_size=0.2, random_state=42)"
   ]
  },
  {
   "cell_type": "markdown",
   "id": "46b93dfd-04cc-4570-9279-ca20c9843ed8",
   "metadata": {},
   "source": [
    "**Train the Linear Regression Model**"
   ]
  },
  {
   "cell_type": "code",
   "execution_count": 8,
   "id": "ebe383ef-28b9-44c1-b3d3-0eb6a5cbf958",
   "metadata": {},
   "outputs": [
    {
     "data": {
      "text/html": [
       "<style>#sk-container-id-1 {\n",
       "  /* Definition of color scheme common for light and dark mode */\n",
       "  --sklearn-color-text: black;\n",
       "  --sklearn-color-line: gray;\n",
       "  /* Definition of color scheme for unfitted estimators */\n",
       "  --sklearn-color-unfitted-level-0: #fff5e6;\n",
       "  --sklearn-color-unfitted-level-1: #f6e4d2;\n",
       "  --sklearn-color-unfitted-level-2: #ffe0b3;\n",
       "  --sklearn-color-unfitted-level-3: chocolate;\n",
       "  /* Definition of color scheme for fitted estimators */\n",
       "  --sklearn-color-fitted-level-0: #f0f8ff;\n",
       "  --sklearn-color-fitted-level-1: #d4ebff;\n",
       "  --sklearn-color-fitted-level-2: #b3dbfd;\n",
       "  --sklearn-color-fitted-level-3: cornflowerblue;\n",
       "\n",
       "  /* Specific color for light theme */\n",
       "  --sklearn-color-text-on-default-background: var(--sg-text-color, var(--theme-code-foreground, var(--jp-content-font-color1, black)));\n",
       "  --sklearn-color-background: var(--sg-background-color, var(--theme-background, var(--jp-layout-color0, white)));\n",
       "  --sklearn-color-border-box: var(--sg-text-color, var(--theme-code-foreground, var(--jp-content-font-color1, black)));\n",
       "  --sklearn-color-icon: #696969;\n",
       "\n",
       "  @media (prefers-color-scheme: dark) {\n",
       "    /* Redefinition of color scheme for dark theme */\n",
       "    --sklearn-color-text-on-default-background: var(--sg-text-color, var(--theme-code-foreground, var(--jp-content-font-color1, white)));\n",
       "    --sklearn-color-background: var(--sg-background-color, var(--theme-background, var(--jp-layout-color0, #111)));\n",
       "    --sklearn-color-border-box: var(--sg-text-color, var(--theme-code-foreground, var(--jp-content-font-color1, white)));\n",
       "    --sklearn-color-icon: #878787;\n",
       "  }\n",
       "}\n",
       "\n",
       "#sk-container-id-1 {\n",
       "  color: var(--sklearn-color-text);\n",
       "}\n",
       "\n",
       "#sk-container-id-1 pre {\n",
       "  padding: 0;\n",
       "}\n",
       "\n",
       "#sk-container-id-1 input.sk-hidden--visually {\n",
       "  border: 0;\n",
       "  clip: rect(1px 1px 1px 1px);\n",
       "  clip: rect(1px, 1px, 1px, 1px);\n",
       "  height: 1px;\n",
       "  margin: -1px;\n",
       "  overflow: hidden;\n",
       "  padding: 0;\n",
       "  position: absolute;\n",
       "  width: 1px;\n",
       "}\n",
       "\n",
       "#sk-container-id-1 div.sk-dashed-wrapped {\n",
       "  border: 1px dashed var(--sklearn-color-line);\n",
       "  margin: 0 0.4em 0.5em 0.4em;\n",
       "  box-sizing: border-box;\n",
       "  padding-bottom: 0.4em;\n",
       "  background-color: var(--sklearn-color-background);\n",
       "}\n",
       "\n",
       "#sk-container-id-1 div.sk-container {\n",
       "  /* jupyter's `normalize.less` sets `[hidden] { display: none; }`\n",
       "     but bootstrap.min.css set `[hidden] { display: none !important; }`\n",
       "     so we also need the `!important` here to be able to override the\n",
       "     default hidden behavior on the sphinx rendered scikit-learn.org.\n",
       "     See: https://github.com/scikit-learn/scikit-learn/issues/21755 */\n",
       "  display: inline-block !important;\n",
       "  position: relative;\n",
       "}\n",
       "\n",
       "#sk-container-id-1 div.sk-text-repr-fallback {\n",
       "  display: none;\n",
       "}\n",
       "\n",
       "div.sk-parallel-item,\n",
       "div.sk-serial,\n",
       "div.sk-item {\n",
       "  /* draw centered vertical line to link estimators */\n",
       "  background-image: linear-gradient(var(--sklearn-color-text-on-default-background), var(--sklearn-color-text-on-default-background));\n",
       "  background-size: 2px 100%;\n",
       "  background-repeat: no-repeat;\n",
       "  background-position: center center;\n",
       "}\n",
       "\n",
       "/* Parallel-specific style estimator block */\n",
       "\n",
       "#sk-container-id-1 div.sk-parallel-item::after {\n",
       "  content: \"\";\n",
       "  width: 100%;\n",
       "  border-bottom: 2px solid var(--sklearn-color-text-on-default-background);\n",
       "  flex-grow: 1;\n",
       "}\n",
       "\n",
       "#sk-container-id-1 div.sk-parallel {\n",
       "  display: flex;\n",
       "  align-items: stretch;\n",
       "  justify-content: center;\n",
       "  background-color: var(--sklearn-color-background);\n",
       "  position: relative;\n",
       "}\n",
       "\n",
       "#sk-container-id-1 div.sk-parallel-item {\n",
       "  display: flex;\n",
       "  flex-direction: column;\n",
       "}\n",
       "\n",
       "#sk-container-id-1 div.sk-parallel-item:first-child::after {\n",
       "  align-self: flex-end;\n",
       "  width: 50%;\n",
       "}\n",
       "\n",
       "#sk-container-id-1 div.sk-parallel-item:last-child::after {\n",
       "  align-self: flex-start;\n",
       "  width: 50%;\n",
       "}\n",
       "\n",
       "#sk-container-id-1 div.sk-parallel-item:only-child::after {\n",
       "  width: 0;\n",
       "}\n",
       "\n",
       "/* Serial-specific style estimator block */\n",
       "\n",
       "#sk-container-id-1 div.sk-serial {\n",
       "  display: flex;\n",
       "  flex-direction: column;\n",
       "  align-items: center;\n",
       "  background-color: var(--sklearn-color-background);\n",
       "  padding-right: 1em;\n",
       "  padding-left: 1em;\n",
       "}\n",
       "\n",
       "\n",
       "/* Toggleable style: style used for estimator/Pipeline/ColumnTransformer box that is\n",
       "clickable and can be expanded/collapsed.\n",
       "- Pipeline and ColumnTransformer use this feature and define the default style\n",
       "- Estimators will overwrite some part of the style using the `sk-estimator` class\n",
       "*/\n",
       "\n",
       "/* Pipeline and ColumnTransformer style (default) */\n",
       "\n",
       "#sk-container-id-1 div.sk-toggleable {\n",
       "  /* Default theme specific background. It is overwritten whether we have a\n",
       "  specific estimator or a Pipeline/ColumnTransformer */\n",
       "  background-color: var(--sklearn-color-background);\n",
       "}\n",
       "\n",
       "/* Toggleable label */\n",
       "#sk-container-id-1 label.sk-toggleable__label {\n",
       "  cursor: pointer;\n",
       "  display: block;\n",
       "  width: 100%;\n",
       "  margin-bottom: 0;\n",
       "  padding: 0.5em;\n",
       "  box-sizing: border-box;\n",
       "  text-align: center;\n",
       "}\n",
       "\n",
       "#sk-container-id-1 label.sk-toggleable__label-arrow:before {\n",
       "  /* Arrow on the left of the label */\n",
       "  content: \"▸\";\n",
       "  float: left;\n",
       "  margin-right: 0.25em;\n",
       "  color: var(--sklearn-color-icon);\n",
       "}\n",
       "\n",
       "#sk-container-id-1 label.sk-toggleable__label-arrow:hover:before {\n",
       "  color: var(--sklearn-color-text);\n",
       "}\n",
       "\n",
       "/* Toggleable content - dropdown */\n",
       "\n",
       "#sk-container-id-1 div.sk-toggleable__content {\n",
       "  max-height: 0;\n",
       "  max-width: 0;\n",
       "  overflow: hidden;\n",
       "  text-align: left;\n",
       "  /* unfitted */\n",
       "  background-color: var(--sklearn-color-unfitted-level-0);\n",
       "}\n",
       "\n",
       "#sk-container-id-1 div.sk-toggleable__content.fitted {\n",
       "  /* fitted */\n",
       "  background-color: var(--sklearn-color-fitted-level-0);\n",
       "}\n",
       "\n",
       "#sk-container-id-1 div.sk-toggleable__content pre {\n",
       "  margin: 0.2em;\n",
       "  border-radius: 0.25em;\n",
       "  color: var(--sklearn-color-text);\n",
       "  /* unfitted */\n",
       "  background-color: var(--sklearn-color-unfitted-level-0);\n",
       "}\n",
       "\n",
       "#sk-container-id-1 div.sk-toggleable__content.fitted pre {\n",
       "  /* unfitted */\n",
       "  background-color: var(--sklearn-color-fitted-level-0);\n",
       "}\n",
       "\n",
       "#sk-container-id-1 input.sk-toggleable__control:checked~div.sk-toggleable__content {\n",
       "  /* Expand drop-down */\n",
       "  max-height: 200px;\n",
       "  max-width: 100%;\n",
       "  overflow: auto;\n",
       "}\n",
       "\n",
       "#sk-container-id-1 input.sk-toggleable__control:checked~label.sk-toggleable__label-arrow:before {\n",
       "  content: \"▾\";\n",
       "}\n",
       "\n",
       "/* Pipeline/ColumnTransformer-specific style */\n",
       "\n",
       "#sk-container-id-1 div.sk-label input.sk-toggleable__control:checked~label.sk-toggleable__label {\n",
       "  color: var(--sklearn-color-text);\n",
       "  background-color: var(--sklearn-color-unfitted-level-2);\n",
       "}\n",
       "\n",
       "#sk-container-id-1 div.sk-label.fitted input.sk-toggleable__control:checked~label.sk-toggleable__label {\n",
       "  background-color: var(--sklearn-color-fitted-level-2);\n",
       "}\n",
       "\n",
       "/* Estimator-specific style */\n",
       "\n",
       "/* Colorize estimator box */\n",
       "#sk-container-id-1 div.sk-estimator input.sk-toggleable__control:checked~label.sk-toggleable__label {\n",
       "  /* unfitted */\n",
       "  background-color: var(--sklearn-color-unfitted-level-2);\n",
       "}\n",
       "\n",
       "#sk-container-id-1 div.sk-estimator.fitted input.sk-toggleable__control:checked~label.sk-toggleable__label {\n",
       "  /* fitted */\n",
       "  background-color: var(--sklearn-color-fitted-level-2);\n",
       "}\n",
       "\n",
       "#sk-container-id-1 div.sk-label label.sk-toggleable__label,\n",
       "#sk-container-id-1 div.sk-label label {\n",
       "  /* The background is the default theme color */\n",
       "  color: var(--sklearn-color-text-on-default-background);\n",
       "}\n",
       "\n",
       "/* On hover, darken the color of the background */\n",
       "#sk-container-id-1 div.sk-label:hover label.sk-toggleable__label {\n",
       "  color: var(--sklearn-color-text);\n",
       "  background-color: var(--sklearn-color-unfitted-level-2);\n",
       "}\n",
       "\n",
       "/* Label box, darken color on hover, fitted */\n",
       "#sk-container-id-1 div.sk-label.fitted:hover label.sk-toggleable__label.fitted {\n",
       "  color: var(--sklearn-color-text);\n",
       "  background-color: var(--sklearn-color-fitted-level-2);\n",
       "}\n",
       "\n",
       "/* Estimator label */\n",
       "\n",
       "#sk-container-id-1 div.sk-label label {\n",
       "  font-family: monospace;\n",
       "  font-weight: bold;\n",
       "  display: inline-block;\n",
       "  line-height: 1.2em;\n",
       "}\n",
       "\n",
       "#sk-container-id-1 div.sk-label-container {\n",
       "  text-align: center;\n",
       "}\n",
       "\n",
       "/* Estimator-specific */\n",
       "#sk-container-id-1 div.sk-estimator {\n",
       "  font-family: monospace;\n",
       "  border: 1px dotted var(--sklearn-color-border-box);\n",
       "  border-radius: 0.25em;\n",
       "  box-sizing: border-box;\n",
       "  margin-bottom: 0.5em;\n",
       "  /* unfitted */\n",
       "  background-color: var(--sklearn-color-unfitted-level-0);\n",
       "}\n",
       "\n",
       "#sk-container-id-1 div.sk-estimator.fitted {\n",
       "  /* fitted */\n",
       "  background-color: var(--sklearn-color-fitted-level-0);\n",
       "}\n",
       "\n",
       "/* on hover */\n",
       "#sk-container-id-1 div.sk-estimator:hover {\n",
       "  /* unfitted */\n",
       "  background-color: var(--sklearn-color-unfitted-level-2);\n",
       "}\n",
       "\n",
       "#sk-container-id-1 div.sk-estimator.fitted:hover {\n",
       "  /* fitted */\n",
       "  background-color: var(--sklearn-color-fitted-level-2);\n",
       "}\n",
       "\n",
       "/* Specification for estimator info (e.g. \"i\" and \"?\") */\n",
       "\n",
       "/* Common style for \"i\" and \"?\" */\n",
       "\n",
       ".sk-estimator-doc-link,\n",
       "a:link.sk-estimator-doc-link,\n",
       "a:visited.sk-estimator-doc-link {\n",
       "  float: right;\n",
       "  font-size: smaller;\n",
       "  line-height: 1em;\n",
       "  font-family: monospace;\n",
       "  background-color: var(--sklearn-color-background);\n",
       "  border-radius: 1em;\n",
       "  height: 1em;\n",
       "  width: 1em;\n",
       "  text-decoration: none !important;\n",
       "  margin-left: 1ex;\n",
       "  /* unfitted */\n",
       "  border: var(--sklearn-color-unfitted-level-1) 1pt solid;\n",
       "  color: var(--sklearn-color-unfitted-level-1);\n",
       "}\n",
       "\n",
       ".sk-estimator-doc-link.fitted,\n",
       "a:link.sk-estimator-doc-link.fitted,\n",
       "a:visited.sk-estimator-doc-link.fitted {\n",
       "  /* fitted */\n",
       "  border: var(--sklearn-color-fitted-level-1) 1pt solid;\n",
       "  color: var(--sklearn-color-fitted-level-1);\n",
       "}\n",
       "\n",
       "/* On hover */\n",
       "div.sk-estimator:hover .sk-estimator-doc-link:hover,\n",
       ".sk-estimator-doc-link:hover,\n",
       "div.sk-label-container:hover .sk-estimator-doc-link:hover,\n",
       ".sk-estimator-doc-link:hover {\n",
       "  /* unfitted */\n",
       "  background-color: var(--sklearn-color-unfitted-level-3);\n",
       "  color: var(--sklearn-color-background);\n",
       "  text-decoration: none;\n",
       "}\n",
       "\n",
       "div.sk-estimator.fitted:hover .sk-estimator-doc-link.fitted:hover,\n",
       ".sk-estimator-doc-link.fitted:hover,\n",
       "div.sk-label-container:hover .sk-estimator-doc-link.fitted:hover,\n",
       ".sk-estimator-doc-link.fitted:hover {\n",
       "  /* fitted */\n",
       "  background-color: var(--sklearn-color-fitted-level-3);\n",
       "  color: var(--sklearn-color-background);\n",
       "  text-decoration: none;\n",
       "}\n",
       "\n",
       "/* Span, style for the box shown on hovering the info icon */\n",
       ".sk-estimator-doc-link span {\n",
       "  display: none;\n",
       "  z-index: 9999;\n",
       "  position: relative;\n",
       "  font-weight: normal;\n",
       "  right: .2ex;\n",
       "  padding: .5ex;\n",
       "  margin: .5ex;\n",
       "  width: min-content;\n",
       "  min-width: 20ex;\n",
       "  max-width: 50ex;\n",
       "  color: var(--sklearn-color-text);\n",
       "  box-shadow: 2pt 2pt 4pt #999;\n",
       "  /* unfitted */\n",
       "  background: var(--sklearn-color-unfitted-level-0);\n",
       "  border: .5pt solid var(--sklearn-color-unfitted-level-3);\n",
       "}\n",
       "\n",
       ".sk-estimator-doc-link.fitted span {\n",
       "  /* fitted */\n",
       "  background: var(--sklearn-color-fitted-level-0);\n",
       "  border: var(--sklearn-color-fitted-level-3);\n",
       "}\n",
       "\n",
       ".sk-estimator-doc-link:hover span {\n",
       "  display: block;\n",
       "}\n",
       "\n",
       "/* \"?\"-specific style due to the `<a>` HTML tag */\n",
       "\n",
       "#sk-container-id-1 a.estimator_doc_link {\n",
       "  float: right;\n",
       "  font-size: 1rem;\n",
       "  line-height: 1em;\n",
       "  font-family: monospace;\n",
       "  background-color: var(--sklearn-color-background);\n",
       "  border-radius: 1rem;\n",
       "  height: 1rem;\n",
       "  width: 1rem;\n",
       "  text-decoration: none;\n",
       "  /* unfitted */\n",
       "  color: var(--sklearn-color-unfitted-level-1);\n",
       "  border: var(--sklearn-color-unfitted-level-1) 1pt solid;\n",
       "}\n",
       "\n",
       "#sk-container-id-1 a.estimator_doc_link.fitted {\n",
       "  /* fitted */\n",
       "  border: var(--sklearn-color-fitted-level-1) 1pt solid;\n",
       "  color: var(--sklearn-color-fitted-level-1);\n",
       "}\n",
       "\n",
       "/* On hover */\n",
       "#sk-container-id-1 a.estimator_doc_link:hover {\n",
       "  /* unfitted */\n",
       "  background-color: var(--sklearn-color-unfitted-level-3);\n",
       "  color: var(--sklearn-color-background);\n",
       "  text-decoration: none;\n",
       "}\n",
       "\n",
       "#sk-container-id-1 a.estimator_doc_link.fitted:hover {\n",
       "  /* fitted */\n",
       "  background-color: var(--sklearn-color-fitted-level-3);\n",
       "}\n",
       "</style><div id=\"sk-container-id-1\" class=\"sk-top-container\"><div class=\"sk-text-repr-fallback\"><pre>LinearRegression()</pre><b>In a Jupyter environment, please rerun this cell to show the HTML representation or trust the notebook. <br />On GitHub, the HTML representation is unable to render, please try loading this page with nbviewer.org.</b></div><div class=\"sk-container\" hidden><div class=\"sk-item\"><div class=\"sk-estimator fitted sk-toggleable\"><input class=\"sk-toggleable__control sk-hidden--visually\" id=\"sk-estimator-id-1\" type=\"checkbox\" checked><label for=\"sk-estimator-id-1\" class=\"sk-toggleable__label fitted sk-toggleable__label-arrow fitted\">&nbsp;&nbsp;LinearRegression<a class=\"sk-estimator-doc-link fitted\" rel=\"noreferrer\" target=\"_blank\" href=\"https://scikit-learn.org/1.4/modules/generated/sklearn.linear_model.LinearRegression.html\">?<span>Documentation for LinearRegression</span></a><span class=\"sk-estimator-doc-link fitted\">i<span>Fitted</span></span></label><div class=\"sk-toggleable__content fitted\"><pre>LinearRegression()</pre></div> </div></div></div></div>"
      ],
      "text/plain": [
       "LinearRegression()"
      ]
     },
     "execution_count": 8,
     "metadata": {},
     "output_type": "execute_result"
    }
   ],
   "source": [
    "model = LinearRegression()\n",
    "model.fit(X_train, y_train)"
   ]
  },
  {
   "cell_type": "markdown",
   "id": "86295dae-5a65-49d1-83dc-f658c8d8ec22",
   "metadata": {},
   "source": [
    "**Make Predictions**"
   ]
  },
  {
   "cell_type": "code",
   "execution_count": 9,
   "id": "a4484fec-719c-406a-99fc-5a1716be4012",
   "metadata": {},
   "outputs": [
    {
     "name": "stdout",
     "output_type": "stream",
     "text": [
      "Predicted values: [92715.51724138 52284.48275862]\n",
      "Actual values: [90000, 50000]\n"
     ]
    }
   ],
   "source": [
    "y_pred = model.predict(X_test)\n",
    "\n",
    "print(\"Predicted values:\", y_pred)\n",
    "print(\"Actual values:\", list(y_test))"
   ]
  },
  {
   "cell_type": "markdown",
   "id": "5b494db9-8738-4cde-9efd-7e974ff3cdf9",
   "metadata": {},
   "source": [
    "**Evaluate Model**"
   ]
  },
  {
   "cell_type": "code",
   "execution_count": 10,
   "id": "d715d82b-1d18-4874-9a62-33e992be10d8",
   "metadata": {},
   "outputs": [
    {
     "name": "stdout",
     "output_type": "stream",
     "text": [
      "Mean Squared Error: 6296447.681331729\n",
      "R² Score: 0.9842588807966707\n"
     ]
    }
   ],
   "source": [
    "mse = mean_squared_error(y_test, y_pred)\n",
    "r2 = r2_score(y_test, y_pred)\n",
    "\n",
    "print(\"Mean Squared Error:\", mse)\n",
    "print(\"R² Score:\", r2)"
   ]
  },
  {
   "cell_type": "markdown",
   "id": "a79f838f-59ad-48b0-88c5-c2ea5b49f5b8",
   "metadata": {},
   "source": [
    "**Visualize Regression Line**"
   ]
  },
  {
   "cell_type": "code",
   "execution_count": 11,
   "id": "dab486ff-e50f-4d68-85ba-063924c1803b",
   "metadata": {},
   "outputs": [
    {
     "data": {
      "image/png": "[encoded data removed]",
      "text/plain": [
       "<Figure size 640x480 with 1 Axes>"
      ]
     },
     "metadata": {},
     "output_type": "display_data"
    }
   ],
   "source": [
    "plt.scatter(X, y, color=\"blue\", label=\"Actual Data\")\n",
    "plt.plot(X, model.predict(X), color=\"red\", label=\"Regression Line\")\n",
    "plt.xlabel(\"Years of Experience\")\n",
    "plt.ylabel(\"Salary\")\n",
    "plt.legend()\n",
    "plt.show()"
   ]
  },
  {
   "cell_type": "markdown",
   "id": "618891f4-43e4-4699-b2ec-84aaafeff673",
   "metadata": {},
   "source": [
    "**3. Client Project: Create a prediction model for client data (e.g., house prices).**"
   ]
  },
  {
   "cell_type": "code",
   "execution_count": 61,
   "id": "bc2f0782-2c51-4ce7-8c71-f12f1b9e197c",
   "metadata": {},
   "outputs": [],
   "source": [
    "import numpy as np\n",
    "import pandas as pd\n",
    "import matplotlib.pyplot as plt\n",
    "import seaborn as sns\n",
    "from pathlib import Path\n",
    "import warnings\n",
    "warnings.filterwarnings(\"ignore\")"
   ]
  },
  {
   "cell_type": "code",
   "execution_count": 38,
   "id": "319ccc90-7ad0-4c7b-9b88-746bb9a17390",
   "metadata": {},
   "outputs": [],
   "source": [
    "# CONFIG\n",
    "# -----------------------------\n",
    "DATA_PATH = Path(r\"C:\\Users\\prati\\OneDrive\\Datafiles\\House Prices.csv\")   # change here if needed\n",
    "OUT_DIR = Path(\"/mnt/data/artifacts\")\n",
    "OUT_DIR.mkdir(parents=True, exist_ok=True)\n",
    "RANDOM_STATE = 42"
   ]
  },
  {
   "cell_type": "code",
   "execution_count": 40,
   "id": "19ab5b72-e2a2-4132-9dad-a3933c329b61",
   "metadata": {},
   "outputs": [
    {
     "name": "stdout",
     "output_type": "stream",
     "text": [
      "Loaded: C:\\Users\\prati\\OneDrive\\Datafiles\\House Prices.csv\n",
      "Shape: (506, 14)\n",
      "\n",
      "First 5 rows:\n",
      "   CRIM   ZN  INDUS  CHAS   NOX    RM  AGE    DIS  RAD   TAX  PTRATIO      B  LSTAT  MEDV\n",
      "0.00632 18.0   2.31     0 0.538 6.575 65.2 4.0900    1 296.0     15.3 396.90   4.98  24.0\n",
      "0.02731  0.0   7.07     0 0.469 6.421 78.9 4.9671    2 242.0     17.8 396.90   9.14  21.6\n",
      "0.02729  0.0   7.07     0 0.469 7.185 61.1 4.9671    2 242.0     17.8 392.83   4.03  34.7\n",
      "0.03237  0.0   2.18     0 0.458 6.998 45.8 6.0622    3 222.0     18.7 394.63   2.94  33.4\n",
      "0.06905  0.0   2.18     0 0.458 7.147 54.2 6.0622    3 222.0     18.7 396.90   5.33  36.2\n"
     ]
    }
   ],
   "source": [
    "df = pd.read_csv(DATA_PATH)\n",
    "print(\"Loaded:\", DATA_PATH)\n",
    "print(\"Shape:\", df.shape)\n",
    "print(\"\\nFirst 5 rows:\")\n",
    "print(df.head().to_string(index=False))"
   ]
  },
  {
   "cell_type": "code",
   "execution_count": 41,
   "id": "13845325-f788-4f5d-914f-a0df2dfe3728",
   "metadata": {},
   "outputs": [
    {
     "name": "stdout",
     "output_type": "stream",
     "text": [
      "\n",
      "Column dtypes:\n",
      "float64    12\n",
      "int64       2\n",
      "Name: count, dtype: int64\n",
      "\n",
      "Missing values (top 10):\n",
      "CRIM     0\n",
      "ZN       0\n",
      "INDUS    0\n",
      "CHAS     0\n",
      "NOX      0\n",
      "RM       0\n",
      "AGE      0\n",
      "DIS      0\n",
      "RAD      0\n",
      "TAX      0\n",
      "dtype: int64\n",
      "\n",
      "Numeric summary (first 8 columns):\n",
      "       count       mean        std      min        25%       50%        75%       max\n",
      "CRIM   506.0   3.613524   8.601545  0.00632   0.082045   0.25651   3.677083   88.9762\n",
      "ZN     506.0  11.363636  23.322453  0.00000   0.000000   0.00000  12.500000  100.0000\n",
      "INDUS  506.0  11.136779   6.860353  0.46000   5.190000   9.69000  18.100000   27.7400\n",
      "CHAS   506.0   0.069170   0.253994  0.00000   0.000000   0.00000   0.000000    1.0000\n",
      "NOX    506.0   0.554695   0.115878  0.38500   0.449000   0.53800   0.624000    0.8710\n",
      "RM     506.0   6.284634   0.702617  3.56100   5.885500   6.20850   6.623500    8.7800\n",
      "AGE    506.0  68.574901  28.148861  2.90000  45.025000  77.50000  94.075000  100.0000\n",
      "DIS    506.0   3.795043   2.105710  1.12960   2.100175   3.20745   5.188425   12.1265\n"
     ]
    }
   ],
   "source": [
    "# 2) QUICK EDA (prints)\n",
    "# -----------------------------\n",
    "print(\"\\nColumn dtypes:\")\n",
    "print(df.dtypes.value_counts())\n",
    "print(\"\\nMissing values (top 10):\")\n",
    "print(df.isna().sum().sort_values(ascending=False).head(10))\n",
    "\n",
    "# show basic numeric summary\n",
    "print(\"\\nNumeric summary (first 8 columns):\")\n",
    "print(df.select_dtypes(include=[np.number]).describe().T.head(8).to_string())"
   ]
  },
  {
   "cell_type": "code",
   "execution_count": 42,
   "id": "89eaf1e0-cbd8-4731-a988-3f69c84a8307",
   "metadata": {},
   "outputs": [
    {
     "name": "stdout",
     "output_type": "stream",
     "text": [
      "\n",
      "Using target column -> MEDV\n"
     ]
    }
   ],
   "source": [
    "# 3) IDENTIFY TARGET & FEATURES\n",
    "# -----------------------------\n",
    "# common target names:\n",
    "\n",
    "candidate_targets = [\"SalePrice\", \"saleprice\", \"price\", \"Price\", \"MEDV\", \"target\", \"y\"]\n",
    "target = None\n",
    "for t in candidate_targets:\n",
    "    if t in df.columns:\n",
    "        target = t\n",
    "        break\n",
    "\n",
    "if target is None:\n",
    "    numeric_cols = df.select_dtypes(include=[np.number]).columns.tolist()\n",
    "    if len(numeric_cols) == 0:\n",
    "        raise ValueError(\"No numeric columns detected — please set the TARGET manually in the script.\")\n",
    "    target = numeric_cols[-1]\n",
    "    print(f\"\\nNo common target name found. Falling back to last numeric column: '{target}'\")\n",
    "\n",
    "print(\"\\nUsing target column ->\", target)"
   ]
  },
  {
   "cell_type": "code",
   "execution_count": 43,
   "id": "eaffdf88-d974-4683-8dc5-b6189099c9f2",
   "metadata": {},
   "outputs": [],
   "source": [
    "from sklearn.model_selection import train_test_split, cross_val_score, RandomizedSearchCV\n",
    "from sklearn.compose import ColumnTransformer\n",
    "from sklearn.pipeline import Pipeline\n",
    "from sklearn.impute import SimpleImputer\n",
    "from sklearn.preprocessing import StandardScaler, OneHotEncoder\n",
    "from sklearn.linear_model import Ridge\n",
    "from sklearn.ensemble import RandomForestRegressor\n",
    "from sklearn.metrics import mean_squared_error, mean_absolute_error, r2_score\n",
    "import joblib\n",
    "from scipy.stats import randint, uniform"
   ]
  },
  {
   "cell_type": "code",
   "execution_count": 44,
   "id": "e4f4924e-dbff-49a2-965f-a5abff917ab4",
   "metadata": {},
   "outputs": [
    {
     "name": "stdout",
     "output_type": "stream",
     "text": [
      "\n",
      "Numeric features (13): ['CRIM', 'ZN', 'INDUS', 'CHAS', 'NOX', 'RM', 'AGE', 'DIS', 'RAD', 'TAX', 'PTRATIO', 'B', 'LSTAT']\n",
      "Categorical features (0): []\n"
     ]
    }
   ],
   "source": [
    "# features: numeric + categorical (basic auto selection)\n",
    "numeric_features = [c for c in df.select_dtypes(include=[np.number]).columns.tolist() if c != target]\n",
    "categorical_features = df.select_dtypes(include=[\"object\", \"category\"]).columns.tolist()\n",
    "\n",
    "print(f\"\\nNumeric features ({len(numeric_features)}): {numeric_features}\")\n",
    "print(f\"Categorical features ({len(categorical_features)}): {categorical_features}\")"
   ]
  },
  {
   "cell_type": "code",
   "execution_count": 45,
   "id": "d876e6f9-89ca-47f7-8673-a274fa2d3393",
   "metadata": {},
   "outputs": [
    {
     "name": "stdout",
     "output_type": "stream",
     "text": [
      "\n",
      "Train shape: (404, 13), Test shape: (102, 13)\n"
     ]
    }
   ],
   "source": [
    "# 4) TRAIN/TEST SPLIT\n",
    "# -----------------------------\n",
    "X = df[numeric_features + categorical_features].copy()\n",
    "y = df[target].copy()\n",
    "\n",
    "X_train, X_test, y_train, y_test = train_test_split(X, y, test_size=0.2, random_state=42)\n",
    "print(f\"\\nTrain shape: {X_train.shape}, Test shape: {X_test.shape}\")"
   ]
  },
  {
   "cell_type": "code",
   "execution_count": 46,
   "id": "7f833085-3cf3-49f6-b4f9-152ef8ca2b26",
   "metadata": {},
   "outputs": [
    {
     "name": "stdout",
     "output_type": "stream",
     "text": [
      "Pipeline(steps=[('imputer', SimpleImputer(strategy='median')),\n",
      "                ('scaler', StandardScaler())])\n",
      "Pipeline(steps=[('imputer', SimpleImputer(strategy='most_frequent')),\n",
      "                ('onehot',\n",
      "                 OneHotEncoder(handle_unknown='ignore', sparse_output=False))])\n",
      "ColumnTransformer(transformers=[('num',\n",
      "                                 Pipeline(steps=[('imputer',\n",
      "                                                  SimpleImputer(strategy='median')),\n",
      "                                                 ('scaler', StandardScaler())]),\n",
      "                                 ['CRIM', 'ZN', 'INDUS', 'CHAS', 'NOX', 'RM',\n",
      "                                  'AGE', 'DIS', 'RAD', 'TAX', 'PTRATIO', 'B',\n",
      "                                  'LSTAT']),\n",
      "                                ('cat',\n",
      "                                 Pipeline(steps=[('imputer',\n",
      "                                                  SimpleImputer(strategy='most_frequent')),\n",
      "                                                 ('onehot',\n",
      "                                                  OneHotEncoder(handle_unknown='ignore',\n",
      "                                                                sparse_output=False))]),\n",
      "                                 [])])\n"
     ]
    }
   ],
   "source": [
    "# 5) PREPROCESSING\n",
    "# -----------------------------\n",
    "numeric_transformer = Pipeline(steps=[\n",
    "    (\"imputer\", SimpleImputer(strategy=\"median\")),\n",
    "    (\"scaler\", StandardScaler())])\n",
    "print(numeric_transformer)\n",
    "\n",
    "categorical_transformer = Pipeline(steps=[\n",
    "    (\"imputer\", SimpleImputer(strategy=\"most_frequent\")),\n",
    "    (\"onehot\", OneHotEncoder(handle_unknown=\"ignore\", sparse_output=False))])\n",
    "print(categorical_transformer)\n",
    "\n",
    "preprocessor = ColumnTransformer(transformers=[\n",
    "    (\"num\", numeric_transformer, numeric_features),\n",
    "    (\"cat\", categorical_transformer, categorical_features)])\n",
    "print(preprocessor)"
   ]
  },
  {
   "cell_type": "code",
   "execution_count": 47,
   "id": "a074ab95-4e3f-41d6-97df-69b9aced50c3",
   "metadata": {},
   "outputs": [],
   "source": [
    "# helper: function to get feature names after ColumnTransformer\n",
    "def get_feature_names_from_ct(ct: ColumnTransformer):\n",
    "    \"\"\"Return final feature names after ColumnTransformer.\"\"\"\n",
    "    feature_names = []\n",
    "    for name, transformer, cols in ct.transformers_:\n",
    "        if transformer == 'drop' or transformer == 'passthrough':\n",
    "            continue\n",
    "        # get last step if pipeline\n",
    "        trans = transformer\n",
    "        if hasattr(transformer, \"named_steps\"):\n",
    "            # last transform step\n",
    "            last = list(transformer.named_steps.keys())[-1]\n",
    "            trans = transformer.named_steps[last]\n",
    "        try:\n",
    "            names = trans.get_feature_names_out(cols)\n",
    "        except Exception:\n",
    "            # fallback\n",
    "            names = cols\n",
    "        # ensure list\n",
    "        feature_names.extend(list(names))\n",
    "    return feature_names"
   ]
  },
  {
   "cell_type": "code",
   "execution_count": 48,
   "id": "42179f92-61f0-4592-a884-563877a1551b",
   "metadata": {},
   "outputs": [
    {
     "name": "stdout",
     "output_type": "stream",
     "text": [
      "\n",
      "Quick cross-validated RMSE (3-fold) on training set:\n",
      " ridge  RMSE = 4.8277\n",
      " rf     RMSE = 4.0255\n"
     ]
    }
   ],
   "source": [
    "# 6) MODELS: baseline & CV\n",
    "try:\n",
    "    import lightgbm as lgb\n",
    "except Exception:\n",
    "    lgb = None\n",
    "    \n",
    "models = {\n",
    "    \"ridge\": Pipeline([(\"preproc\", preprocessor), (\"model\", Ridge(random_state=42))]),\n",
    "    \"rf\":    Pipeline([(\"preproc\", preprocessor), (\"model\", RandomForestRegressor(n_estimators=100, random_state=42, n_jobs=-1))])\n",
    "}\n",
    "if lgb is not None:\n",
    "    models[\"lgbm\"] = Pipeline([(\"preproc\", preprocessor), (\"model\", lgb.LGBMRegressor(random_state=42))])\n",
    "\n",
    "print(\"\\nQuick cross-validated RMSE (3-fold) on training set:\")\n",
    "for name, pipe in models.items():\n",
    "    scores = cross_val_score(pipe, X_train, y_train, cv=3, scoring=\"neg_root_mean_squared_error\", n_jobs=-1)\n",
    "    print(f\" {name:6s} RMSE = {-scores.mean():.4f}\")"
   ]
  },
  {
   "cell_type": "code",
   "execution_count": 49,
   "id": "2ce9470d-50b8-44c4-b995-fd627b1aec71",
   "metadata": {},
   "outputs": [
    {
     "name": "stdout",
     "output_type": "stream",
     "text": [
      "\n",
      "Starting a quick RandomizedSearchCV for RandomForest (n_iter=20) ...\n",
      "RandomizedSearch done in 16.2s. Best CV RMSE = 3.8045\n",
      "Best params: {'model__max_depth': 22, 'model__max_features': 0.5, 'model__min_samples_leaf': 1, 'model__min_samples_split': 4, 'model__n_estimators': 278}\n"
     ]
    }
   ],
   "source": [
    "# 7) OPTIONAL: QUICK TUNING for RandomForest\n",
    "import time\n",
    "print(\"\\nStarting a quick RandomizedSearchCV for RandomForest (n_iter=20) ...\")\n",
    "rf_param_dist = {\n",
    "    \"model__n_estimators\": randint(50, 300),\n",
    "    \"model__max_depth\": randint(3, 30),\n",
    "    \"model__min_samples_split\": randint(2, 10),\n",
    "    \"model__min_samples_leaf\": randint(1, 6),\n",
    "    \"model__max_features\": [\"auto\", \"sqrt\", \"log2\", 0.5]\n",
    "}\n",
    "rf_pipe = models[\"rf\"]\n",
    "rs = RandomizedSearchCV(rf_pipe, rf_param_dist, n_iter=20, scoring=\"neg_root_mean_squared_error\",\n",
    "                        cv=3, random_state=42, n_jobs=-1, verbose=0)\n",
    "t0 = time.time()\n",
    "rs.fit(X_train, y_train)\n",
    "t1 = time.time()\n",
    "print(f\"RandomizedSearch done in {(t1-t0):.1f}s. Best CV RMSE = {-rs.best_score_:.4f}\")\n",
    "print(\"Best params:\", rs.best_params_)"
   ]
  },
  {
   "cell_type": "code",
   "execution_count": 50,
   "id": "32824603-e4f8-480e-9182-e097baea2ecb",
   "metadata": {},
   "outputs": [
    {
     "name": "stdout",
     "output_type": "stream",
     "text": [
      "\n",
      "ridge -> RMSE: 4.9308, MAE: 3.1857, R2: 0.6685\n",
      "\n",
      "rf_tuned -> RMSE: 3.0095, MAE: 2.0073, R2: 0.8765\n",
      "\n",
      "Best model on test set: rf_tuned\n"
     ]
    }
   ],
   "source": [
    "# 8) FINAL EVALUATION ON TEST SET\n",
    "# Fit baseline ridge and tuned RF (and lgbm if present), evaluate:\n",
    "evaluators = {}\n",
    "# fit ridge\n",
    "models[\"ridge\"].fit(X_train, y_train)\n",
    "evaluators[\"ridge\"] = models[\"ridge\"]\n",
    "\n",
    "# tuned RF\n",
    "evaluators[\"rf_tuned\"] = rs.best_estimator_\n",
    "def evaluate(pipe, X_test, y_test):\n",
    "    preds = pipe.predict(X_test)\n",
    "    return {\n",
    "        \"rmse\": float(mean_squared_error(y_test, preds, squared=False)),\n",
    "        \"mae\": float(mean_absolute_error(y_test, preds)),\n",
    "        \"r2\": float(r2_score(y_test, preds)),\n",
    "        \"preds\": preds\n",
    "    }\n",
    "\n",
    "results = {}\n",
    "for name, pipe in evaluators.items():\n",
    "    results[name] = evaluate(pipe, X_test, y_test)\n",
    "    print(f\"\\n{name} -> RMSE: {results[name]['rmse']:.4f}, MAE: {results[name]['mae']:.4f}, R2: {results[name]['r2']:.4f}\")\n",
    "# choose best by RMSE\n",
    "best_name = min(results.items(), key=lambda x: x[1][\"rmse\"])[0]\n",
    "best_pipe = evaluators[best_name]\n",
    "print(\"\\nBest model on test set:\", best_name)"
   ]
  },
  {
   "cell_type": "code",
   "execution_count": 51,
   "id": "a84497d1-72e1-4701-bbf9-4d9127fdc95f",
   "metadata": {},
   "outputs": [
    {
     "name": "stdout",
     "output_type": "stream",
     "text": [
      "\n",
      "Top 15 feature importances:\n",
      "RM         0.373878\n",
      "LSTAT      0.321236\n",
      "CRIM       0.054336\n",
      "DIS        0.054249\n",
      "PTRATIO    0.046662\n",
      "NOX        0.042996\n",
      "INDUS      0.037249\n",
      "TAX        0.021827\n",
      "AGE        0.018257\n",
      "B          0.016500\n",
      "RAD        0.005834\n",
      "CHAS       0.004587\n",
      "ZN         0.002390\n"
     ]
    }
   ],
   "source": [
    "# 9) FEATURE IMPORTANCE (if tree model)\n",
    "feat_names = get_feature_names_from_ct(best_pipe.named_steps[\"preproc\"])\n",
    "if hasattr(best_pipe.named_steps[\"model\"], \"feature_importances_\"):\n",
    "    importances = best_pipe.named_steps[\"model\"].feature_importances_\n",
    "    fi = pd.Series(importances, index=feat_names).sort_values(ascending=False)\n",
    "    print(\"\\nTop 15 feature importances:\")\n",
    "    print(fi.head(15).to_string())\n",
    "    # save to CSV\n",
    "    fi.head(50).to_csv(OUT_DIR / \"feature_importances.csv\")\n",
    "else:\n",
    "    print(\"\\nModel does not expose feature_importances_ (e.g., Ridge).\")"
   ]
  },
  {
   "cell_type": "code",
   "execution_count": 55,
   "id": "b2a8da98-2a05-4d22-8339-be2556ac21fd",
   "metadata": {},
   "outputs": [
    {
     "name": "stdout",
     "output_type": "stream",
     "text": [
      "\n",
      "Saved model to \\mnt\\data\\artifacts\\model.joblib\n",
      "Saved metadata to \\mnt\\data\\artifacts\\model_metadata.json\n",
      "Saved plot to \\mnt\\data\\artifacts\\actual_vs_pred.png\n"
     ]
    },
    {
     "data": {
      "image/png": "[encoded data removed]",
      "text/plain": [
       "<Figure size 600x600 with 1 Axes>"
      ]
     },
     "metadata": {},
     "output_type": "display_data"
    }
   ],
   "source": [
    "# 10) SAVE ARTIFACTS: model + metadata + plot\n",
    "import json\n",
    "model_path = OUT_DIR / \"model.joblib\"\n",
    "metadata_path = OUT_DIR / \"model_metadata.json\"\n",
    "plot_path = OUT_DIR / \"actual_vs_pred.png\"\n",
    "\n",
    "joblib.dump(best_pipe, model_path)\n",
    "meta = {\n",
    "    \"model_name\": best_name,\n",
    "    \"target\": target,\n",
    "    \"numeric_features\": numeric_features,\n",
    "    \"categorical_features\": categorical_features,\n",
    "    \"results_test\": {k: {\"rmse\": v[\"rmse\"], \"mae\": v[\"mae\"], \"r2\": v[\"r2\"]} for k, v in results.items()},\n",
    "    \"trained_at\": time.ctime()\n",
    "}\n",
    "with open(metadata_path, \"w\") as f:\n",
    "    json.dump(meta, f, indent=2)\n",
    "    \n",
    "# actual vs predicted plot\n",
    "y_test_vals = y_test.values\n",
    "preds = results[best_name][\"preds\"]\n",
    "plt.figure(figsize=(6,6))\n",
    "sns.scatterplot(x=y_test_vals, y=preds, alpha=0.7)\n",
    "minv = min(y_test_vals.min(), preds.min())\n",
    "maxv = max(y_test_vals.max(), preds.max())\n",
    "plt.plot([minv, maxv], [minv, maxv], ls=\"--\")\n",
    "plt.xlabel(\"Actual\")\n",
    "plt.ylabel(\"Predicted\")\n",
    "plt.title(f\"Actual vs Predicted ({best_name})\")\n",
    "plt.tight_layout()\n",
    "plt.savefig(plot_path)\n",
    "print(f\"\\nSaved model to {model_path}\")\n",
    "print(f\"Saved metadata to {metadata_path}\")\n",
    "print(f\"Saved plot to {plot_path}\")"
   ]
  }
 ],
 "metadata": {
  "kernelspec": {
   "display_name": "Python 3 (ipykernel)",
   "language": "python",
   "name": "python3"
  },
  "language_info": {
   "codemirror_mode": {
    "name": "ipython",
    "version": 3
   },
   "file_extension": ".py",
   "mimetype": "text/x-python",
   "name": "python",
   "nbconvert_exporter": "python",
   "pygments_lexer": "ipython3",
   "version": "3.12.4"
  }
 },
 "nbformat": 4,
 "nbformat_minor": 5
}
