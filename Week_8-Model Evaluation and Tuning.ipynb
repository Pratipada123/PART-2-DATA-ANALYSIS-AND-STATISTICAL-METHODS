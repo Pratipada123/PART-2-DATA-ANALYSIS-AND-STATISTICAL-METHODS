{
 "cells": [
  {
   "cell_type": "code",
   "execution_count": 1,
   "id": "53795afa-14a0-43f7-a54c-0e8ffe93a75d",
   "metadata": {},
   "outputs": [],
   "source": [
    "# Week 8: Model Evaluation and Tuning\n",
    "# Theory: Study performance metrics for ML models, cross-validation, and hyperparameter tuning (GridSearchCV).\n",
    "# Hands-On: Evaluate a model’s performance using accuracy,precision,recall and F1-score.Use GridSearchCV to tune hyperparameters.\n",
    "# Client Project: Tune a model to improve its performance."
   ]
  },
  {
   "cell_type": "markdown",
   "id": "c0a0f28e-7a04-40cd-8d58-15907578b3d8",
   "metadata": {},
   "source": [
    "**Model Evaluation and Tuning**\n",
    "\n",
    "**Model Evaluation**\n",
    "- Model evaluation is the process of checking how well your machine learning model performs on unseen (test/validation) data. \n",
    "- It helps you know if the model generalizes well or just memorized the training data.\n",
    "\n",
    "- Common Evaluation Metrics\n",
    "- Classification\n",
    "\n",
    "    - Accuracy – % of correct predictions.\n",
    "    \n",
    "    - Precision – Out of predicted positives, how many are actually positive.\n",
    "    \n",
    "    - Recall – Out of actual positives, how many were correctly predicted.\n",
    "    \n",
    "    - F1-score – Harmonic mean of precision & recall.\n",
    "    \n",
    "    - ROC-AUC – Area under the curve, shows model’s ability to separate classes.\n",
    "**Model Tuning**\n",
    "- Model tuning is the process of optimizing a model to improve performance by adjusting hyperparameters.\n",
    "- Hyperparameter Tuning Methods\n",
    "\n",
    "    - Grid Search – Try all possible combinations of parameters.\n",
    "    \n",
    "    - Random Search – Randomly selects combinations, faster than grid search.\n",
    "    \n",
    "    - Bayesian Optimization – Uses probability models to choose next best parameters.\n",
    "    \n",
    "    - Automated ML (AutoML) – Tools like AutoKeras, H2O, or Azure ML automate the process."
   ]
  },
  {
   "cell_type": "markdown",
   "id": "76485080-703c-4492-a441-0eda71755a08",
   "metadata": {},
   "source": [
    "**1.Theory: Study performance metrics for ML models, cross-validation, and hyperparameter tuning (GridSearchCV).**"
   ]
  },
  {
   "cell_type": "markdown",
   "id": "75d11569-420b-4c65-ba5d-c5964d0137d0",
   "metadata": {},
   "source": [
    "**Performance Metrics for ML Models**\n",
    "- Performance metrics depend on the type of problem."
   ]
  },
  {
   "cell_type": "markdown",
   "id": "3ea16448-bf8e-4792-8467-608ebbe595de",
   "metadata": {},
   "source": [
    "**1.Classification Metrics**\n",
    "- When the target is categorical: spam/ham, disease/no disease, etc.\n",
    "- Accuracy\n",
    "    - Proportion of correct predictions.\n",
    "- Precision (Positive Predictive Value)\n",
    "    - Out oBalance between precision & recall, good for imbalanced datasets.f predicted positives, how many are correct.\n",
    "    - Useful when false positives are costly\n",
    "- Recall (Sensitivity / True Positive Rate)\n",
    "    - Out of actual positives, how many were detected.\n",
    "    - Useful when false negatives are costly\n",
    "- F1-Score\n",
    "    - Balance between precision & recall, good for imbalanced datasets.\n",
    "- ROC-AUC (Receiver Operating Characteristic – Area Under Curve)\n",
    "    - Measures ability to separate classes (1 = perfect, 0.5 = random).\n",
    "- Confusion Matrix\n",
    "    - A table showing TP, TN, FP, FN → helps visualize errors."
   ]
  },
  {
   "cell_type": "markdown",
   "id": "a9cafe3c-6cd4-4874-90f7-31ee1fd32d48",
   "metadata": {},
   "source": [
    "**2.Regression Metrics**\n",
    "- When the target is continuous: house price, temperature, etc.\n",
    "\n",
    "- Mean Absolute Error (MAE)\n",
    "    - Average absolute difference between predictions & actual values.\n",
    "- Mean Squared Error (MSE)\n",
    "    - Penalizes large errors more than MAE.\n",
    "- Root Mean Squared Error (RMSE)\n",
    "    - Same unit as target variable, easier to interpret.\n",
    "- R² Score (Coefficient of Determination)\n",
    "    - Explains how much variance in target is captured by the model (closer to 1 = better)."
   ]
  },
  {
   "cell_type": "markdown",
   "id": "10aff746-6b53-48ea-81f0-2f883ab73e81",
   "metadata": {},
   "source": [
    "**3. Clustering Metrics (unsupervised learning)**\n",
    "\n",
    "- Silhouette Score → How well clusters are separated.\n",
    "\n",
    "- Davies-Bouldin Index → Lower is better.\n",
    "\n",
    "- Adjusted Rand Index (ARI) → Measures similarity with true labels (if available)."
   ]
  },
  {
   "cell_type": "markdown",
   "id": "0ef6cf45-b596-4127-853c-17ede644dddc",
   "metadata": {},
   "source": [
    "**What is Cross-Validation**\n",
    "\n",
    "- Cross-validation is a resampling technique used to evaluate machine learning models on unseen data.\n",
    "- Instead of relying on a single train-test split, CV provides a more reliable estimate of model performance.\n",
    "- It helps detect overfitting and ensures the model generalizes well."
   ]
  },
  {
   "cell_type": "markdown",
   "id": "cd224913-a566-49a0-acc2-d2b18fe7ef58",
   "metadata": {},
   "source": [
    "- Types of Cross-Validation\n",
    "a)k-Fold Cross-Validation (most common)\n",
    "    - Dataset is split into k equal parts (folds).\n",
    "    - Model is trained on (k-1) folds and tested on the remaining fold.\n",
    "    - Repeat k times, each fold being test set once.\n",
    "    - Final performance = average of k runs.\n",
    "    - Example: 5-fold CV → Train on 4 folds, test on 1 → repeat 5 times."
   ]
  },
  {
   "cell_type": "markdown",
   "id": "34fa4cd1-b00b-4605-9df0-62434d23ffc1",
   "metadata": {},
   "source": [
    "- b)Stratified k-Fold Cross-Validation\n",
    "\n",
    "    - Similar to k-Fold but preserves class distribution in each fold. \n",
    "    - Important for imbalanced datasets (e.g., fraud detection, medical diagnosis)."
   ]
  },
  {
   "cell_type": "markdown",
   "id": "c6f3b58c-bc05-4fa5-91a0-27242c5bee77",
   "metadata": {},
   "source": [
    "- c)Leave-One-Out Cross-Validation (LOOCV)\n",
    "\n",
    "    - Each sample is used once as test data, and the rest (n-1 samples) are training data.\n",
    "    - Very accurate but computationally expensive (n folds)."
   ]
  },
  {
   "cell_type": "markdown",
   "id": "fd7ed44d-109d-41cc-8f10-a50a62a8f347",
   "metadata": {},
   "source": [
    "- d)Leave-p-Out Cross-Validation\n",
    "\n",
    "    - Similar to LOOCV but leaves p samples out for testing instead of 1.\n",
    "    - Even more expensive computationally."
   ]
  },
  {
   "cell_type": "markdown",
   "id": "db6554be-0ba2-41bb-97e7-fe8a6742e85c",
   "metadata": {},
   "source": [
    "**Hyperparameter Tuning (GridSearchCV).**"
   ]
  },
  {
   "cell_type": "markdown",
   "id": "92984d8a-9f66-41fc-996c-c13e31a7e052",
   "metadata": {},
   "source": [
    "- Parameters → Learned automatically during training (e.g., weights in linear regression, coefficients in logistic regression).\n",
    "\n",
    "- Hyperparameters → Set before training and control the learning process."
   ]
  },
  {
   "cell_type": "markdown",
   "id": "0637bbfb-4707-4c97-b0fb-17991fa6f6b4",
   "metadata": {},
   "source": [
    "- Examples of hyperparameters:\n",
    "    \n",
    "    - Decision Tree: max_depth, min_samples_split\n",
    "    - Random Forest: n_estimators, max_features\n",
    "    - SVM: C, kernel, gamma\n",
    "    - Neural Networks: learning_rate, batch_size, epochs"
   ]
  },
  {
   "cell_type": "markdown",
   "id": "3fab2735-377a-458b-a0c8-bf7fb5ccdb2b",
   "metadata": {},
   "source": [
    "**GridSearchCV**\n",
    "\n",
    "- Grid Search → Tries all possible combinations of given hyperparameters.\n",
    "- CV (Cross-Validation) → Each combination is evaluated using k-fold CV.\n",
    "- Returns:\n",
    "- Best hyperparameters (best_params_)\n",
    "- Best score (best_score_)\n",
    "- Best model (best_estimator_)"
   ]
  },
  {
   "cell_type": "code",
   "execution_count": 5,
   "id": "acf3e897-c11a-4612-a05d-70e35c07246a",
   "metadata": {},
   "outputs": [
    {
     "name": "stdout",
     "output_type": "stream",
     "text": [
      "Best Parameters: {'C': 0.1, 'gamma': 'scale', 'kernel': 'poly'}\n",
      "Best Score: 0.9866666666666667\n",
      "Best Model: SVC(C=0.1, kernel='poly')\n"
     ]
    }
   ],
   "source": [
    "from sklearn.datasets import load_iris\n",
    "from sklearn.model_selection import GridSearchCV\n",
    "from sklearn.svm import SVC\n",
    "# Load dataset\n",
    "X, y = load_iris(return_X_y=True)\n",
    "\n",
    "# Define model\n",
    "svm = SVC()\n",
    "\n",
    "# Define parameter grid\n",
    "param_grid = {\n",
    "    'C': [0.1, 1, 10],\n",
    "    'kernel': ['linear', 'rbf', 'poly'],\n",
    "    'gamma': ['scale', 'auto']\n",
    "}\n",
    "\n",
    "# GridSearchCV with 5-fold CV\n",
    "grid = GridSearchCV(estimator=svm, param_grid=param_grid, cv=5, scoring='accuracy')\n",
    "\n",
    "# Fit\n",
    "grid.fit(X, y)\n",
    "# Results\n",
    "print(\"Best Parameters:\", grid.best_params_)\n",
    "print(\"Best Score:\", grid.best_score_)\n",
    "print(\"Best Model:\", grid.best_estimator_)"
   ]
  },
  {
   "cell_type": "markdown",
   "id": "4e52c9d0-b13d-42aa-acaa-8842c4a40da3",
   "metadata": {},
   "source": [
    "**2. Hands-On: Evaluate a model’s performance using accuracy, precision, recall,\n",
    "and F1-score. Use GridSearchCV to tune hyperparameters.**"
   ]
  },
  {
   "cell_type": "code",
   "execution_count": 6,
   "id": "edca5a18-9b06-4a89-b78d-8a7375f0b711",
   "metadata": {},
   "outputs": [
    {
     "name": "stdout",
     "output_type": "stream",
     "text": [
      "Best Parameters: {'C': 1, 'solver': 'lbfgs'}\n",
      "Best Cross-Validation Accuracy: 0.9666666666666668\n",
      "Test Accuracy: 0.9666666666666667\n",
      "Test Precision (macro): 0.9696969696969697\n",
      "Test Recall (macro): 0.9666666666666667\n",
      "Test F1-score (macro): 0.9665831244778612\n",
      "\n",
      "Classification Report:\n",
      "               precision    recall  f1-score   support\n",
      "\n",
      "           0       1.00      1.00      1.00        10\n",
      "           1       1.00      0.90      0.95        10\n",
      "           2       0.91      1.00      0.95        10\n",
      "\n",
      "    accuracy                           0.97        30\n",
      "   macro avg       0.97      0.97      0.97        30\n",
      "weighted avg       0.97      0.97      0.97        30\n",
      "\n"
     ]
    }
   ],
   "source": [
    "# Step 1: Import libraries\n",
    "from sklearn.datasets import load_iris\n",
    "from sklearn.model_selection import train_test_split, GridSearchCV\n",
    "from sklearn.linear_model import LogisticRegression\n",
    "from sklearn.metrics import accuracy_score, precision_score, recall_score, f1_score, classification_report\n",
    "\n",
    "# Step 2: Load dataset\n",
    "X, y = load_iris(return_X_y=True)\n",
    "\n",
    "# Split data into train (80%) and test (20%)\n",
    "X_train, X_test, y_train, y_test = train_test_split(X, y, test_size=0.2, random_state=42, stratify=y)\n",
    "\n",
    "# Step 3: Define the model\n",
    "log_reg = LogisticRegression(max_iter=500)\n",
    "\n",
    "# Step 4: Define parameter grid for tuning\n",
    "param_grid = {\n",
    "    'C': [0.01, 0.1, 1, 10],         # Regularization strength\n",
    "    'solver': ['liblinear', 'lbfgs'] # Optimization solvers\n",
    "}\n",
    "\n",
    "# Step 5: Apply GridSearchCV\n",
    "grid = GridSearchCV(estimator=log_reg, param_grid=param_grid, cv=5, scoring='accuracy')\n",
    "grid.fit(X_train, y_train)\n",
    "\n",
    "print(\"Best Parameters:\", grid.best_params_)\n",
    "print(\"Best Cross-Validation Accuracy:\", grid.best_score_)\n",
    "\n",
    "# Step 6: Evaluate on test data\n",
    "best_model = grid.best_estimator_\n",
    "y_pred = best_model.predict(X_test)\n",
    "\n",
    "# Step 7: Compute evaluation metrics\n",
    "print(\"Test Accuracy:\", accuracy_score(y_test, y_pred))\n",
    "print(\"Test Precision (macro):\", precision_score(y_test, y_pred, average='macro'))\n",
    "print(\"Test Recall (macro):\", recall_score(y_test, y_pred, average='macro'))\n",
    "print(\"Test F1-score (macro):\", f1_score(y_test, y_pred, average='macro'))\n",
    "\n",
    "# Detailed classification report\n",
    "print(\"\\nClassification Report:\\n\", classification_report(y_test, y_pred))"
   ]
  },
  {
   "cell_type": "markdown",
   "id": "efd3d380-ee5c-4644-84e3-c56cb1f05080",
   "metadata": {},
   "source": [
    "**Client Project: Tune a model to improve its performance.**"
   ]
  },
  {
   "cell_type": "code",
   "execution_count": 9,
   "id": "60617ca0-862d-4140-8f06-a94623cfd244",
   "metadata": {},
   "outputs": [],
   "source": [
    "# Step 1 — Imports all the libraries\n",
    "import numpy as np\n",
    "import pandas as pd\n",
    "import matplotlib.pyplot as plt\n",
    "from pprint import pprint\n",
    "from time import time\n",
    "\n",
    "from sklearn.datasets import load_breast_cancer\n",
    "from sklearn.model_selection import train_test_split, StratifiedKFold, cross_validate, RandomizedSearchCV, GridSearchCV\n",
    "from sklearn.pipeline import Pipeline\n",
    "from sklearn.preprocessing import StandardScaler\n",
    "from sklearn.feature_selection import SelectFromModel, SelectKBest, f_classif\n",
    "from sklearn.linear_model import LogisticRegression\n",
    "from sklearn.ensemble import RandomForestClassifier, VotingClassifier\n",
    "from sklearn.metrics import classification_report, roc_auc_score, roc_curve, ConfusionMatrixDisplay\n",
    "import joblib"
   ]
  },
  {
   "cell_type": "code",
   "execution_count": 10,
   "id": "a236efda-0c1e-4592-990d-3c99c7406eca",
   "metadata": {},
   "outputs": [
    {
     "name": "stdout",
     "output_type": "stream",
     "text": [
      "Features: (569, 30)\n",
      "Classes distribution:\n",
      " 1    0.627417\n",
      "0    0.372583\n",
      "Name: proportion, dtype: float64\n"
     ]
    },
    {
     "data": {
      "text/html": [
       "<div>\n",
       "<style scoped>\n",
       "    .dataframe tbody tr th:only-of-type {\n",
       "        vertical-align: middle;\n",
       "    }\n",
       "\n",
       "    .dataframe tbody tr th {\n",
       "        vertical-align: top;\n",
       "    }\n",
       "\n",
       "    .dataframe thead th {\n",
       "        text-align: right;\n",
       "    }\n",
       "</style>\n",
       "<table border=\"1\" class=\"dataframe\">\n",
       "  <thead>\n",
       "    <tr style=\"text-align: right;\">\n",
       "      <th></th>\n",
       "      <th>mean radius</th>\n",
       "      <th>mean texture</th>\n",
       "      <th>mean perimeter</th>\n",
       "      <th>mean area</th>\n",
       "      <th>mean smoothness</th>\n",
       "      <th>mean compactness</th>\n",
       "      <th>mean concavity</th>\n",
       "      <th>mean concave points</th>\n",
       "      <th>mean symmetry</th>\n",
       "      <th>mean fractal dimension</th>\n",
       "      <th>...</th>\n",
       "      <th>worst radius</th>\n",
       "      <th>worst texture</th>\n",
       "      <th>worst perimeter</th>\n",
       "      <th>worst area</th>\n",
       "      <th>worst smoothness</th>\n",
       "      <th>worst compactness</th>\n",
       "      <th>worst concavity</th>\n",
       "      <th>worst concave points</th>\n",
       "      <th>worst symmetry</th>\n",
       "      <th>worst fractal dimension</th>\n",
       "    </tr>\n",
       "  </thead>\n",
       "  <tbody>\n",
       "    <tr>\n",
       "      <th>0</th>\n",
       "      <td>17.99</td>\n",
       "      <td>10.38</td>\n",
       "      <td>122.80</td>\n",
       "      <td>1001.0</td>\n",
       "      <td>0.11840</td>\n",
       "      <td>0.27760</td>\n",
       "      <td>0.3001</td>\n",
       "      <td>0.14710</td>\n",
       "      <td>0.2419</td>\n",
       "      <td>0.07871</td>\n",
       "      <td>...</td>\n",
       "      <td>25.38</td>\n",
       "      <td>17.33</td>\n",
       "      <td>184.60</td>\n",
       "      <td>2019.0</td>\n",
       "      <td>0.1622</td>\n",
       "      <td>0.6656</td>\n",
       "      <td>0.7119</td>\n",
       "      <td>0.2654</td>\n",
       "      <td>0.4601</td>\n",
       "      <td>0.11890</td>\n",
       "    </tr>\n",
       "    <tr>\n",
       "      <th>1</th>\n",
       "      <td>20.57</td>\n",
       "      <td>17.77</td>\n",
       "      <td>132.90</td>\n",
       "      <td>1326.0</td>\n",
       "      <td>0.08474</td>\n",
       "      <td>0.07864</td>\n",
       "      <td>0.0869</td>\n",
       "      <td>0.07017</td>\n",
       "      <td>0.1812</td>\n",
       "      <td>0.05667</td>\n",
       "      <td>...</td>\n",
       "      <td>24.99</td>\n",
       "      <td>23.41</td>\n",
       "      <td>158.80</td>\n",
       "      <td>1956.0</td>\n",
       "      <td>0.1238</td>\n",
       "      <td>0.1866</td>\n",
       "      <td>0.2416</td>\n",
       "      <td>0.1860</td>\n",
       "      <td>0.2750</td>\n",
       "      <td>0.08902</td>\n",
       "    </tr>\n",
       "    <tr>\n",
       "      <th>2</th>\n",
       "      <td>19.69</td>\n",
       "      <td>21.25</td>\n",
       "      <td>130.00</td>\n",
       "      <td>1203.0</td>\n",
       "      <td>0.10960</td>\n",
       "      <td>0.15990</td>\n",
       "      <td>0.1974</td>\n",
       "      <td>0.12790</td>\n",
       "      <td>0.2069</td>\n",
       "      <td>0.05999</td>\n",
       "      <td>...</td>\n",
       "      <td>23.57</td>\n",
       "      <td>25.53</td>\n",
       "      <td>152.50</td>\n",
       "      <td>1709.0</td>\n",
       "      <td>0.1444</td>\n",
       "      <td>0.4245</td>\n",
       "      <td>0.4504</td>\n",
       "      <td>0.2430</td>\n",
       "      <td>0.3613</td>\n",
       "      <td>0.08758</td>\n",
       "    </tr>\n",
       "    <tr>\n",
       "      <th>3</th>\n",
       "      <td>11.42</td>\n",
       "      <td>20.38</td>\n",
       "      <td>77.58</td>\n",
       "      <td>386.1</td>\n",
       "      <td>0.14250</td>\n",
       "      <td>0.28390</td>\n",
       "      <td>0.2414</td>\n",
       "      <td>0.10520</td>\n",
       "      <td>0.2597</td>\n",
       "      <td>0.09744</td>\n",
       "      <td>...</td>\n",
       "      <td>14.91</td>\n",
       "      <td>26.50</td>\n",
       "      <td>98.87</td>\n",
       "      <td>567.7</td>\n",
       "      <td>0.2098</td>\n",
       "      <td>0.8663</td>\n",
       "      <td>0.6869</td>\n",
       "      <td>0.2575</td>\n",
       "      <td>0.6638</td>\n",
       "      <td>0.17300</td>\n",
       "    </tr>\n",
       "    <tr>\n",
       "      <th>4</th>\n",
       "      <td>20.29</td>\n",
       "      <td>14.34</td>\n",
       "      <td>135.10</td>\n",
       "      <td>1297.0</td>\n",
       "      <td>0.10030</td>\n",
       "      <td>0.13280</td>\n",
       "      <td>0.1980</td>\n",
       "      <td>0.10430</td>\n",
       "      <td>0.1809</td>\n",
       "      <td>0.05883</td>\n",
       "      <td>...</td>\n",
       "      <td>22.54</td>\n",
       "      <td>16.67</td>\n",
       "      <td>152.20</td>\n",
       "      <td>1575.0</td>\n",
       "      <td>0.1374</td>\n",
       "      <td>0.2050</td>\n",
       "      <td>0.4000</td>\n",
       "      <td>0.1625</td>\n",
       "      <td>0.2364</td>\n",
       "      <td>0.07678</td>\n",
       "    </tr>\n",
       "  </tbody>\n",
       "</table>\n",
       "<p>5 rows × 30 columns</p>\n",
       "</div>"
      ],
      "text/plain": [
       "   mean radius  mean texture  mean perimeter  mean area  mean smoothness  \\\n",
       "0        17.99         10.38          122.80     1001.0          0.11840   \n",
       "1        20.57         17.77          132.90     1326.0          0.08474   \n",
       "2        19.69         21.25          130.00     1203.0          0.10960   \n",
       "3        11.42         20.38           77.58      386.1          0.14250   \n",
       "4        20.29         14.34          135.10     1297.0          0.10030   \n",
       "\n",
       "   mean compactness  mean concavity  mean concave points  mean symmetry  \\\n",
       "0           0.27760          0.3001              0.14710         0.2419   \n",
       "1           0.07864          0.0869              0.07017         0.1812   \n",
       "2           0.15990          0.1974              0.12790         0.2069   \n",
       "3           0.28390          0.2414              0.10520         0.2597   \n",
       "4           0.13280          0.1980              0.10430         0.1809   \n",
       "\n",
       "   mean fractal dimension  ...  worst radius  worst texture  worst perimeter  \\\n",
       "0                 0.07871  ...         25.38          17.33           184.60   \n",
       "1                 0.05667  ...         24.99          23.41           158.80   \n",
       "2                 0.05999  ...         23.57          25.53           152.50   \n",
       "3                 0.09744  ...         14.91          26.50            98.87   \n",
       "4                 0.05883  ...         22.54          16.67           152.20   \n",
       "\n",
       "   worst area  worst smoothness  worst compactness  worst concavity  \\\n",
       "0      2019.0            0.1622             0.6656           0.7119   \n",
       "1      1956.0            0.1238             0.1866           0.2416   \n",
       "2      1709.0            0.1444             0.4245           0.4504   \n",
       "3       567.7            0.2098             0.8663           0.6869   \n",
       "4      1575.0            0.1374             0.2050           0.4000   \n",
       "\n",
       "   worst concave points  worst symmetry  worst fractal dimension  \n",
       "0                0.2654          0.4601                  0.11890  \n",
       "1                0.1860          0.2750                  0.08902  \n",
       "2                0.2430          0.3613                  0.08758  \n",
       "3                0.2575          0.6638                  0.17300  \n",
       "4                0.1625          0.2364                  0.07678  \n",
       "\n",
       "[5 rows x 30 columns]"
      ]
     },
     "execution_count": 10,
     "metadata": {},
     "output_type": "execute_result"
    }
   ],
   "source": [
    "# Step 2 — Load data and quick EDA\n",
    "data = load_breast_cancer()\n",
    "X = pd.DataFrame(data.data, columns=data.feature_names)\n",
    "y = pd.Series(data.target)\n",
    "\n",
    "print(\"Features:\", X.shape)\n",
    "print(\"Classes distribution:\\n\", y.value_counts(normalize=True))\n",
    "X.head()"
   ]
  },
  {
   "cell_type": "code",
   "execution_count": 11,
   "id": "6b69e2b1-1e14-4638-872a-d0b75d6bcfe0",
   "metadata": {},
   "outputs": [
    {
     "name": "stdout",
     "output_type": "stream",
     "text": [
      "Baseline CV results (Stratified 5-fold):\n",
      "{'test_accuracy': 0.9754230709517155, 'test_precision': 0.9706808688387636, 'test_recall': 0.9915884194053209, 'test_f1': 0.9807393515600202, 'test_roc_auc': 0.99537983716251, 'fit_time': 0.007142829895019531, 'total_time_sec': 2.24}\n"
     ]
    }
   ],
   "source": [
    "# Step 3 — Create a robust evaluation function and baseline CV\n",
    "def evaluate_cv(model, X, y, cv=5):\n",
    "    scoring = ['accuracy','precision','recall','f1','roc_auc']\n",
    "    start = time()\n",
    "    scores = cross_validate(model, X, y, cv=cv, scoring=scoring, return_train_score=False, n_jobs=-1)\n",
    "    elapsed = time() - start\n",
    "    summary = {k: np.mean(v) for k, v in scores.items() if k.startswith('test_')}\n",
    "    summary['fit_time'] = np.mean(scores['fit_time'])\n",
    "    summary['total_time_sec'] = round(elapsed, 2)\n",
    "    return summary\n",
    "\n",
    "# Baseline pipeline: scaler + logistic regression (simple, interpretable baseline)\n",
    "baseline_pipe = Pipeline([\n",
    "    ('scaler', StandardScaler()),\n",
    "    ('clf', LogisticRegression(solver='liblinear', random_state=42))\n",
    "])\n",
    "\n",
    "print(\"Baseline CV results (Stratified 5-fold):\")\n",
    "print(evaluate_cv(baseline_pipe, X, y, cv=StratifiedKFold(n_splits=5, shuffle=True, random_state=42)))"
   ]
  },
  {
   "cell_type": "code",
   "execution_count": 12,
   "id": "1afd03a5-f8a1-43f9-aac5-9795054d1941",
   "metadata": {},
   "outputs": [
    {
     "name": "stdout",
     "output_type": "stream",
     "text": [
      "Train/test shapes: (455, 30) (114, 30)\n"
     ]
    }
   ],
   "source": [
    "# Step 4 — Train/test split for later holdout evaluation\n",
    "X_train, X_test, y_train, y_test = train_test_split(\n",
    "    X, y, test_size=0.20, stratify=y, random_state=42\n",
    ")\n",
    "print(\"Train/test shapes:\", X_train.shape, X_test.shape)"
   ]
  },
  {
   "cell_type": "code",
   "execution_count": 13,
   "id": "9ffe6dfb-5415-4f95-bac0-b6fbb700492d",
   "metadata": {},
   "outputs": [
    {
     "name": "stdout",
     "output_type": "stream",
     "text": [
      "Classification report (baseline on holdout):\n",
      "              precision    recall  f1-score   support\n",
      "\n",
      "           0     0.9762    0.9762    0.9762        42\n",
      "           1     0.9861    0.9861    0.9861        72\n",
      "\n",
      "    accuracy                         0.9825       114\n",
      "   macro avg     0.9812    0.9812    0.9812       114\n",
      "weighted avg     0.9825    0.9825    0.9825       114\n",
      "\n",
      "ROC AUC (holdout): 0.9957010582010581\n"
     ]
    },
    {
     "data": {
      "image/png": "[encoded data removed]",
      "text/plain": [
       "<Figure size 600x400 with 1 Axes>"
      ]
     },
     "metadata": {},
     "output_type": "display_data"
    }
   ],
   "source": [
    "# Step 5 — Quick baseline fit and test evaluation\n",
    "baseline_pipe.fit(X_train, y_train)\n",
    "y_pred = baseline_pipe.predict(X_test)\n",
    "y_proba = baseline_pipe.predict_proba(X_test)[:,1]\n",
    "\n",
    "print(\"Classification report (baseline on holdout):\")\n",
    "print(classification_report(y_test, y_pred, digits=4))\n",
    "print(\"ROC AUC (holdout):\", roc_auc_score(y_test, y_proba))\n",
    "\n",
    "# Plot ROC\n",
    "fpr, tpr, _ = roc_curve(y_test, y_proba)\n",
    "plt.figure(figsize=(6,4))\n",
    "plt.plot(fpr, tpr, label=f'Baseline (AUC={roc_auc_score(y_test, y_proba):.3f})')\n",
    "plt.plot([0,1],[0,1],'--')\n",
    "plt.xlabel('False Positive Rate')\n",
    "plt.ylabel('True Positive Rate')\n",
    "plt.title('ROC Curve - Baseline')\n",
    "plt.legend()\n",
    "plt.grid(True)\n",
    "plt.show()"
   ]
  },
  {
   "cell_type": "code",
   "execution_count": 14,
   "id": "5dde788c-02e5-49ba-8b5f-2224c2996167",
   "metadata": {},
   "outputs": [
    {
     "name": "stdout",
     "output_type": "stream",
     "text": [
      "Fitting 5 folds for each of 30 candidates, totalling 150 fits\n",
      "Best params (RandomizedSearch):\n",
      "{'clf__max_depth': 5,\n",
      " 'clf__max_features': 'sqrt',\n",
      " 'clf__min_samples_leaf': 1,\n",
      " 'clf__min_samples_split': 12,\n",
      " 'clf__n_estimators': 50}\n",
      "Best CV AUC: 0.9905572755417957\n"
     ]
    }
   ],
   "source": [
    "# Step 6 — Use RandomForest + RandomizedSearchCV to quickly explore hyperparameters\n",
    "rf_pipe = Pipeline([\n",
    "    ('scaler', StandardScaler()),    # not required for RF but keeps pipeline consistent\n",
    "    ('clf', RandomForestClassifier(random_state=42, n_jobs=-1))\n",
    "])\n",
    "param_dist = {\n",
    "    'clf__n_estimators': [50, 100, 200, 400],\n",
    "    'clf__max_depth': [None, 5, 10, 20, 30],\n",
    "    'clf__min_samples_split': [2, 4, 8, 12],\n",
    "    'clf__min_samples_leaf': [1, 2, 4, 6],\n",
    "    'clf__max_features': ['sqrt', 'log2', 0.2, 0.5, None]\n",
    "}\n",
    "rand_search = RandomizedSearchCV(\n",
    "    rf_pipe,\n",
    "    param_dist,\n",
    "    n_iter=30,\n",
    "    scoring='roc_auc',\n",
    "    cv=StratifiedKFold(n_splits=5, shuffle=True, random_state=42),\n",
    "    random_state=42,\n",
    "    n_jobs=-1,\n",
    "    verbose=1\n",
    ")\n",
    "rand_search.fit(X_train, y_train)\n",
    "print(\"Best params (RandomizedSearch):\")\n",
    "pprint(rand_search.best_params_)\n",
    "print(\"Best CV AUC:\", rand_search.best_score_)"
   ]
  },
  {
   "cell_type": "code",
   "execution_count": 15,
   "id": "ce12d3d8-7985-4a14-a31b-167396108971",
   "metadata": {},
   "outputs": [
    {
     "name": "stdout",
     "output_type": "stream",
     "text": [
      "RandomForest holdout report:\n",
      "              precision    recall  f1-score   support\n",
      "\n",
      "           0     0.9512    0.9286    0.9398        42\n",
      "           1     0.9589    0.9722    0.9655        72\n",
      "\n",
      "    accuracy                         0.9561       114\n",
      "   macro avg     0.9551    0.9504    0.9526       114\n",
      "weighted avg     0.9561    0.9561    0.9560       114\n",
      "\n",
      "ROC AUC (RF holdout): 0.9947089947089947\n"
     ]
    },
    {
     "data": {
      "image/png": "[encoded data removed]",
      "text/plain": [
       "<Figure size 600x400 with 1 Axes>"
      ]
     },
     "metadata": {},
     "output_type": "display_data"
    }
   ],
   "source": [
    "# Evaluate the best random-forest found on the holdout set\n",
    "best_rf = rand_search.best_estimator_\n",
    "y_pred_rf = best_rf.predict(X_test)\n",
    "y_proba_rf = best_rf.predict_proba(X_test)[:,1]\n",
    "\n",
    "print(\"RandomForest holdout report:\")\n",
    "print(classification_report(y_test, y_pred_rf, digits=4))\n",
    "print(\"ROC AUC (RF holdout):\", roc_auc_score(y_test, y_proba_rf))\n",
    "\n",
    "# Plot ROC of baseline vs RF\n",
    "plt.figure(figsize=(6,4))\n",
    "fpr_b, tpr_b, _ = roc_curve(y_test, baseline_pipe.predict_proba(X_test)[:,1])\n",
    "fpr_rf, tpr_rf, _ = roc_curve(y_test, y_proba_rf)\n",
    "plt.plot(fpr_b, tpr_b, label=f'Baseline LR (AUC={roc_auc_score(y_test, baseline_pipe.predict_proba(X_test)[:,1]):.3f})')\n",
    "plt.plot(fpr_rf, tpr_rf, label=f'Best RF (AUC={roc_auc_score(y_test, y_proba_rf):.3f})')\n",
    "plt.plot([0,1],[0,1],'--')\n",
    "plt.xlabel('False Positive Rate'); plt.ylabel('True Positive Rate')\n",
    "plt.title('ROC Curve: Baseline vs Tuned RF'); plt.legend(); plt.grid(True); plt.show()"
   ]
  },
  {
   "cell_type": "code",
   "execution_count": 16,
   "id": "4bc204a3-822a-43ac-8a26-875bd41f3dbe",
   "metadata": {},
   "outputs": [
    {
     "name": "stdout",
     "output_type": "stream",
     "text": [
      "Fitting 5 folds for each of 24 candidates, totalling 120 fits\n",
      "Best LR params: {'clf__C': 1, 'clf__class_weight': None, 'clf__penalty': 'l2'}\n",
      "Best LR CV AUC: 0.9959752321981423\n"
     ]
    }
   ],
   "source": [
    "# Step 7 — Grid search to finely tune Logistic Regression (smaller search space, deterministic)\n",
    "lr_pipe = Pipeline([\n",
    "    ('scaler', StandardScaler()),\n",
    "    ('clf', LogisticRegression(solver='liblinear', random_state=42, max_iter=10000))\n",
    "])\n",
    "param_grid = {\n",
    "    'clf__C': [0.001, 0.01, 0.1, 1, 10, 100],\n",
    "    'clf__penalty': ['l1', 'l2'],\n",
    "    'clf__class_weight': [None, 'balanced']\n",
    "}\n",
    "grid_lr = GridSearchCV(\n",
    "    lr_pipe,\n",
    "    param_grid,\n",
    "    scoring='roc_auc',\n",
    "    cv=StratifiedKFold(n_splits=5, shuffle=True, random_state=42),\n",
    "    n_jobs=-1,\n",
    "    verbose=1\n",
    ")\n",
    "grid_lr.fit(X_train, y_train)\n",
    "print(\"Best LR params:\", grid_lr.best_params_)\n",
    "print(\"Best LR CV AUC:\", grid_lr.best_score_)"
   ]
  },
  {
   "cell_type": "code",
   "execution_count": 17,
   "id": "ae5d5475-4acd-491f-af86-2c089235734c",
   "metadata": {},
   "outputs": [
    {
     "name": "stdout",
     "output_type": "stream",
     "text": [
      "Logistic Regression holdout report:\n",
      "              precision    recall  f1-score   support\n",
      "\n",
      "           0     0.9762    0.9762    0.9762        42\n",
      "           1     0.9861    0.9861    0.9861        72\n",
      "\n",
      "    accuracy                         0.9825       114\n",
      "   macro avg     0.9812    0.9812    0.9812       114\n",
      "weighted avg     0.9825    0.9825    0.9825       114\n",
      "\n",
      "ROC AUC (LR holdout): 0.9957010582010581\n"
     ]
    }
   ],
   "source": [
    "# Evaluate tuned LR on holdout\n",
    "best_lr = grid_lr.best_estimator_\n",
    "y_pred_lr = best_lr.predict(X_test)\n",
    "y_proba_lr = best_lr.predict_proba(X_test)[:,1]\n",
    "print(\"Logistic Regression holdout report:\")\n",
    "print(classification_report(y_test, y_pred_lr, digits=4))\n",
    "print(\"ROC AUC (LR holdout):\", roc_auc_score(y_test, y_proba_lr))"
   ]
  },
  {
   "cell_type": "code",
   "execution_count": 18,
   "id": "2d74d870-78e5-4793-985d-a607ff9e6ba6",
   "metadata": {},
   "outputs": [
    {
     "name": "stdout",
     "output_type": "stream",
     "text": [
      "Top 10 features by importance:\n",
      "worst concave points    0.129972\n",
      "worst radius            0.119609\n",
      "worst area              0.101238\n",
      "mean perimeter          0.096884\n",
      "mean concave points     0.091875\n",
      "mean concavity          0.076667\n",
      "worst perimeter         0.060767\n",
      "mean radius             0.052422\n",
      "worst concavity         0.046194\n",
      "area error              0.037343\n",
      "dtype: float64\n",
      "Selected features (median threshold): ['mean radius', 'mean perimeter', 'mean area', 'mean compactness', 'mean concavity', 'mean concave points', 'radius error', 'perimeter error', 'area error', 'worst radius', 'worst perimeter', 'worst area', 'worst compactness', 'worst concavity', 'worst concave points']\n"
     ]
    }
   ],
   "source": [
    "# Step 8 — Feature importance / selection: use the tuned RandomForest to get importances\n",
    "rf_model = best_rf.named_steps['clf']\n",
    "importances = pd.Series(rf_model.feature_importances_, index=X.columns).sort_values(ascending=False)\n",
    "print(\"Top 10 features by importance:\")\n",
    "print(importances.head(10))\n",
    "\n",
    "# Example: automatic selection via SelectFromModel\n",
    "selector = SelectFromModel(rf_model, threshold='median', prefit=True)\n",
    "selected_features = X.columns[selector.get_support()].tolist()\n",
    "print(\"Selected features (median threshold):\", selected_features)"
   ]
  },
  {
   "cell_type": "code",
   "execution_count": 19,
   "id": "36c38751-32fc-4f6c-9c72-cf5c956ce5f0",
   "metadata": {},
   "outputs": [
    {
     "name": "stderr",
     "output_type": "stream",
     "text": [
      "C:\\Users\\prati\\anaconda37\\Lib\\site-packages\\sklearn\\base.py:486: UserWarning: X has feature names, but SelectFromModel was fitted without feature names\n",
      "  warnings.warn(\n",
      "C:\\Users\\prati\\anaconda37\\Lib\\site-packages\\sklearn\\base.py:486: UserWarning: X has feature names, but SelectFromModel was fitted without feature names\n",
      "  warnings.warn(\n"
     ]
    },
    {
     "name": "stdout",
     "output_type": "stream",
     "text": [
      "Selected-features RF AUC (holdout): 0.9912367724867726\n"
     ]
    }
   ],
   "source": [
    "# Re-train a model using only selected features and check if performance holds or improves\n",
    "X_train_sel = selector.transform(X_train)\n",
    "X_test_sel = selector.transform(X_test)\n",
    "\n",
    "clf_sel = Pipeline([('scaler', StandardScaler()), ('clf', RandomForestClassifier(random_state=42, n_jobs=-1))])\n",
    "clf_sel.fit(X_train_sel, y_train)\n",
    "y_proba_sel = clf_sel.predict_proba(X_test_sel)[:,1]\n",
    "print(\"Selected-features RF AUC (holdout):\", roc_auc_score(y_test, y_proba_sel))"
   ]
  },
  {
   "cell_type": "code",
   "execution_count": 20,
   "id": "452e2548-b315-4632-a12c-0a7496217d97",
   "metadata": {},
   "outputs": [
    {
     "name": "stdout",
     "output_type": "stream",
     "text": [
      "Voting ensemble ROC AUC (holdout): 0.996362433862434\n"
     ]
    }
   ],
   "source": [
    "# Step 9 — Small ensemble: VotingClassifier combining tuned LR and tuned RF\n",
    "voting = VotingClassifier(estimators=[\n",
    "    ('lr', best_lr.named_steps['clf']),\n",
    "    ('rf', best_rf.named_steps['clf'])\n",
    "], voting='soft', n_jobs=-1)\n",
    "\n",
    "# Need to wrap voting in a pipeline if scaling required for LR\n",
    "voting_pipe = Pipeline([('scaler', StandardScaler()), ('voting', voting)])\n",
    "voting_pipe.fit(X_train, y_train)\n",
    "y_proba_v = voting_pipe.predict_proba(X_test)[:,1]\n",
    "print(\"Voting ensemble ROC AUC (holdout):\", roc_auc_score(y_test, y_proba_v))"
   ]
  },
  {
   "cell_type": "code",
   "execution_count": 21,
   "id": "886a78f1-3d1e-44b0-8b82-8049f48a1a59",
   "metadata": {},
   "outputs": [
    {
     "name": "stdout",
     "output_type": "stream",
     "text": [
      "{'baseline': 0.9957010582010581,\n",
      " 'lr_tuned': 0.9957010582010581,\n",
      " 'rf_tuned': 0.9947089947089947,\n",
      " 'selected_rf': 0.9912367724867726,\n",
      " 'voting': 0.996362433862434}\n",
      "Best on holdout: voting 0.996362433862434\n",
      "Saved best model to best_model_voting.joblib\n"
     ]
    }
   ],
   "source": [
    "# Step 10 — Save the best performing model (choose whichever has best holdout AUC)\n",
    "results = {\n",
    "    'baseline': roc_auc_score(y_test, baseline_pipe.predict_proba(X_test)[:,1]),\n",
    "    'lr_tuned': roc_auc_score(y_test, y_proba_lr),\n",
    "    'rf_tuned': roc_auc_score(y_test, y_proba_rf),\n",
    "    'selected_rf': roc_auc_score(y_test, y_proba_sel),\n",
    "    'voting': roc_auc_score(y_test, y_proba_v)\n",
    "}\n",
    "pprint(results)\n",
    "best_key = max(results, key=results.get)\n",
    "print(\"Best on holdout:\", best_key, results[best_key])\n",
    "\n",
    "# Map to estimator\n",
    "est_map = {\n",
    "    'baseline': baseline_pipe,\n",
    "    'lr_tuned': best_lr,\n",
    "    'rf_tuned': best_rf,\n",
    "    'selected_rf': clf_sel,\n",
    "    'voting': voting_pipe\n",
    "}\n",
    "best_model = est_map[best_key]\n",
    "\n",
    "joblib.dump(best_model, f'best_model_{best_key}.joblib')\n",
    "print(f\"Saved best model to best_model_{best_key}.joblib\")"
   ]
  },
  {
   "cell_type": "code",
   "execution_count": 22,
   "id": "c4d486ae-02fa-4951-813d-b0b84f22b4a1",
   "metadata": {},
   "outputs": [
    {
     "data": {
      "image/png": "[encoded data removed]",
      "text/plain": [
       "<Figure size 600x400 with 1 Axes>"
      ]
     },
     "metadata": {},
     "output_type": "display_data"
    }
   ],
   "source": [
    "# Step 11 — Quick diagnostic: plot learning curve (train vs validation score)\n",
    "from sklearn.model_selection import learning_curve\n",
    "\n",
    "def plot_learning_curve(estimator, X, y, cv, scoring='roc_auc', title='Learning curve'):\n",
    "    train_sizes, train_scores, test_scores = learning_curve(\n",
    "        estimator, X, y, cv=cv, scoring=scoring, train_sizes=np.linspace(0.1,1.0,5), n_jobs=-1\n",
    "    )\n",
    "    train_mean = train_scores.mean(axis=1)\n",
    "    test_mean = test_scores.mean(axis=1)\n",
    "    plt.figure(figsize=(6,4))\n",
    "    plt.plot(train_sizes, train_mean, 'o-', label='Train')\n",
    "    plt.plot(train_sizes, test_mean, 'o-', label='CV')\n",
    "    plt.xlabel('Train size'); plt.ylabel(scoring)\n",
    "    plt.title(title); plt.legend(); plt.grid(True); plt.show()\n",
    "plot_learning_curve(best_model, X_train, y_train, cv=StratifiedKFold(n_splits=5, shuffle=True, random_state=42),\n",
    "                    scoring='roc_auc', title='Learning Curve of Best Model')"
   ]
  },
  {
   "cell_type": "markdown",
   "id": "e967c343-7521-4bfb-8c28-743052e24c5c",
   "metadata": {},
   "source": [
    "**Short explanation of each step**\n",
    "\n",
    "- Baseline: gives a performance floor and a reproducible pipeline.\n",
    "- Stratified CV: ensures class proportions are respected during validation.\n",
    "- Pipelines: prevent data leakage (fit scaler on training folds only).\n",
    "- RandomizedSearchCV: fast exploration of large hyperparameter spaces.\n",
    "- GridSearchCV: fine-grained search for small parameter grids.\n",
    "- Feature selection: reduces overfitting, speeds training, and can improve generalization.\n",
    "- Ensembling: often gives small gains by combining complementary models.\n",
    "- Learning curve: shows if you need more data or more regularization."
   ]
  }
 ],
 "metadata": {
  "kernelspec": {
   "display_name": "Python 3 (ipykernel)",
   "language": "python",
   "name": "python3"
  },
  "language_info": {
   "codemirror_mode": {
    "name": "ipython",
    "version": 3
   },
   "file_extension": ".py",
   "mimetype": "text/x-python",
   "name": "python",
   "nbconvert_exporter": "python",
   "pygments_lexer": "ipython3",
   "version": "3.12.4"
  }
 },
 "nbformat": 4,
 "nbformat_minor": 5
}
