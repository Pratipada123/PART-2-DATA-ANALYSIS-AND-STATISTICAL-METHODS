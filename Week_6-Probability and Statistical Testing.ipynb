{
 "cells": [
  {
   "cell_type": "code",
   "execution_count": 1,
   "id": "1f7c27b3-9fa8-4765-ad22-6c6ed054760d",
   "metadata": {},
   "outputs": [],
   "source": [
    "# Week 6: Probability and Statistical Testing\n",
    "# Theory: Study probability distributions (normal, Poisson), hypothesis testing (ttest, chi-squared), and confidence intervals.\n",
    "# Hands-On: Perform hypothesis testing using SciPy, simulate probability distributions with NumPy.\n",
    "# Client Project: Perform statistical analysis for comparing two business strategies (e.g., t-test)."
   ]
  },
  {
   "cell_type": "markdown",
   "id": "500712e9-2f6a-4512-8070-e887f8a80fba",
   "metadata": {},
   "source": [
    "**Probability and Statistical Testing**"
   ]
  },
  {
   "cell_type": "markdown",
   "id": "25e2fcdf-0cf9-4546-8106-3b4a692531bf",
   "metadata": {},
   "source": [
    "- Probability: The chance of something happening. \n",
    "- (Example: Probability of getting a head when tossing a coin is 0.5 or 50%).\n",
    "\n",
    "- Statistical Testing: A method to check if the results we see in data are real or just happened by chance."
   ]
  },
  {
   "cell_type": "markdown",
   "id": "6b915c96-ffdb-463e-973c-24c0ec9d9e98",
   "metadata": {},
   "source": [
    "**1. Theory: Study probability distributions (normal, Poisson), hypothesis testing (ttest, chi-squared), and confidence intervals.**"
   ]
  },
  {
   "cell_type": "markdown",
   "id": "ded42cb7-b22f-47a3-9fb0-60d0dcb91293",
   "metadata": {},
   "source": [
    "**Probability Distributions**\n",
    "- A probability distribution tells us how probabilities are spread across values of a random variable."
   ]
  },
  {
   "cell_type": "markdown",
   "id": "682567aa-3274-435d-866c-307bd2536747",
   "metadata": {},
   "source": [
    "**(a) Normal Distribution**\n",
    "- The normal distribution is a continuous probability distribution that is symmetrical and bell-shaped.\n",
    "- Most data in nature (heights, weights, test scores, IQ scores) follows it.\n",
    "- It is defined by two parameters:\n",
    "- Mean (μ): Center of the distribution.\n",
    "- Standard deviation (σ): Spread of the data.\n",
    "  \n",
    "**Empirical Rule (68-95-99.7 Rule)**\n",
    "\n",
    "- About 68% of data falls within 1σ of mean.\n",
    "- About 95% within 2σ.\n",
    "- About 99.7% within 3σ.\n",
    "- Example: If heights are normally distributed with μ = 170 cm, σ = 10 cm:\n",
    "- 68% of people are between 160–180 cm.\n",
    "- 95% between 150–190 cm.\n",
    "- 99.7% between 140–200 cm."
   ]
  },
  {
   "cell_type": "markdown",
   "id": "52147835-7e42-47c4-8eda-ce63b45734c8",
   "metadata": {},
   "source": [
    "**(b)Poisson Distribution**\n",
    "\n",
    "- The Poisson distribution is a discrete probability distribution that models the number of times an event happens in a fixed interval of time or space.\n",
    "- Events occur independently.\n",
    "- Events occur at a constant average rate (λ).\n",
    "- Two events cannot happen at the exact same instant.\n",
    "\n",
    "**Properties**\n",
    "\n",
    "- Mean = λ\n",
    "- Variance = λ\n",
    "- Only takes non-negative integers (0, 1, 2, …).\n",
    "\n",
    "**Examples**\n",
    "\n",
    "- Number of emails you receive in an hour (λ = 10 per hour).\n",
    "- Number of typing errors on one page (λ = 2).\n",
    "- Number of accidents at a crossing per day.\n",
    "\n",
    "**Applications of Poisson Distribution**\n",
    "\n",
    "- Telecommunications: Number of phone calls received.\n",
    "- Traffic flow: Number of cars passing a toll booth.\n",
    "- Biology: Number of mutations in a DNA strand.\n",
    "- Banking: Number of customers arriving at ATM per hour."
   ]
  },
  {
   "cell_type": "markdown",
   "id": "ab584c21-9b61-4533-80ef-0ec5be8390e8",
   "metadata": {},
   "source": [
    "**Hypothesis Testing**\n",
    "\n",
    "- A statistical method used to decide whether the results from a sample provide enough evidence to support or reject a claim (assumption) about a population.\n",
    "\n",
    "**Example**\n",
    "\n",
    "- A company claims that the average battery life of their phones is 10 hours.\n",
    "- You test 30 phones and find the average = 9.5 hours, with some variation.\n",
    "\n",
    "- Question: Is this difference real, or just due to chance?\n",
    "- Steps:\n",
    "- H₀: μ = 10 hours\n",
    "- H₁: μ ≠ 10 hours\n",
    "- Perform a t-test → Suppose p = 0.03\n",
    "- Since p < 0.05, we reject H₀ → Claim is not true, battery life is significantly less than 10 hours."
   ]
  },
  {
   "cell_type": "markdown",
   "id": "a6eb3582-e796-4749-8126-81964c273398",
   "metadata": {},
   "source": [
    "**(a)t test**\n",
    "- A t-test is a statistical test used to compare the means of one or two groups to see if they are significantly different from each other.\n",
    "- It is used when:\n",
    "- Sample size is small (< 30).\n",
    "- Population standard deviation is unknown."
   ]
  },
  {
   "cell_type": "markdown",
   "id": "075002de-1fd6-464a-9d2f-d12ce4b852a7",
   "metadata": {},
   "source": [
    "**Types of t-tests**\n",
    "\n",
    "- One-Sample t-test\n",
    "\n",
    "    - Compares the sample mean with a known or hypothesized population mean.\n",
    "    \n",
    "    - Example: A factory claims the average battery life is 10 hours. You test 20 batteries → Is the average really 10?\n",
    "\n",
    "- Independent Two-Sample t-test\n",
    "\n",
    "    - Compares means of two independent groups.\n",
    "    \n",
    "    - Example: Do male and female students have different average exam scores?\n",
    "\n",
    "- Paired t-test\n",
    "\n",
    "    - Compares means of the same group before and after treatment.\n",
    "    \n",
    "    - Example: Measure patients’ blood pressure before and after taking medicine."
   ]
  },
  {
   "cell_type": "markdown",
   "id": "30de6c85-3430-4ec3-8af4-5d6c7c04eb73",
   "metadata": {},
   "source": [
    "**(b)chi-squared**\n",
    "- The Chi-Squared test is a statistical test used to see if there is a significant relationship between categorical variables, or if the observed data fits the expected data.\n",
    "\n",
    "**Types of Chi-Squared Tests**\n",
    "\n",
    "- Chi-Square Test of Independence\n",
    "\n",
    "    - Checks if two categorical variables are related.\n",
    "    - Example: Is gender (male/female) related to voting preference (party A/B)?\n",
    "\n",
    "- Chi-Square Goodness of Fit Test\n",
    "\n",
    "    - Checks if observed data matches expected distribution.\n",
    "    - Example: If a die is fair, each face should appear 1/6 of the time."
   ]
  },
  {
   "cell_type": "markdown",
   "id": "e0112c8c-9d1d-42a5-a659-e6790d4222f4",
   "metadata": {},
   "source": [
    "**Confidence Intervals**\n",
    "- A confidence interval is a range of values, calculated from sample data.\n",
    "- That is likely to contain the true population parameter (like mean or proportion) with a certain level of confidence.\n",
    "- Example: “We are 95% confident that the average height of students is between 160 cm and 170 cm.”"
   ]
  },
  {
   "cell_type": "markdown",
   "id": "22518c18-7fa5-4d64-a51b-1cec7ed594de",
   "metadata": {},
   "source": [
    "**Confidence Level**\n",
    "\n",
    "- 95% CI → Means if we repeated sampling 100 times, about 95 of the CIs would contain the true mean.\n",
    "- Common choices: 90%, 95%, 99%."
   ]
  },
  {
   "cell_type": "markdown",
   "id": "8dabce49-9091-4cc7-81fc-6a3cdb174d5f",
   "metadata": {},
   "source": [
    "- The confidence level (90%, 95%, 99%) represents how sure we are that the interval contains the true value. \n",
    "- For example, if the sample mean = 50, standard deviation = 10, n = 25, then the 95% CI is (46.08, 53.92).\n",
    "- Interpretation: We are 95% confident that the true population mean lies within this interval.\n",
    "- Confidence intervals are widely used in surveys, polls, and scientific research to provide estimates with uncertainty."
   ]
  },
  {
   "cell_type": "markdown",
   "id": "f07d8d5e-a646-4b12-ae27-e64f65371d71",
   "metadata": {},
   "source": [
    "**2. Hands-On: Perform hypothesis testing using SciPy, simulate probability distributions with NumPy.**"
   ]
  },
  {
   "cell_type": "code",
   "execution_count": 3,
   "id": "0f06e3c9-c93d-4812-87e3-763c4761c75e",
   "metadata": {},
   "outputs": [
    {
     "data": {
      "text/plain": [
       "Generator(PCG64) at 0x1F9B339ECE0"
      ]
     },
     "execution_count": 3,
     "metadata": {},
     "output_type": "execute_result"
    }
   ],
   "source": [
    "# If needed (usually in a new environment):\n",
    "# pip install numpy scipy matplotlib\n",
    "\n",
    "import numpy as np\n",
    "import matplotlib.pyplot as plt\n",
    "from scipy import stats\n",
    "\n",
    "# Reproducibility so your numbers match each run\n",
    "rng = np.random.default_rng(42)\n",
    "rng"
   ]
  },
  {
   "cell_type": "markdown",
   "id": "e2208f94-774c-4634-b829-e3969836b307",
   "metadata": {},
   "source": [
    "**Simulate a Normal distribution (NumPy)**\n",
    "\n",
    "- Goal: Create synthetic data that follows a bell curve (Normal(μ=50, σ=10)).\n",
    "- What to look for: A smooth, symmetric histogram centered near 50."
   ]
  },
  {
   "cell_type": "code",
   "execution_count": 4,
   "id": "aef137f5-2ec3-4cc1-ac3b-e91a5f2adc15",
   "metadata": {},
   "outputs": [
    {
     "name": "stdout",
     "output_type": "stream",
     "text": [
      "Normal: mean≈49.45, std≈10.02\n"
     ]
    },
    {
     "data": {
      "image/png": "[encoded data removed]",
      "text/plain": [
       "<Figure size 640x480 with 1 Axes>"
      ]
     },
     "metadata": {},
     "output_type": "display_data"
    }
   ],
   "source": [
    "# PARAMETERS\n",
    "mu, sigma, n = 50, 10, 2000\n",
    "\n",
    "# SIMULATE\n",
    "normal_data = rng.normal(loc=mu, scale=sigma, size=n)\n",
    "\n",
    "# QUICK STATS\n",
    "print(f\"Normal: mean≈{normal_data.mean():.2f}, std≈{normal_data.std(ddof=1):.2f}\")\n",
    "\n",
    "# PLOT (one plot, no custom colors)\n",
    "plt.figure()\n",
    "plt.hist(normal_data, bins=30, density=True, alpha=0.6)\n",
    "xs = np.linspace(normal_data.min(), normal_data.max(), 400)\n",
    "plt.plot(xs, stats.norm.pdf(xs, loc=mu, scale=sigma))\n",
    "plt.title(\"Normal(μ=50, σ=10): Histogram + Theoretical PDF\")\n",
    "plt.xlabel(\"Value\"); plt.ylabel(\"Density\")\n",
    "plt.show()"
   ]
  },
  {
   "cell_type": "markdown",
   "id": "f15c922c-61d3-48ba-9559-8dc4f138b50d",
   "metadata": {},
   "source": [
    "**Simulate a Poisson distribution (NumPy)**\n",
    "\n",
    "- Goal: Create count data with average rate λ=5.\n",
    "- What to look for: Bar plot with most mass around 5; mean ≈ variance ≈ λ."
   ]
  },
  {
   "cell_type": "code",
   "execution_count": 5,
   "id": "a559aa44-2927-49ab-9d5c-7cde5749fd02",
   "metadata": {},
   "outputs": [
    {
     "name": "stdout",
     "output_type": "stream",
     "text": [
      "Poisson: mean≈4.95, var≈5.10\n"
     ]
    },
    {
     "data": {
      "image/png": "[encoded data removed]",
      "text/plain": [
       "<Figure size 640x480 with 1 Axes>"
      ]
     },
     "metadata": {},
     "output_type": "display_data"
    }
   ],
   "source": [
    "# PARAMETERS\n",
    "lam, n_pois = 5, 2000\n",
    "\n",
    "# SIMULATE\n",
    "poisson_data = rng.poisson(lam=lam, size=n_pois)\n",
    "\n",
    "# QUICK STATS\n",
    "print(f\"Poisson: mean≈{poisson_data.mean():.2f}, var≈{poisson_data.var(ddof=1):.2f}\")\n",
    "\n",
    "# EMPIRICAL PMF vs THEORETICAL PMF\n",
    "vals, counts = np.unique(poisson_data, return_counts=True)\n",
    "emp_pmf = counts / n_pois\n",
    "k = np.arange(vals.min(), vals.max()+1)\n",
    "\n",
    "plt.figure()\n",
    "plt.bar(vals, emp_pmf, width=0.9, alpha=0.6, label=\"Empirical PMF\")\n",
    "plt.plot(k, stats.poisson.pmf(k, mu=lam), marker='o', label=\"Theoretical PMF\")\n",
    "plt.title(\"Poisson(λ=5): Empirical vs Theoretical PMF\")\n",
    "plt.xlabel(\"k (count)\"); plt.ylabel(\"Probability\")\n",
    "plt.legend()\n",
    "plt.show()"
   ]
  },
  {
   "cell_type": "markdown",
   "id": "6f74c444-710e-4d6a-a64f-852b0678bd6e",
   "metadata": {},
   "source": [
    "**One-sample t-test (SciPy)**\n",
    "\n",
    "- Question: Is the mean of normal_data equal to 50?\n",
    "- Hypotheses:\n",
    "- H₀: μ = 50\n",
    "- H₁: μ ≠ 50\n",
    "- Decision rule: p < 0.05 ⇒ reject H₀ (significant difference)."
   ]
  },
  {
   "cell_type": "code",
   "execution_count": 6,
   "id": "67ac6bb2-bfd0-4d33-aff0-c232c3617ad2",
   "metadata": {},
   "outputs": [
    {
     "name": "stdout",
     "output_type": "stream",
     "text": [
      "One-sample t-test vs 50: t=-2.461, p=0.0140\n",
      "Decision: Reject H0\n"
     ]
    }
   ],
   "source": [
    "t_stat, p_val = stats.ttest_1samp(normal_data, popmean=50)\n",
    "print(f\"One-sample t-test vs 50: t={t_stat:.3f}, p={p_val:.4f}\")\n",
    "print(\"Decision:\", \"Reject H0\" if p_val < 0.05 else \"Fail to reject H0\")"
   ]
  },
  {
   "cell_type": "markdown",
   "id": "8649dea5-e743-4932-8946-60ef3f8aa366",
   "metadata": {},
   "source": [
    "**Two-sample (Welch) t-test (SciPy)**\n",
    "\n",
    "- Question: Do two groups have different means?\n",
    "- Hypotheses:\n",
    "    - H₀: μ₁ = μ₂\n",
    "\n",
    "    - H₁: μ₁ ≠ μ₂"
   ]
  },
  {
   "cell_type": "code",
   "execution_count": 7,
   "id": "3531f90f-3c58-4b7f-9056-82d6ca049b11",
   "metadata": {},
   "outputs": [
    {
     "name": "stdout",
     "output_type": "stream",
     "text": [
      "Welch two-sample t-test: t=-2.761, p=0.0072\n",
      "Decision: Reject H0\n"
     ]
    }
   ],
   "source": [
    "# SIMULATE TWO GROUPS (different means)\n",
    "groupA = rng.normal(loc=75, scale=10, size=40)\n",
    "groupB = rng.normal(loc=80, scale=12, size=45)\n",
    "\n",
    "t_stat, p_val = stats.ttest_ind(groupA, groupB, equal_var=False)  # Welch's t-test\n",
    "print(f\"Welch two-sample t-test: t={t_stat:.3f}, p={p_val:.4f}\")\n",
    "print(\"Decision:\", \"Reject H0\" if p_val < 0.05 else \"Fail to reject H0\")"
   ]
  },
  {
   "cell_type": "markdown",
   "id": "0c4d928a-8d59-4b23-b17c-81a318824d4c",
   "metadata": {},
   "source": [
    "**Chi-square goodness-of-fit (SciPy)**\n",
    "\n",
    "- Question: Does observed categorical data match an expected distribution?\n",
    "- Example: Fair die in 60 rolls (expected 10 each)."
   ]
  },
  {
   "cell_type": "code",
   "execution_count": 8,
   "id": "38dad984-77b2-4a9d-975f-7c077d6d8135",
   "metadata": {},
   "outputs": [
    {
     "name": "stdout",
     "output_type": "stream",
     "text": [
      "Chi-square GOF (fair die): χ²=1.000, p=0.9626\n",
      "Decision: Fail to reject H0 (no evidence of unfairness)\n"
     ]
    }
   ],
   "source": [
    "observed = np.array([10, 12, 8, 11, 9, 10])\n",
    "expected = np.full(6, 10)\n",
    "\n",
    "chi2, p_val = stats.chisquare(f_obs=observed, f_exp=expected)\n",
    "print(f\"Chi-square GOF (fair die): χ²={chi2:.3f}, p={p_val:.4f}\")\n",
    "print(\"Decision:\", \"Reject H0 (not fair)\" if p_val < 0.05 else \"Fail to reject H0 (no evidence of unfairness)\")"
   ]
  },
  {
   "cell_type": "markdown",
   "id": "e9476b05-d19c-4a2e-b69e-7410e766d60f",
   "metadata": {},
   "source": [
    "**Chi-square test of independence (SciPy)**\n",
    "\n",
    "- Question: Are two categorical variables associated?\n",
    "- Example: Campaign (A/B) vs Purchase (Yes/No)."
   ]
  },
  {
   "cell_type": "code",
   "execution_count": 9,
   "id": "509ecd28-64ff-42e3-b029-effcef702962",
   "metadata": {},
   "outputs": [
    {
     "name": "stdout",
     "output_type": "stream",
     "text": [
      "Chi-square Independence: χ²=2.829, df=1, p=0.0926\n",
      "Expected counts:\n",
      " [[34.09 15.91]\n",
      " [40.91 19.09]]\n",
      "Decision: Fail to reject H0 (no evidence of association)\n"
     ]
    }
   ],
   "source": [
    "# Contingency table:\n",
    "# rows = Campaign A, Campaign B; columns = Yes, No\n",
    "table = np.array([[30, 20],\n",
    "                  [45, 15]])\n",
    "\n",
    "chi2, p_val, dof, expected = stats.chi2_contingency(table, correction=False)\n",
    "print(f\"Chi-square Independence: χ²={chi2:.3f}, df={dof}, p={p_val:.4f}\")\n",
    "print(\"Expected counts:\\n\", np.round(expected, 2))\n",
    "print(\"Decision:\", \"Reject H0 (association present)\" if p_val < 0.05 else \"Fail to reject H0 (no evidence of association)\")"
   ]
  },
  {
   "cell_type": "markdown",
   "id": "aa8e3a80-a58e-4ee8-b6d6-110adc38246d",
   "metadata": {},
   "source": [
    "**3. Client Project: Perform statistical analysis for comparing two business\n",
    "strategies (e.g., t-test).**"
   ]
  },
  {
   "cell_type": "markdown",
   "id": "daa93059-d735-44d0-b82f-a9019db8e3db",
   "metadata": {},
   "source": [
    "**Import Packages**"
   ]
  },
  {
   "cell_type": "code",
   "execution_count": 29,
   "id": "52fb4547-5e00-4886-9a32-df8713321734",
   "metadata": {},
   "outputs": [],
   "source": [
    "import numpy as np\n",
    "import pandas as pd\n",
    "import matplotlib.pyplot as plt\n",
    "from scipy import stats"
   ]
  },
  {
   "cell_type": "markdown",
   "id": "79120db6-aa3e-4ee5-bec6-3f56e0fc1798",
   "metadata": {},
   "source": [
    "**load CSV**"
   ]
  },
  {
   "cell_type": "code",
   "execution_count": 26,
   "id": "a2f3168c-a949-4e57-a244-79ce6dfb4ac6",
   "metadata": {},
   "outputs": [
    {
     "data": {
      "text/html": [
       "<div>\n",
       "<style scoped>\n",
       "    .dataframe tbody tr th:only-of-type {\n",
       "        vertical-align: middle;\n",
       "    }\n",
       "\n",
       "    .dataframe tbody tr th {\n",
       "        vertical-align: top;\n",
       "    }\n",
       "\n",
       "    .dataframe thead th {\n",
       "        text-align: right;\n",
       "    }\n",
       "</style>\n",
       "<table border=\"1\" class=\"dataframe\">\n",
       "  <thead>\n",
       "    <tr style=\"text-align: right;\">\n",
       "      <th></th>\n",
       "      <th>user_id</th>\n",
       "      <th>group</th>\n",
       "      <th>revenue</th>\n",
       "    </tr>\n",
       "  </thead>\n",
       "  <tbody>\n",
       "    <tr>\n",
       "      <th>0</th>\n",
       "      <td>1</td>\n",
       "      <td>A</td>\n",
       "      <td>47.021</td>\n",
       "    </tr>\n",
       "    <tr>\n",
       "      <th>1</th>\n",
       "      <td>2</td>\n",
       "      <td>A</td>\n",
       "      <td>68.128</td>\n",
       "    </tr>\n",
       "    <tr>\n",
       "      <th>2</th>\n",
       "      <td>3</td>\n",
       "      <td>A</td>\n",
       "      <td>53.545</td>\n",
       "    </tr>\n",
       "    <tr>\n",
       "      <th>3</th>\n",
       "      <td>4</td>\n",
       "      <td>A</td>\n",
       "      <td>55.424</td>\n",
       "    </tr>\n",
       "    <tr>\n",
       "      <th>4</th>\n",
       "      <td>5</td>\n",
       "      <td>A</td>\n",
       "      <td>65.676</td>\n",
       "    </tr>\n",
       "    <tr>\n",
       "      <th>...</th>\n",
       "      <td>...</td>\n",
       "      <td>...</td>\n",
       "      <td>...</td>\n",
       "    </tr>\n",
       "    <tr>\n",
       "      <th>195</th>\n",
       "      <td>196</td>\n",
       "      <td>B</td>\n",
       "      <td>67.292</td>\n",
       "    </tr>\n",
       "    <tr>\n",
       "      <th>196</th>\n",
       "      <td>197</td>\n",
       "      <td>B</td>\n",
       "      <td>36.469</td>\n",
       "    </tr>\n",
       "    <tr>\n",
       "      <th>197</th>\n",
       "      <td>198</td>\n",
       "      <td>B</td>\n",
       "      <td>29.891</td>\n",
       "    </tr>\n",
       "    <tr>\n",
       "      <th>198</th>\n",
       "      <td>199</td>\n",
       "      <td>B</td>\n",
       "      <td>77.277</td>\n",
       "    </tr>\n",
       "    <tr>\n",
       "      <th>199</th>\n",
       "      <td>200</td>\n",
       "      <td>B</td>\n",
       "      <td>86.962</td>\n",
       "    </tr>\n",
       "  </tbody>\n",
       "</table>\n",
       "<p>200 rows × 3 columns</p>\n",
       "</div>"
      ],
      "text/plain": [
       "     user_id group  revenue\n",
       "0          1     A   47.021\n",
       "1          2     A   68.128\n",
       "2          3     A   53.545\n",
       "3          4     A   55.424\n",
       "4          5     A   65.676\n",
       "..       ...   ...      ...\n",
       "195      196     B   67.292\n",
       "196      197     B   36.469\n",
       "197      198     B   29.891\n",
       "198      199     B   77.277\n",
       "199      200     B   86.962\n",
       "\n",
       "[200 rows x 3 columns]"
      ]
     },
     "execution_count": 26,
     "metadata": {},
     "output_type": "execute_result"
    }
   ],
   "source": [
    "# load csv\n",
    "df = pd.read_csv(r\"C:\\Users\\prati\\OneDrive\\Datafiles\\test_data.csv\")\n",
    "df"
   ]
  },
  {
   "cell_type": "markdown",
   "id": "8072a71f-48c9-49b9-9d68-3cf090866903",
   "metadata": {},
   "source": [
    "**Sanity checks**"
   ]
  },
  {
   "cell_type": "code",
   "execution_count": 30,
   "id": "b6d8790f-e0cb-47eb-882f-ac1fc4a08ddc",
   "metadata": {},
   "outputs": [
    {
     "name": "stdout",
     "output_type": "stream",
     "text": [
      "Shape: (200, 3)\n",
      "\n",
      "Info:\n",
      "<class 'pandas.core.frame.DataFrame'>\n",
      "RangeIndex: 200 entries, 0 to 199\n",
      "Data columns (total 3 columns):\n",
      " #   Column   Non-Null Count  Dtype  \n",
      "---  ------   --------------  -----  \n",
      " 0   user_id  200 non-null    int64  \n",
      " 1   group    200 non-null    object \n",
      " 2   revenue  200 non-null    float64\n",
      "dtypes: float64(1), int64(1), object(1)\n",
      "memory usage: 4.8+ KB\n",
      "None\n",
      "\n",
      "Missing values per column:\n",
      "user_id    0\n",
      "group      0\n",
      "revenue    0\n",
      "dtype: int64\n",
      "\n",
      "Group counts:\n",
      "group\n",
      "A    100\n",
      "B    100\n",
      "Name: count, dtype: int64\n",
      "\n",
      "Duplicate user_id rows: 0\n"
     ]
    }
   ],
   "source": [
    "# check the sanity\n",
    "print(\"Shape:\", df.shape)\n",
    "print(\"\\nInfo:\")\n",
    "print(df.info())\n",
    "print(\"\\nMissing values per column:\")\n",
    "print(df.isna().sum())\n",
    "\n",
    "print(\"\\nGroup counts:\")\n",
    "print(df[\"group\"].value_counts())\n",
    "\n",
    "# check duplicate user_ids\n",
    "dupes = df[\"user_id\"].duplicated().sum()\n",
    "print(f\"\\nDuplicate user_id rows: {dupes}\")"
   ]
  },
  {
   "cell_type": "markdown",
   "id": "0f8f8967-4729-4151-9f50-7d971e5d9764",
   "metadata": {},
   "source": [
    "**Descriptive statistics by group**"
   ]
  },
  {
   "cell_type": "code",
   "execution_count": 32,
   "id": "59aee3ed-0724-4ee9-8b70-8bf2541c6b69",
   "metadata": {},
   "outputs": [
    {
     "data": {
      "text/html": [
       "<div>\n",
       "<style scoped>\n",
       "    .dataframe tbody tr th:only-of-type {\n",
       "        vertical-align: middle;\n",
       "    }\n",
       "\n",
       "    .dataframe tbody tr th {\n",
       "        vertical-align: top;\n",
       "    }\n",
       "\n",
       "    .dataframe thead th {\n",
       "        text-align: right;\n",
       "    }\n",
       "</style>\n",
       "<table border=\"1\" class=\"dataframe\">\n",
       "  <thead>\n",
       "    <tr style=\"text-align: right;\">\n",
       "      <th></th>\n",
       "      <th>mean</th>\n",
       "      <th>median</th>\n",
       "      <th>std</th>\n",
       "      <th>count</th>\n",
       "      <th>min</th>\n",
       "      <th>max</th>\n",
       "    </tr>\n",
       "    <tr>\n",
       "      <th>group</th>\n",
       "      <th></th>\n",
       "      <th></th>\n",
       "      <th></th>\n",
       "      <th></th>\n",
       "      <th></th>\n",
       "      <th></th>\n",
       "    </tr>\n",
       "  </thead>\n",
       "  <tbody>\n",
       "    <tr>\n",
       "      <th>A</th>\n",
       "      <td>50.407</td>\n",
       "      <td>50.361</td>\n",
       "      <td>10.077</td>\n",
       "      <td>100</td>\n",
       "      <td>22.380</td>\n",
       "      <td>75.384</td>\n",
       "    </tr>\n",
       "    <tr>\n",
       "      <th>B</th>\n",
       "      <td>55.452</td>\n",
       "      <td>55.762</td>\n",
       "      <td>13.100</td>\n",
       "      <td>100</td>\n",
       "      <td>13.968</td>\n",
       "      <td>86.962</td>\n",
       "    </tr>\n",
       "  </tbody>\n",
       "</table>\n",
       "</div>"
      ],
      "text/plain": [
       "        mean  median    std  count    min    max\n",
       "group                                           \n",
       "A     50.407  50.361 10.077    100 22.380 75.384\n",
       "B     55.452  55.762 13.100    100 13.968 86.962"
      ]
     },
     "execution_count": 32,
     "metadata": {},
     "output_type": "execute_result"
    }
   ],
   "source": [
    "desc = df.groupby(\"group\")[\"revenue\"].agg(\n",
    "    mean=\"mean\", median=\"median\", std=\"std\", count=\"count\", min=\"min\", max=\"max\")\n",
    "desc"
   ]
  },
  {
   "cell_type": "markdown",
   "id": "db3c86e4-ed88-4f78-9c60-e2c8c6cec003",
   "metadata": {},
   "source": [
    "**Visual comparison (boxplot)**"
   ]
  },
  {
   "cell_type": "code",
   "execution_count": 33,
   "id": "d6e594a1-d70a-41d1-a317-c5b28f204902",
   "metadata": {},
   "outputs": [
    {
     "data": {
      "image/png": "[encoded data removed]",
      "text/plain": [
       "<Figure size 640x480 with 1 Axes>"
      ]
     },
     "metadata": {},
     "output_type": "display_data"
    }
   ],
   "source": [
    "# box plot\n",
    "df.boxplot(column=\"revenue\", by=\"group\")\n",
    "plt.title(\"Revenue Comparison: Strategy A vs B\")\n",
    "plt.suptitle(\"\")  # remove automatic subtitle\n",
    "plt.xlabel(\"Strategy (group)\")\n",
    "plt.ylabel(\"Revenue\")\n",
    "plt.show()"
   ]
  },
  {
   "cell_type": "markdown",
   "id": "7a03757e-6fde-41c7-aaa7-f40f4b574ab8",
   "metadata": {},
   "source": [
    "**Assumption checks**\n",
    "- Normality (per group)"
   ]
  },
  {
   "cell_type": "code",
   "execution_count": 34,
   "id": "ffc30b72-dba0-4891-a7b2-d4136ed8cbbd",
   "metadata": {},
   "outputs": [
    {
     "name": "stdout",
     "output_type": "stream",
     "text": [
      "Shapiro-Wilk A: stat=0.983, p=0.2458\n",
      "Shapiro-Wilk B: stat=0.994, p=0.9497\n"
     ]
    }
   ],
   "source": [
    "# normality\n",
    "group_a = df.loc[df[\"group\"]==\"A\", \"revenue\"].values\n",
    "group_b = df.loc[df[\"group\"]==\"B\", \"revenue\"].values\n",
    "\n",
    "shapiro_a = stats.shapiro(group_a)\n",
    "shapiro_b = stats.shapiro(group_b)\n",
    "\n",
    "print(f\"Shapiro-Wilk A: stat={shapiro_a.statistic:.3f}, p={shapiro_a.pvalue:.4f}\")\n",
    "print(f\"Shapiro-Wilk B: stat={shapiro_b.statistic:.3f}, p={shapiro_b.pvalue:.4f}\")"
   ]
  },
  {
   "cell_type": "markdown",
   "id": "435afdf4-5e13-4abc-b5f3-3bec22d9e01d",
   "metadata": {},
   "source": [
    "- Equal variances (Levene’s test)"
   ]
  },
  {
   "cell_type": "code",
   "execution_count": 35,
   "id": "4b14ffd3-8d0a-4bc8-aea0-637d5f496eab",
   "metadata": {},
   "outputs": [
    {
     "name": "stdout",
     "output_type": "stream",
     "text": [
      "Levene's test: stat=6.519, p=0.0114\n"
     ]
    },
    {
     "data": {
      "text/plain": [
       "False"
      ]
     },
     "execution_count": 35,
     "metadata": {},
     "output_type": "execute_result"
    }
   ],
   "source": [
    "# equal variances\n",
    "lev_stat, lev_p = stats.levene(group_a, group_b, center=\"median\")\n",
    "print(f\"Levene's test: stat={lev_stat:.3f}, p={lev_p:.4f}\")\n",
    "use_equal_var = lev_p >= 0.05  # True if variances are not significantly different\n",
    "use_equal_var"
   ]
  },
  {
   "cell_type": "markdown",
   "id": "126c06de-786c-477a-bed6-cb4ee52576b5",
   "metadata": {},
   "source": [
    "**Run the t-test**"
   ]
  },
  {
   "cell_type": "code",
   "execution_count": 37,
   "id": "5fcbc166-ec7b-406f-9140-66698ffcd758",
   "metadata": {},
   "outputs": [
    {
     "name": "stdout",
     "output_type": "stream",
     "text": [
      "t = -3.052, p = 0.002604\n"
     ]
    }
   ],
   "source": [
    "# t-test (safe default): equal_var=False\n",
    "t_stat, p_val = stats.ttest_ind(group_a, group_b, equal_var=False)\n",
    "print(f\"t = {t_stat:.3f}, p = {p_val:.6f}\")"
   ]
  },
  {
   "cell_type": "markdown",
   "id": "99757979-b231-4638-8ec5-936c395e6c66",
   "metadata": {},
   "source": [
    "**Effect size + 95% CI of mean difference**"
   ]
  },
  {
   "cell_type": "code",
   "execution_count": 38,
   "id": "a963d665-ba02-42e9-9f17-e67e8e5f053b",
   "metadata": {},
   "outputs": [
    {
     "name": "stdout",
     "output_type": "stream",
     "text": [
      "Mean A = 50.407, Mean B = 55.452\n",
      "Mean difference (B - A) = 5.045\n",
      "95% CI for difference = [1.784, 8.305]  (df≈185.78)\n",
      "Cohen's d = 0.432, Hedges' g = 0.430\n"
     ]
    }
   ],
   "source": [
    "# Mean difference (B - A)\n",
    "mean_a, mean_b = np.mean(group_a), np.mean(group_b)\n",
    "diff = mean_b - mean_a\n",
    "\n",
    "# Standard errors for Welch CI\n",
    "s1_sq = np.var(group_a, ddof=1)\n",
    "s2_sq = np.var(group_b, ddof=1)\n",
    "n1, n2  = len(group_a), len(group_b)\n",
    "se_diff = np.sqrt(s1_sq/n1 + s2_sq/n2)\n",
    "\n",
    "# Welch-Satterthwaite degrees of freedom\n",
    "df_welch = (s1_sq/n1 + s2_sq/n2)**2 / ((s1_sq**2)/((n1**2)*(n1-1)) + (s2_sq**2)/((n2**2)*(n2-1)))\n",
    "\n",
    "# 95% CI\n",
    "alpha = 0.05\n",
    "t_crit = stats.t.ppf(1 - alpha/2, df_welch)\n",
    "ci_low, ci_high = diff - t_crit*se_diff, diff + t_crit*se_diff\n",
    "\n",
    "# Effect size: Cohen's d and Hedges' g\n",
    "sp = np.sqrt(((n1-1)*s1_sq + (n2-1)*s2_sq) / (n1 + n2 - 2))   # pooled SD\n",
    "cohens_d = diff / sp\n",
    "J = 1 - 3 / (4*(n1 + n2) - 9)                                  # small-sample correction\n",
    "hedges_g = cohens_d * J\n",
    "\n",
    "print(f\"Mean A = {mean_a:.3f}, Mean B = {mean_b:.3f}\")\n",
    "print(f\"Mean difference (B - A) = {diff:.3f}\")\n",
    "print(f\"95% CI for difference = [{ci_low:.3f}, {ci_high:.3f}]  (df≈{df_welch:.2f})\")\n",
    "print(f\"Cohen's d = {cohens_d:.3f}, Hedges' g = {hedges_g:.3f}\")"
   ]
  },
  {
   "cell_type": "markdown",
   "id": "09989530-f68c-461b-8a86-c1edfa730b56",
   "metadata": {},
   "source": [
    "**Decision & business interpretation (auto-print)**"
   ]
  },
  {
   "cell_type": "code",
   "execution_count": 41,
   "id": "c6b10403-0143-4ad1-bebb-f9d93ce1b704",
   "metadata": {},
   "outputs": [
    {
     "name": "stdout",
     "output_type": "stream",
     "text": [
      "---------- RESULT ----------\n",
      "Test: Welch's t-test (equal_var=False)\n",
      "t = -3.052, df ≈ 185.78, p = 0.002604\n",
      "Decision @ α=0.05: Reject H0 (significant difference)\n",
      "Interpretation: On average, Strategy B is 5.04 units higher than Strategy A [95% CI 1.78 to 8.31].\n",
      "Effect size (Hedges' g): 0.43 → small practical impact.\n"
     ]
    }
   ],
   "source": [
    "# Decision & business interpretation (auto-print)\n",
    "alpha = 0.05\n",
    "decision = \"Reject H0 (significant difference)\" if p_val < alpha else \"Fail to reject H0 (no significant difference)\"\n",
    "\n",
    "print(\"---------- RESULT ----------\")\n",
    "print(f\"Test: Welch's t-test (equal_var=False)\")\n",
    "print(f\"t = {t_stat:.3f}, df ≈ {df_welch:.2f}, p = {p_val:.6f}\")\n",
    "print(f\"Decision @ α={alpha}: {decision}\")\n",
    "print(f\"Interpretation: On average, Strategy B is {diff:.2f} units \"\n",
    "      f\"{'higher' if diff>0 else 'lower'} than Strategy A \"\n",
    "      f\"[95% CI {ci_low:.2f} to {ci_high:.2f}].\")\n",
    "print(f\"Effect size (Hedges' g): {hedges_g:.2f} \"\n",
    "      f\"→ {'small' if abs(hedges_g)<0.5 else 'moderate' if abs(hedges_g)<0.8 else 'large'} practical impact.\")"
   ]
  }
 ],
 "metadata": {
  "kernelspec": {
   "display_name": "Python 3 (ipykernel)",
   "language": "python",
   "name": "python3"
  },
  "language_info": {
   "codemirror_mode": {
    "name": "ipython",
    "version": 3
   },
   "file_extension": ".py",
   "mimetype": "text/x-python",
   "name": "python",
   "nbconvert_exporter": "python",
   "pygments_lexer": "ipython3",
   "version": "3.12.4"
  }
 },
 "nbformat": 4,
 "nbformat_minor": 5
}
